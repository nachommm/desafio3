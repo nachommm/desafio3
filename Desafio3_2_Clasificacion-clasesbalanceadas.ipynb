{
 "cells": [
  {
   "cell_type": "markdown",
   "metadata": {},
   "source": [
    "<h2>Desafio 3 - Machine Learning</h2>\n",
    "\n",
    "<h4>Objetivo</h4>\n",
    "Construir un modelo de clasificación (Aprendizaje supervisado> clasificación) a partir de un dataset seleccionado.\n",
    "\n",
    "<h3>Grupo 7</h3>\n",
    "<ul>\n",
    "    <li>Ignacio Mendieta</li>\n",
    "    <li>Laura Jazmín Chao</li>\n",
    "    <li>Juan Nicolás Capistrano</li>\n",
    "    <li>Betiana Srur</li>\n",
    "    <li>Marecelo Carrizo</li>\n",
    "    \n",
    "</ul>\n",
    "<h3>Parte II - Clasificación"
   ]
  },
  {
   "cell_type": "markdown",
   "metadata": {},
   "source": [
    "<a id=\"section_toc\"></a> \n",
    "<h2> Tabla de Contenidos </h2>\n",
    "\n",
    "[Librerías](#section_import)\n",
    "\n",
    "[Dataset](#section_dataset)\n",
    "\n",
    "[Selección de géneros](#section_genre_selection)\n",
    "\n",
    "[Exploración de palabras representativas](#section_words)\n",
    "\n",
    "[Nubes de palabras](#section_wordcloud)\n",
    "\n",
    "[Encoder de targets](#section_ordinalEncoder)\n",
    "\n",
    "[Stemmer](#section_stemmer)\n",
    "\n",
    "[División de sets de entrenamiento y testeo](#section_train_test_split)\n",
    "\n",
    "[Primera prueba de clasificación](#section_clf_1)\n",
    "\n",
    "[Pipeline y GridSearch](#section_clf_pipeline)\n",
    "\n",
    "$\\hspace{.5cm}$[1. Logistic Regression](#section_logreg)\n",
    "\n",
    "$\\hspace{.5cm}$[2. Mulyinomial NB](#section_multiNB)\n"
   ]
  },
  {
   "cell_type": "markdown",
   "metadata": {},
   "source": [
    "<a id=\"section_import\"></a> \n",
    "<h3>Librerías</h3>\n",
    "\n",
    "[volver a TOC](#section_toc)"
   ]
  },
  {
   "cell_type": "code",
   "execution_count": 1,
   "metadata": {},
   "outputs": [],
   "source": [
    "import pandas as pd\n",
    "import numpy as np\n",
    "\n",
    "import seaborn as sns\n",
    "import matplotlib.pyplot as plt\n",
    "%matplotlib inline\n",
    "\n",
    "from sklearn.model_selection import train_test_split, StratifiedKFold, GridSearchCV, StratifiedShuffleSplit\n",
    "from sklearn.feature_extraction.text import TfidfVectorizer, CountVectorizer\n",
    "from sklearn.naive_bayes import MultinomialNB\n",
    "from sklearn.metrics import accuracy_score, confusion_matrix, classification_report\n",
    "\n",
    "import unidecode\n",
    "from nltk.corpus import stopwords \n",
    "stop_words = stopwords.words('english');\n",
    "\n",
    "from wordcloud import WordCloud, STOPWORDS"
   ]
  },
  {
   "cell_type": "code",
   "execution_count": 2,
   "metadata": {},
   "outputs": [],
   "source": [
    "pd.set_option('display.max_columns', 100) # Para mostrar todas las columnas\n",
    "# pd.set_option('display.max_rows', 100) # Para mostrar todas las filas"
   ]
  },
  {
   "cell_type": "markdown",
   "metadata": {},
   "source": [
    "<a id=\"section_dataset\"></a> \n",
    "<h3>Dataset</h3>\n",
    "\n",
    "[volver a TOC](#section_toc)"
   ]
  },
  {
   "cell_type": "code",
   "execution_count": 3,
   "metadata": {},
   "outputs": [
    {
     "data": {
      "text/html": [
       "<div>\n",
       "<style scoped>\n",
       "    .dataframe tbody tr th:only-of-type {\n",
       "        vertical-align: middle;\n",
       "    }\n",
       "\n",
       "    .dataframe tbody tr th {\n",
       "        vertical-align: top;\n",
       "    }\n",
       "\n",
       "    .dataframe thead th {\n",
       "        text-align: right;\n",
       "    }\n",
       "</style>\n",
       "<table border=\"1\" class=\"dataframe\">\n",
       "  <thead>\n",
       "    <tr style=\"text-align: right;\">\n",
       "      <th></th>\n",
       "      <th>description_clean</th>\n",
       "      <th>genre_unique</th>\n",
       "    </tr>\n",
       "  </thead>\n",
       "  <tbody>\n",
       "    <tr>\n",
       "      <th>0</th>\n",
       "      <td>the adventures of a female reporter in the 1890s</td>\n",
       "      <td>romance</td>\n",
       "    </tr>\n",
       "    <tr>\n",
       "      <th>1</th>\n",
       "      <td>true story of notorious australian outlaw ned ...</td>\n",
       "      <td>biography</td>\n",
       "    </tr>\n",
       "    <tr>\n",
       "      <th>2</th>\n",
       "      <td>the fabled queen of egypts affair with roman g...</td>\n",
       "      <td>drama</td>\n",
       "    </tr>\n",
       "    <tr>\n",
       "      <th>3</th>\n",
       "      <td>loosely adapted from dantes divine comedy and ...</td>\n",
       "      <td>adventure</td>\n",
       "    </tr>\n",
       "    <tr>\n",
       "      <th>4</th>\n",
       "      <td>an account of the life of jesus christ based o...</td>\n",
       "      <td>biography</td>\n",
       "    </tr>\n",
       "  </tbody>\n",
       "</table>\n",
       "</div>"
      ],
      "text/plain": [
       "                                   description_clean genre_unique\n",
       "0   the adventures of a female reporter in the 1890s      romance\n",
       "1  true story of notorious australian outlaw ned ...    biography\n",
       "2  the fabled queen of egypts affair with roman g...        drama\n",
       "3  loosely adapted from dantes divine comedy and ...    adventure\n",
       "4  an account of the life of jesus christ based o...    biography"
      ]
     },
     "execution_count": 3,
     "metadata": {},
     "output_type": "execute_result"
    }
   ],
   "source": [
    "data = pd.read_csv(\"data/movies_preprocesado.csv\", low_memory=False)\n",
    "data.head()"
   ]
  },
  {
   "cell_type": "code",
   "execution_count": 4,
   "metadata": {},
   "outputs": [
    {
     "data": {
      "text/plain": [
       "drama          24473\n",
       "comedy         23103\n",
       "action         11971\n",
       "crime           5453\n",
       "horror          4998\n",
       "adventure       3486\n",
       "animation       2045\n",
       "biography       2022\n",
       "thriller        1317\n",
       "romance          730\n",
       "western          611\n",
       "family           596\n",
       "mystery          585\n",
       "fantasy          486\n",
       "scifi            410\n",
       "musical          312\n",
       "war               98\n",
       "music             72\n",
       "history           71\n",
       "filmnoir          29\n",
       "sport             16\n",
       "adult              2\n",
       "documentary        1\n",
       "Name: genre_unique, dtype: int64"
      ]
     },
     "execution_count": 4,
     "metadata": {},
     "output_type": "execute_result"
    }
   ],
   "source": [
    "generos_count = data['genre_unique'].value_counts()\n",
    "generos_count"
   ]
  },
  {
   "cell_type": "code",
   "execution_count": 5,
   "metadata": {},
   "outputs": [
    {
     "data": {
      "text/plain": [
       "(82887, 2)"
      ]
     },
     "execution_count": 5,
     "metadata": {},
     "output_type": "execute_result"
    }
   ],
   "source": [
    "data.shape"
   ]
  },
  {
   "cell_type": "code",
   "execution_count": 6,
   "metadata": {},
   "outputs": [
    {
     "data": {
      "text/plain": [
       "Index(['description_clean', 'genre_unique'], dtype='object')"
      ]
     },
     "execution_count": 6,
     "metadata": {},
     "output_type": "execute_result"
    }
   ],
   "source": [
    "data.columns"
   ]
  },
  {
   "cell_type": "markdown",
   "metadata": {},
   "source": [
    "<a id=\"section_genre_selection\"></a>\n",
    "<h3>Selección de géneros</h3>\n",
    "\n",
    "[volver a TOC](#section_toc)"
   ]
  },
  {
   "cell_type": "code",
   "execution_count": 7,
   "metadata": {},
   "outputs": [
    {
     "data": {
      "text/plain": [
       "drama          24473\n",
       "comedy         23103\n",
       "action         11971\n",
       "crime           5453\n",
       "horror          4998\n",
       "adventure       3486\n",
       "animation       2045\n",
       "biography       2022\n",
       "thriller        1317\n",
       "romance          730\n",
       "western          611\n",
       "family           596\n",
       "mystery          585\n",
       "fantasy          486\n",
       "scifi            410\n",
       "musical          312\n",
       "war               98\n",
       "music             72\n",
       "history           71\n",
       "filmnoir          29\n",
       "sport             16\n",
       "adult              2\n",
       "documentary        1\n",
       "Name: genre_unique, dtype: int64"
      ]
     },
     "execution_count": 7,
     "metadata": {},
     "output_type": "execute_result"
    }
   ],
   "source": [
    "generos_count"
   ]
  },
  {
   "cell_type": "code",
   "execution_count": 8,
   "metadata": {},
   "outputs": [
    {
     "data": {
      "text/plain": [
       "Index(['drama', 'comedy', 'action', 'crime', 'horror', 'adventure',\n",
       "       'animation', 'biography', 'thriller', 'romance', 'western', 'family',\n",
       "       'mystery', 'fantasy', 'scifi', 'musical', 'war', 'music', 'history',\n",
       "       'filmnoir', 'sport', 'adult', 'documentary'],\n",
       "      dtype='object')"
      ]
     },
     "execution_count": 8,
     "metadata": {},
     "output_type": "execute_result"
    }
   ],
   "source": [
    "generos_count.index"
   ]
  },
  {
   "cell_type": "code",
   "execution_count": 9,
   "metadata": {},
   "outputs": [],
   "source": [
    "#selecciono los que tengan más de 400 películas\n",
    "columns_to_drop = ['musical', 'war', 'music', 'history',\n",
    "       'filmnoir', 'sport', 'adult', 'documentary']\n",
    "indexes_to_drop = []\n",
    "\n",
    "for genre in columns_to_drop:\n",
    "    genre = data['genre_unique'].apply(lambda x: genre in str(x).lower());\n",
    "    movies_index = list(genre[genre].index)\n",
    "    for index in movies_index:\n",
    "        indexes_to_drop.append(index)"
   ]
  },
  {
   "cell_type": "code",
   "execution_count": 10,
   "metadata": {},
   "outputs": [],
   "source": [
    "data.drop(index=indexes_to_drop, inplace=True)"
   ]
  },
  {
   "cell_type": "code",
   "execution_count": 11,
   "metadata": {},
   "outputs": [
    {
     "data": {
      "text/plain": [
       "drama        24473\n",
       "comedy       23103\n",
       "action       11971\n",
       "crime         5453\n",
       "horror        4998\n",
       "adventure     3486\n",
       "animation     2045\n",
       "biography     2022\n",
       "thriller      1317\n",
       "romance        730\n",
       "western        611\n",
       "family         596\n",
       "mystery        585\n",
       "fantasy        486\n",
       "scifi          410\n",
       "Name: genre_unique, dtype: int64"
      ]
     },
     "execution_count": 11,
     "metadata": {},
     "output_type": "execute_result"
    }
   ],
   "source": [
    "data['genre_unique'].value_counts()"
   ]
  },
  {
   "cell_type": "markdown",
   "metadata": {},
   "source": [
    "### Selección random de 400 películas por género"
   ]
  },
  {
   "cell_type": "code",
   "execution_count": 26,
   "metadata": {},
   "outputs": [
    {
     "data": {
      "text/html": [
       "<div>\n",
       "<style scoped>\n",
       "    .dataframe tbody tr th:only-of-type {\n",
       "        vertical-align: middle;\n",
       "    }\n",
       "\n",
       "    .dataframe tbody tr th {\n",
       "        vertical-align: top;\n",
       "    }\n",
       "\n",
       "    .dataframe thead th {\n",
       "        text-align: right;\n",
       "    }\n",
       "</style>\n",
       "<table border=\"1\" class=\"dataframe\">\n",
       "  <thead>\n",
       "    <tr style=\"text-align: right;\">\n",
       "      <th></th>\n",
       "      <th>description_clean</th>\n",
       "      <th>genre_unique</th>\n",
       "    </tr>\n",
       "  </thead>\n",
       "  <tbody>\n",
       "  </tbody>\n",
       "</table>\n",
       "</div>"
      ],
      "text/plain": [
       "Empty DataFrame\n",
       "Columns: [description_clean, genre_unique]\n",
       "Index: []"
      ]
     },
     "execution_count": 26,
     "metadata": {},
     "output_type": "execute_result"
    }
   ],
   "source": [
    "data_selected = pd.DataFrame(columns=data.columns)\n",
    "data_selected"
   ]
  },
  {
   "cell_type": "code",
   "execution_count": 27,
   "metadata": {},
   "outputs": [],
   "source": [
    "for genre in data['genre_unique'].value_counts().index:\n",
    "    mask = data['genre_unique']==genre\n",
    "    sample = data.loc[mask,:].sample(300)\n",
    "    data_selected = data_selected.append(sample)"
   ]
  },
  {
   "cell_type": "code",
   "execution_count": 28,
   "metadata": {},
   "outputs": [
    {
     "data": {
      "text/plain": [
       "(4500, 2)"
      ]
     },
     "execution_count": 28,
     "metadata": {},
     "output_type": "execute_result"
    }
   ],
   "source": [
    "data_selected.shape"
   ]
  },
  {
   "cell_type": "code",
   "execution_count": 31,
   "metadata": {},
   "outputs": [
    {
     "data": {
      "text/html": [
       "<div>\n",
       "<style scoped>\n",
       "    .dataframe tbody tr th:only-of-type {\n",
       "        vertical-align: middle;\n",
       "    }\n",
       "\n",
       "    .dataframe tbody tr th {\n",
       "        vertical-align: top;\n",
       "    }\n",
       "\n",
       "    .dataframe thead th {\n",
       "        text-align: right;\n",
       "    }\n",
       "</style>\n",
       "<table border=\"1\" class=\"dataframe\">\n",
       "  <thead>\n",
       "    <tr style=\"text-align: right;\">\n",
       "      <th></th>\n",
       "      <th>description_clean</th>\n",
       "      <th>genre_unique</th>\n",
       "    </tr>\n",
       "  </thead>\n",
       "  <tbody>\n",
       "    <tr>\n",
       "      <th>80276</th>\n",
       "      <td>all might and deku accept an invitation to vis...</td>\n",
       "      <td>animation</td>\n",
       "    </tr>\n",
       "    <tr>\n",
       "      <th>14648</th>\n",
       "      <td>a deranged 15th century prison colony chaplain...</td>\n",
       "      <td>horror</td>\n",
       "    </tr>\n",
       "    <tr>\n",
       "      <th>36787</th>\n",
       "      <td>a photographer has a single evening to find te...</td>\n",
       "      <td>comedy</td>\n",
       "    </tr>\n",
       "    <tr>\n",
       "      <th>12280</th>\n",
       "      <td>outpatient gary determines to get a tree for t...</td>\n",
       "      <td>family</td>\n",
       "    </tr>\n",
       "    <tr>\n",
       "      <th>28954</th>\n",
       "      <td>king vano rides bravely off into battle but on...</td>\n",
       "      <td>comedy</td>\n",
       "    </tr>\n",
       "  </tbody>\n",
       "</table>\n",
       "</div>"
      ],
      "text/plain": [
       "                                       description_clean genre_unique\n",
       "80276  all might and deku accept an invitation to vis...    animation\n",
       "14648  a deranged 15th century prison colony chaplain...       horror\n",
       "36787  a photographer has a single evening to find te...       comedy\n",
       "12280  outpatient gary determines to get a tree for t...       family\n",
       "28954  king vano rides bravely off into battle but on...       comedy"
      ]
     },
     "execution_count": 31,
     "metadata": {},
     "output_type": "execute_result"
    }
   ],
   "source": [
    "data_selected.sample(5)"
   ]
  },
  {
   "cell_type": "markdown",
   "metadata": {},
   "source": [
    "<a id=\"section_words\"></a>\n",
    "<h3>Exploración de palabras representativas por género</h3>\n",
    "\n",
    "[volver a TOC](#section_toc)"
   ]
  },
  {
   "cell_type": "code",
   "execution_count": null,
   "metadata": {},
   "outputs": [],
   "source": [
    "# stop_words.extend(list(STOPWORDS))"
   ]
  },
  {
   "cell_type": "code",
   "execution_count": null,
   "metadata": {},
   "outputs": [],
   "source": [
    "# stop_words = list(set(stop_words))"
   ]
  },
  {
   "cell_type": "code",
   "execution_count": 29,
   "metadata": {},
   "outputs": [],
   "source": [
    "stop_words.extend(['young', 'life', 'man', 'find', 'get'])\n",
    "stop_words.append('family');\n",
    "stop_words.append('la');\n",
    "stop_words.append('woman');\n",
    "stop_words.append('il');\n",
    "stop_words.append('di');\n",
    "stop_words.append('young');\n",
    "stop_words.append('man');\n",
    "stop_words.append('life');\n",
    "stop_words.extend(['zero','one','two','three','four','five','six','seven','eight','nine','ten','may','also','across','among','beside','however','yet','within'])"
   ]
  },
  {
   "cell_type": "code",
   "execution_count": 30,
   "metadata": {},
   "outputs": [],
   "source": [
    "vectorizer=CountVectorizer(stop_words=stop_words)"
   ]
  },
  {
   "cell_type": "code",
   "execution_count": 32,
   "metadata": {},
   "outputs": [
    {
     "name": "stdout",
     "output_type": "stream",
     "text": [
      "\n",
      " Clase  drama\n",
      "['love' 'mother' 'story' 'lives' 'wife' 'new' 'father' 'son' 'old' 'war'\n",
      " 'girl' 'takes' 'live' 'meets' 'day' 'town' 'finds' 'tries' 'boy' 'death'\n",
      " 'film' 'sister' 'friends' 'small' 'years' 'year' 'back' 'daughter'\n",
      " 'village' 'work']\n",
      "\n",
      " Clase  comedy\n",
      "['love' 'new' 'girl' 'friends' 'world' 'years' 'father' 'friend' 'son'\n",
      " 'story' 'lives' 'school' 'time' 'couple' 'york' 'first' 'meets' 'city'\n",
      " 'finds' 'decides' 'comedy' 'home' 'old' 'takes' 'together' 'small'\n",
      " 'wants' 'make' 'help' 'people']\n",
      "\n",
      " Clase  action\n",
      "['police' 'must' 'war' 'team' 'new' 'group' 'story' 'world' 'forced'\n",
      " 'officer' 'son' 'former' 'love' 'prison' 'cop' 'take' 'lives' 'years'\n",
      " 'finds' 'time' 'become' 'run' 'town' 'fight' 'killed' 'gang' 'father'\n",
      " 'daughter' 'old' 'crime']\n",
      "\n",
      " Clase  crime\n",
      "['murder' 'police' 'crime' 'story' 'love' 'prison' 'finds' 'death' 'gets'\n",
      " 'killer' 'new' 'detective' 'years' 'gang' 'group' 'tries' 'becomes'\n",
      " 'found' 'murdered' 'wife' 'past' 'goes' 'cop' 'town' 'night' 'case'\n",
      " 'daughter' 'son' 'returns' 'london']\n",
      "\n",
      " Clase  horror\n",
      "['group' 'night' 'home' 'town' 'house' 'friends' 'killer' 'old' 'years'\n",
      " 'small' 'mysterious' 'new' 'begins' 'wife' 'horror' 'people' 'girl'\n",
      " 'death' 'island' 'strange' 'couple' 'evil' 'trip' 'college' 'woods'\n",
      " 'film' 'go' 'daughter' 'must' 'turns']\n",
      "\n",
      " Clase  adventure\n",
      "['boy' 'world' 'must' 'island' 'finds' 'trip' 'war' 'girl' 'becomes'\n",
      " 'back' 'father' 'group' 'city' 'take' 'local' 'new' 'first' 'way'\n",
      " 'treasure' 'save' 'time' 'british' 'friends' 'son' 'school' 'jungle'\n",
      " 'story' 'american' 'search' 'film']\n",
      "\n",
      " Clase  animation\n",
      "['world' 'new' 'must' 'friends' 'save' 'story' 'group' 'boy' 'help' 'evil'\n",
      " 'live' 'back' 'cat' 'girl' 'island' 'city' 'finds' 'lost' 'love' 'land'\n",
      " 'go' 'adventure' 'town' 'space' 'lives' 'named' 'time' 'magical' 'stop'\n",
      " 'journey']\n",
      "\n",
      " Clase  biography\n",
      "['story' 'based' 'true' 'film' 'love' 'first' 'world' 'century' 'writer'\n",
      " 'political' 'early' 'journey' 'days' 'biopic' 'composer' 'war' 'movie'\n",
      " 'finds' 'wife' 'years' 'home' 'last' 'marriage' 'american' 'singer'\n",
      " 'daughter' 'career' 'relationship' 'south' 'son']\n",
      "\n",
      " Clase  thriller\n",
      "['new' 'murder' 'becomes' 'story' 'killer' 'night' 'wife' 'finds' 'must'\n",
      " 'father' 'girl' 'world' 'daughter' 'goes' 'thriller' 'town' 'years'\n",
      " 'back' 'killed' 'home' 'takes' 'dead' 'police' 'car' 'mysterious' 'city'\n",
      " 'gets' 'meets' 'friend' 'death']\n",
      "\n",
      " Clase  romance\n",
      "['love' 'girl' 'falls' 'meets' 'story' 'finds' 'new' 'fall' 'lives'\n",
      " 'friend' 'father' 'day' 'school' 'friends' 'relationship' 'town' 'meet'\n",
      " 'married' 'owner' 'together' 'time' 'local' 'years' 'people' 'college'\n",
      " 'job' 'marriage' 'wife' 'women' 'gets']\n",
      "\n",
      " Clase  western\n",
      "['town' 'war' 'gang' 'civil' 'army' 'gold' 'outlaw' 'ranch' 'revenge'\n",
      " 'indian' 'small' 'west' 'confederate' 'son' 'mexico' 'bounty' 'finds'\n",
      " 'marshal' 'former' 'outlaws' 'cavalry' 'indians' 'american' 'texas'\n",
      " 'sheriff' 'brother' 'fort' 'mexican' 'murder' 'new']\n",
      "\n",
      " Clase  family\n",
      "['girl' 'boy' 'story' 'children' 'old' 'film' 'father' 'little' 'world'\n",
      " 'friends' 'new' 'time' 'christmas' 'year' 'town' 'love' 'school' 'dog'\n",
      " 'save' 'back' 'home' 'must' 'kids' 'mother' 'takes' 'secret' 'help' 'day'\n",
      " 'lives' 'parents']\n",
      "\n",
      " Clase  mystery\n",
      "['murder' 'killer' 'mysterious' 'police' 'murdered' 'detective' 'new'\n",
      " 'death' 'years' 'wife' 'murders' 'case' 'series' 'secret' 'investigate'\n",
      " 'world' 'house' 'writer' 'gets' 'people' 'daughter' 'becomes' 'love'\n",
      " 'strange' 'girl' 'past' 'missing' 'mystery' 'old' 'found']\n",
      "\n",
      " Clase  fantasy\n",
      "['love' 'world' 'new' 'evil' 'film' 'begins' 'girl' 'death' 'mysterious'\n",
      " 'story' 'ancient' 'years' 'take' 'dark' 'finds' 'strange' 'group'\n",
      " 'horror' 'lives' 'beautiful' 'people' 'friends' 'child' 'house'\n",
      " 'discover' 'lost' 'supernatural' 'comes' 'home' 'tale']\n",
      "\n",
      " Clase  scifi\n",
      "['earth' 'world' 'planet' 'time' 'alien' 'future' 'space' 'people' 'human'\n",
      " 'group' 'mysterious' 'team' 'small' 'scientist' 'war' 'discovers' 'must'\n",
      " 'scientists' 'race' 'aliens' 'machine' 'new' 'town' 'story' 'astronauts'\n",
      " 'around' 'sent' 'humans' 'back' 'called']\n"
     ]
    }
   ],
   "source": [
    "clases = data_selected['genre_unique'].unique()\n",
    "words = []\n",
    "\n",
    "for clase in clases:\n",
    "    X=vectorizer.fit_transform(data_selected[data_selected['genre_unique']==clase]['description_clean'])\n",
    "    counts=X.sum(axis=0)\n",
    "    counts=np.array(counts)\n",
    "    \n",
    "    indices=np.argsort(counts)\n",
    "    valores=np.sort(counts)\n",
    "    indices=indices[0][::-1]\n",
    "    valores=valores[0][::-1]\n",
    "    terms=np.array(vectorizer.get_feature_names())\n",
    "\n",
    "    print('\\n Clase ', clase)\n",
    "    print(terms[indices[:30]])\n",
    "    "
   ]
  },
  {
   "cell_type": "markdown",
   "metadata": {},
   "source": [
    "<a id=\"section_wordcloud\"></a>\n",
    "<h3>Nubes de palabras</h3>\n",
    "\n",
    "[volver a TOC](#section_toc)"
   ]
  },
  {
   "cell_type": "code",
   "execution_count": null,
   "metadata": {},
   "outputs": [],
   "source": [
    "for genre in clases:\n",
    "    plt.figure(figsize=(20,12.5))\n",
    "    subset = data[data['genre_unique']==genre]\n",
    "    text = subset['description_clean'].values\n",
    "    cloud = WordCloud(stopwords=stop_words,\n",
    "                      background_color='white',\n",
    "                      collocations=False,\n",
    "                      width=2500,\n",
    "                      height=1800,\n",
    "                      max_words=100).generate(\" \".join(text))\n",
    "    \n",
    "    plt.subplot(2, 3, 1)\n",
    "    plt.axis('off')\n",
    "    plt.title(genre,fontsize=20)\n",
    "    plt.imshow(cloud)\n",
    "\n"
   ]
  },
  {
   "cell_type": "markdown",
   "metadata": {},
   "source": [
    "<a id=\"section_ordinalEncoder\"></a>\n",
    "<h3>Encoder de targets</h3>\n",
    "\n",
    "[volver a TOC](#section_toc)"
   ]
  },
  {
   "cell_type": "code",
   "execution_count": null,
   "metadata": {},
   "outputs": [],
   "source": [
    "data.head(2)"
   ]
  },
  {
   "cell_type": "code",
   "execution_count": null,
   "metadata": {},
   "outputs": [],
   "source": [
    "from sklearn.preprocessing import OrdinalEncoder\n",
    "#Cuando le paso las categorías como paramétro me tira error The truth value of an array with more than one element is ambiguous. Use a.any() or a.all()\n",
    "ord_enc = OrdinalEncoder()\n",
    "data[\"target_genre\"] = ord_enc.fit_transform(data[[\"genre_unique\"]])\n",
    "\n",
    "data.sample(3)"
   ]
  },
  {
   "cell_type": "markdown",
   "metadata": {},
   "source": [
    "<a id=\"section_stemmer\"></a>\n",
    "<h3>Stemmer</h3>\n",
    "\n",
    "[volver a TOC](#section_toc)"
   ]
  },
  {
   "cell_type": "code",
   "execution_count": 33,
   "metadata": {},
   "outputs": [],
   "source": [
    "from nltk.stem.snowball import SnowballStemmer"
   ]
  },
  {
   "cell_type": "code",
   "execution_count": 34,
   "metadata": {},
   "outputs": [],
   "source": [
    "stemmer = SnowballStemmer(\"english\")\n",
    "def stemming(sentence):\n",
    "    stemSentence = \"\"\n",
    "    for word in sentence.split():\n",
    "        stem = stemmer.stem(word)\n",
    "        stemSentence += stem\n",
    "        stemSentence += \" \"\n",
    "    stemSentence = stemSentence.strip()\n",
    "    return stemSentence\n",
    "\n"
   ]
  },
  {
   "cell_type": "code",
   "execution_count": 35,
   "metadata": {},
   "outputs": [
    {
     "data": {
      "text/html": [
       "<div>\n",
       "<style scoped>\n",
       "    .dataframe tbody tr th:only-of-type {\n",
       "        vertical-align: middle;\n",
       "    }\n",
       "\n",
       "    .dataframe tbody tr th {\n",
       "        vertical-align: top;\n",
       "    }\n",
       "\n",
       "    .dataframe thead th {\n",
       "        text-align: right;\n",
       "    }\n",
       "</style>\n",
       "<table border=\"1\" class=\"dataframe\">\n",
       "  <thead>\n",
       "    <tr style=\"text-align: right;\">\n",
       "      <th></th>\n",
       "      <th>description_clean</th>\n",
       "      <th>genre_unique</th>\n",
       "    </tr>\n",
       "  </thead>\n",
       "  <tbody>\n",
       "    <tr>\n",
       "      <th>16178</th>\n",
       "      <td>a writer goe on a road trip across west german...</td>\n",
       "      <td>drama</td>\n",
       "    </tr>\n",
       "    <tr>\n",
       "      <th>29168</th>\n",
       "      <td>a mississippi district attorney and the widow ...</td>\n",
       "      <td>drama</td>\n",
       "    </tr>\n",
       "    <tr>\n",
       "      <th>61753</th>\n",
       "      <td>a move and intim film that follow moniqu money...</td>\n",
       "      <td>drama</td>\n",
       "    </tr>\n",
       "    <tr>\n",
       "      <th>55643</th>\n",
       "      <td>a social satir in which a man realiz he would ...</td>\n",
       "      <td>drama</td>\n",
       "    </tr>\n",
       "    <tr>\n",
       "      <th>20722</th>\n",
       "      <td>young lori anderson lost her father in a plane...</td>\n",
       "      <td>drama</td>\n",
       "    </tr>\n",
       "  </tbody>\n",
       "</table>\n",
       "</div>"
      ],
      "text/plain": [
       "                                       description_clean genre_unique\n",
       "16178  a writer goe on a road trip across west german...        drama\n",
       "29168  a mississippi district attorney and the widow ...        drama\n",
       "61753  a move and intim film that follow moniqu money...        drama\n",
       "55643  a social satir in which a man realiz he would ...        drama\n",
       "20722  young lori anderson lost her father in a plane...        drama"
      ]
     },
     "execution_count": 35,
     "metadata": {},
     "output_type": "execute_result"
    }
   ],
   "source": [
    "data_selected['description_clean'] = data_selected['description_clean'].apply(stemming)\n",
    "data_selected.head()"
   ]
  },
  {
   "cell_type": "markdown",
   "metadata": {},
   "source": [
    "<a id=\"section_train_test_split\"></a>\n",
    "<h3>División de sets de entrenamiento y testeo</h3>\n",
    "\n",
    "[volver a TOC](#section_toc)"
   ]
  },
  {
   "cell_type": "code",
   "execution_count": 36,
   "metadata": {},
   "outputs": [],
   "source": [
    "train, test = train_test_split(data_selected, random_state=42, test_size=0.30, shuffle=True)\n",
    "train_text = train['description_clean']\n",
    "test_text = test['description_clean']"
   ]
  },
  {
   "cell_type": "code",
   "execution_count": 37,
   "metadata": {},
   "outputs": [
    {
     "data": {
      "text/plain": [
       "22615    a group of date applianc embark on a journey t...\n",
       "62307            it is adapt from the hindi movi bodyguard\n",
       "19554    while sheriff brackett and dr loomi hunt for m...\n",
       "57684    two nineyearold girl report a flasher to the p...\n",
       "28854    a polic commission enlist the aid of an eccent...\n",
       "Name: description_clean, dtype: object"
      ]
     },
     "execution_count": 37,
     "metadata": {},
     "output_type": "execute_result"
    }
   ],
   "source": [
    "train_text.head()"
   ]
  },
  {
   "cell_type": "code",
   "execution_count": 38,
   "metadata": {},
   "outputs": [
    {
     "data": {
      "text/plain": [
       "TfidfVectorizer(max_features=20000, min_df=10, ngram_range=(1, 3),\n",
       "                stop_words=['i', 'me', 'my', 'myself', 'we', 'our', 'ours',\n",
       "                            'ourselves', 'you', \"you're\", \"you've\", \"you'll\",\n",
       "                            \"you'd\", 'your', 'yours', 'yourself', 'yourselves',\n",
       "                            'he', 'him', 'his', 'himself', 'she', \"she's\",\n",
       "                            'her', 'hers', 'herself', 'it', \"it's\", 'its',\n",
       "                            'itself', ...])"
      ]
     },
     "execution_count": 38,
     "metadata": {},
     "output_type": "execute_result"
    }
   ],
   "source": [
    "vectorizer = TfidfVectorizer(min_df=10,ngram_range=(1,3),max_features=20000, stop_words=stop_words)\n",
    "vectorizer.fit(train_text)"
   ]
  },
  {
   "cell_type": "code",
   "execution_count": 39,
   "metadata": {},
   "outputs": [],
   "source": [
    "X_train = vectorizer.transform(train_text)\n",
    "X_test = vectorizer.transform(test_text)\n",
    "y_train = train['genre_unique']\n",
    "y_test = test['genre_unique']"
   ]
  },
  {
   "cell_type": "markdown",
   "metadata": {},
   "source": [
    "<a id=\"section_clf_1\"></a>\n",
    "<h3>Primera prueba de clasificación</h3>\n",
    "\n",
    "[volver a TOC](#section_toc)"
   ]
  },
  {
   "cell_type": "code",
   "execution_count": 40,
   "metadata": {},
   "outputs": [],
   "source": [
    "from sklearn.linear_model import LogisticRegression\n",
    "from sklearn.pipeline import Pipeline\n",
    "from sklearn.metrics import accuracy_score\n",
    "from sklearn.naive_bayes import MultinomialNB"
   ]
  },
  {
   "cell_type": "code",
   "execution_count": null,
   "metadata": {},
   "outputs": [],
   "source": [
    "genres = data['genre_unique'].unique()\n",
    "len(genres)"
   ]
  },
  {
   "cell_type": "code",
   "execution_count": 41,
   "metadata": {},
   "outputs": [
    {
     "name": "stderr",
     "output_type": "stream",
     "text": [
      "[Parallel(n_jobs=-1)]: Using backend LokyBackend with 4 concurrent workers.\n"
     ]
    },
    {
     "name": "stdout",
     "output_type": "stream",
     "text": [
      "Test accuracy is 0.2992592592592593\n"
     ]
    },
    {
     "name": "stderr",
     "output_type": "stream",
     "text": [
      "[Parallel(n_jobs=-1)]: Done   1 out of   1 | elapsed:    1.6s finished\n"
     ]
    }
   ],
   "source": [
    "classifier_log = LogisticRegression(penalty='l2', solver='lbfgs', multi_class='multinomial', verbose=1, n_jobs=-1)\n",
    "classifier_log.fit(X_train, y_train)\n",
    "prediction = classifier_log.predict(X_test)\n",
    "print('Test accuracy is {}'.format(accuracy_score(y_test, prediction)))"
   ]
  },
  {
   "cell_type": "code",
   "execution_count": 42,
   "metadata": {},
   "outputs": [
    {
     "name": "stdout",
     "output_type": "stream",
     "text": [
      "              precision    recall  f1-score   support\n",
      "\n",
      "      action       0.17      0.20      0.18        87\n",
      "   adventure       0.22      0.17      0.20        92\n",
      "   animation       0.30      0.36      0.33        81\n",
      "   biography       0.40      0.56      0.47        90\n",
      "      comedy       0.21      0.20      0.21        90\n",
      "       crime       0.20      0.14      0.16        96\n",
      "       drama       0.15      0.11      0.13       101\n",
      "      family       0.30      0.41      0.35        80\n",
      "     fantasy       0.24      0.22      0.23        89\n",
      "      horror       0.36      0.30      0.32        98\n",
      "     mystery       0.33      0.38      0.35        90\n",
      "     romance       0.22      0.21      0.22        90\n",
      "       scifi       0.49      0.50      0.50        94\n",
      "    thriller       0.23      0.14      0.18        97\n",
      "     western       0.47      0.72      0.57        75\n",
      "\n",
      "    accuracy                           0.30      1350\n",
      "   macro avg       0.29      0.31      0.29      1350\n",
      "weighted avg       0.28      0.30      0.29      1350\n",
      "\n"
     ]
    }
   ],
   "source": [
    "print(classification_report(y_test, prediction, zero_division=1))"
   ]
  },
  {
   "cell_type": "code",
   "execution_count": 43,
   "metadata": {},
   "outputs": [
    {
     "data": {
      "text/plain": [
       "array(['action', 'adventure', 'animation', 'biography', 'comedy', 'crime',\n",
       "       'drama', 'family', 'fantasy', 'horror', 'mystery', 'romance',\n",
       "       'scifi', 'thriller', 'western'], dtype=object)"
      ]
     },
     "execution_count": 43,
     "metadata": {},
     "output_type": "execute_result"
    }
   ],
   "source": [
    "classifier_log.classes_"
   ]
  },
  {
   "cell_type": "code",
   "execution_count": 44,
   "metadata": {},
   "outputs": [
    {
     "name": "stdout",
     "output_type": "stream",
     "text": [
      "[[17  5  9  5  3  7  3  7  2  4  6  6  5  4  4]\n",
      " [ 7 16  8  7  8  1  5 10  6  3  3  2  3  5  8]\n",
      " [ 5  4 29  6  1  0  3  8  9  0  2  3  7  1  3]\n",
      " [ 5  2  6 50  4  2  5  4  2  0  0  4  3  1  2]\n",
      " [ 7  5  5  9 18  3  7 10  3  2  3 12  0  4  2]\n",
      " [13  2  0  7  3 13  8  4  6  4 21  3  0  5  7]\n",
      " [10  9  6  8 10  2 11  9  5  5  3 15  0  5  3]\n",
      " [ 4  6  7  5  5  2  2 33  3  2  0  4  1  2  4]\n",
      " [ 3  4 10  3  4  2  6  5 20  9  3  4 10  4  2]\n",
      " [ 7  3  2  2  3  2  4  4 13 29 11  3  9  2  4]\n",
      " [ 4  1  4  5  2 11  2  1  3  4 34  2  6  8  3]\n",
      " [ 3  5  4  8 12  3  9  3  2  1  2 19  2  3 14]\n",
      " [ 7  4  4  1  4  2  2  2  2  8  5  1 47  3  2]\n",
      " [ 3  4  2  3  7 13  5  8  7  9 10  7  2 14  3]\n",
      " [ 6  2  1  5  1  2  1  1  0  1  0  1  0  0 54]]\n"
     ]
    }
   ],
   "source": [
    "print(confusion_matrix(y_test, prediction))"
   ]
  },
  {
   "cell_type": "code",
   "execution_count": 45,
   "metadata": {},
   "outputs": [],
   "source": [
    "conf_matrix = confusion_matrix(y_test, prediction)\n",
    "conf_mat_df = pd.DataFrame(data=conf_matrix, \n",
    "                           index=classifier_log.classes_, \n",
    "                           columns=classifier_log.classes_)\n"
   ]
  },
  {
   "cell_type": "code",
   "execution_count": 46,
   "metadata": {},
   "outputs": [
    {
     "data": {
      "text/html": [
       "<div>\n",
       "<style scoped>\n",
       "    .dataframe tbody tr th:only-of-type {\n",
       "        vertical-align: middle;\n",
       "    }\n",
       "\n",
       "    .dataframe tbody tr th {\n",
       "        vertical-align: top;\n",
       "    }\n",
       "\n",
       "    .dataframe thead th {\n",
       "        text-align: right;\n",
       "    }\n",
       "</style>\n",
       "<table border=\"1\" class=\"dataframe\">\n",
       "  <thead>\n",
       "    <tr style=\"text-align: right;\">\n",
       "      <th></th>\n",
       "      <th>action</th>\n",
       "      <th>adventure</th>\n",
       "      <th>animation</th>\n",
       "      <th>biography</th>\n",
       "      <th>comedy</th>\n",
       "      <th>crime</th>\n",
       "      <th>drama</th>\n",
       "      <th>family</th>\n",
       "      <th>fantasy</th>\n",
       "      <th>horror</th>\n",
       "      <th>mystery</th>\n",
       "      <th>romance</th>\n",
       "      <th>scifi</th>\n",
       "      <th>thriller</th>\n",
       "      <th>western</th>\n",
       "    </tr>\n",
       "  </thead>\n",
       "  <tbody>\n",
       "    <tr>\n",
       "      <th>action</th>\n",
       "      <td>17</td>\n",
       "      <td>5</td>\n",
       "      <td>9</td>\n",
       "      <td>5</td>\n",
       "      <td>3</td>\n",
       "      <td>7</td>\n",
       "      <td>3</td>\n",
       "      <td>7</td>\n",
       "      <td>2</td>\n",
       "      <td>4</td>\n",
       "      <td>6</td>\n",
       "      <td>6</td>\n",
       "      <td>5</td>\n",
       "      <td>4</td>\n",
       "      <td>4</td>\n",
       "    </tr>\n",
       "    <tr>\n",
       "      <th>adventure</th>\n",
       "      <td>7</td>\n",
       "      <td>16</td>\n",
       "      <td>8</td>\n",
       "      <td>7</td>\n",
       "      <td>8</td>\n",
       "      <td>1</td>\n",
       "      <td>5</td>\n",
       "      <td>10</td>\n",
       "      <td>6</td>\n",
       "      <td>3</td>\n",
       "      <td>3</td>\n",
       "      <td>2</td>\n",
       "      <td>3</td>\n",
       "      <td>5</td>\n",
       "      <td>8</td>\n",
       "    </tr>\n",
       "    <tr>\n",
       "      <th>animation</th>\n",
       "      <td>5</td>\n",
       "      <td>4</td>\n",
       "      <td>29</td>\n",
       "      <td>6</td>\n",
       "      <td>1</td>\n",
       "      <td>0</td>\n",
       "      <td>3</td>\n",
       "      <td>8</td>\n",
       "      <td>9</td>\n",
       "      <td>0</td>\n",
       "      <td>2</td>\n",
       "      <td>3</td>\n",
       "      <td>7</td>\n",
       "      <td>1</td>\n",
       "      <td>3</td>\n",
       "    </tr>\n",
       "    <tr>\n",
       "      <th>biography</th>\n",
       "      <td>5</td>\n",
       "      <td>2</td>\n",
       "      <td>6</td>\n",
       "      <td>50</td>\n",
       "      <td>4</td>\n",
       "      <td>2</td>\n",
       "      <td>5</td>\n",
       "      <td>4</td>\n",
       "      <td>2</td>\n",
       "      <td>0</td>\n",
       "      <td>0</td>\n",
       "      <td>4</td>\n",
       "      <td>3</td>\n",
       "      <td>1</td>\n",
       "      <td>2</td>\n",
       "    </tr>\n",
       "    <tr>\n",
       "      <th>comedy</th>\n",
       "      <td>7</td>\n",
       "      <td>5</td>\n",
       "      <td>5</td>\n",
       "      <td>9</td>\n",
       "      <td>18</td>\n",
       "      <td>3</td>\n",
       "      <td>7</td>\n",
       "      <td>10</td>\n",
       "      <td>3</td>\n",
       "      <td>2</td>\n",
       "      <td>3</td>\n",
       "      <td>12</td>\n",
       "      <td>0</td>\n",
       "      <td>4</td>\n",
       "      <td>2</td>\n",
       "    </tr>\n",
       "    <tr>\n",
       "      <th>crime</th>\n",
       "      <td>13</td>\n",
       "      <td>2</td>\n",
       "      <td>0</td>\n",
       "      <td>7</td>\n",
       "      <td>3</td>\n",
       "      <td>13</td>\n",
       "      <td>8</td>\n",
       "      <td>4</td>\n",
       "      <td>6</td>\n",
       "      <td>4</td>\n",
       "      <td>21</td>\n",
       "      <td>3</td>\n",
       "      <td>0</td>\n",
       "      <td>5</td>\n",
       "      <td>7</td>\n",
       "    </tr>\n",
       "    <tr>\n",
       "      <th>drama</th>\n",
       "      <td>10</td>\n",
       "      <td>9</td>\n",
       "      <td>6</td>\n",
       "      <td>8</td>\n",
       "      <td>10</td>\n",
       "      <td>2</td>\n",
       "      <td>11</td>\n",
       "      <td>9</td>\n",
       "      <td>5</td>\n",
       "      <td>5</td>\n",
       "      <td>3</td>\n",
       "      <td>15</td>\n",
       "      <td>0</td>\n",
       "      <td>5</td>\n",
       "      <td>3</td>\n",
       "    </tr>\n",
       "    <tr>\n",
       "      <th>family</th>\n",
       "      <td>4</td>\n",
       "      <td>6</td>\n",
       "      <td>7</td>\n",
       "      <td>5</td>\n",
       "      <td>5</td>\n",
       "      <td>2</td>\n",
       "      <td>2</td>\n",
       "      <td>33</td>\n",
       "      <td>3</td>\n",
       "      <td>2</td>\n",
       "      <td>0</td>\n",
       "      <td>4</td>\n",
       "      <td>1</td>\n",
       "      <td>2</td>\n",
       "      <td>4</td>\n",
       "    </tr>\n",
       "    <tr>\n",
       "      <th>fantasy</th>\n",
       "      <td>3</td>\n",
       "      <td>4</td>\n",
       "      <td>10</td>\n",
       "      <td>3</td>\n",
       "      <td>4</td>\n",
       "      <td>2</td>\n",
       "      <td>6</td>\n",
       "      <td>5</td>\n",
       "      <td>20</td>\n",
       "      <td>9</td>\n",
       "      <td>3</td>\n",
       "      <td>4</td>\n",
       "      <td>10</td>\n",
       "      <td>4</td>\n",
       "      <td>2</td>\n",
       "    </tr>\n",
       "    <tr>\n",
       "      <th>horror</th>\n",
       "      <td>7</td>\n",
       "      <td>3</td>\n",
       "      <td>2</td>\n",
       "      <td>2</td>\n",
       "      <td>3</td>\n",
       "      <td>2</td>\n",
       "      <td>4</td>\n",
       "      <td>4</td>\n",
       "      <td>13</td>\n",
       "      <td>29</td>\n",
       "      <td>11</td>\n",
       "      <td>3</td>\n",
       "      <td>9</td>\n",
       "      <td>2</td>\n",
       "      <td>4</td>\n",
       "    </tr>\n",
       "    <tr>\n",
       "      <th>mystery</th>\n",
       "      <td>4</td>\n",
       "      <td>1</td>\n",
       "      <td>4</td>\n",
       "      <td>5</td>\n",
       "      <td>2</td>\n",
       "      <td>11</td>\n",
       "      <td>2</td>\n",
       "      <td>1</td>\n",
       "      <td>3</td>\n",
       "      <td>4</td>\n",
       "      <td>34</td>\n",
       "      <td>2</td>\n",
       "      <td>6</td>\n",
       "      <td>8</td>\n",
       "      <td>3</td>\n",
       "    </tr>\n",
       "    <tr>\n",
       "      <th>romance</th>\n",
       "      <td>3</td>\n",
       "      <td>5</td>\n",
       "      <td>4</td>\n",
       "      <td>8</td>\n",
       "      <td>12</td>\n",
       "      <td>3</td>\n",
       "      <td>9</td>\n",
       "      <td>3</td>\n",
       "      <td>2</td>\n",
       "      <td>1</td>\n",
       "      <td>2</td>\n",
       "      <td>19</td>\n",
       "      <td>2</td>\n",
       "      <td>3</td>\n",
       "      <td>14</td>\n",
       "    </tr>\n",
       "    <tr>\n",
       "      <th>scifi</th>\n",
       "      <td>7</td>\n",
       "      <td>4</td>\n",
       "      <td>4</td>\n",
       "      <td>1</td>\n",
       "      <td>4</td>\n",
       "      <td>2</td>\n",
       "      <td>2</td>\n",
       "      <td>2</td>\n",
       "      <td>2</td>\n",
       "      <td>8</td>\n",
       "      <td>5</td>\n",
       "      <td>1</td>\n",
       "      <td>47</td>\n",
       "      <td>3</td>\n",
       "      <td>2</td>\n",
       "    </tr>\n",
       "    <tr>\n",
       "      <th>thriller</th>\n",
       "      <td>3</td>\n",
       "      <td>4</td>\n",
       "      <td>2</td>\n",
       "      <td>3</td>\n",
       "      <td>7</td>\n",
       "      <td>13</td>\n",
       "      <td>5</td>\n",
       "      <td>8</td>\n",
       "      <td>7</td>\n",
       "      <td>9</td>\n",
       "      <td>10</td>\n",
       "      <td>7</td>\n",
       "      <td>2</td>\n",
       "      <td>14</td>\n",
       "      <td>3</td>\n",
       "    </tr>\n",
       "    <tr>\n",
       "      <th>western</th>\n",
       "      <td>6</td>\n",
       "      <td>2</td>\n",
       "      <td>1</td>\n",
       "      <td>5</td>\n",
       "      <td>1</td>\n",
       "      <td>2</td>\n",
       "      <td>1</td>\n",
       "      <td>1</td>\n",
       "      <td>0</td>\n",
       "      <td>1</td>\n",
       "      <td>0</td>\n",
       "      <td>1</td>\n",
       "      <td>0</td>\n",
       "      <td>0</td>\n",
       "      <td>54</td>\n",
       "    </tr>\n",
       "  </tbody>\n",
       "</table>\n",
       "</div>"
      ],
      "text/plain": [
       "           action  adventure  animation  biography  comedy  crime  drama  \\\n",
       "action         17          5          9          5       3      7      3   \n",
       "adventure       7         16          8          7       8      1      5   \n",
       "animation       5          4         29          6       1      0      3   \n",
       "biography       5          2          6         50       4      2      5   \n",
       "comedy          7          5          5          9      18      3      7   \n",
       "crime          13          2          0          7       3     13      8   \n",
       "drama          10          9          6          8      10      2     11   \n",
       "family          4          6          7          5       5      2      2   \n",
       "fantasy         3          4         10          3       4      2      6   \n",
       "horror          7          3          2          2       3      2      4   \n",
       "mystery         4          1          4          5       2     11      2   \n",
       "romance         3          5          4          8      12      3      9   \n",
       "scifi           7          4          4          1       4      2      2   \n",
       "thriller        3          4          2          3       7     13      5   \n",
       "western         6          2          1          5       1      2      1   \n",
       "\n",
       "           family  fantasy  horror  mystery  romance  scifi  thriller  western  \n",
       "action          7        2       4        6        6      5         4        4  \n",
       "adventure      10        6       3        3        2      3         5        8  \n",
       "animation       8        9       0        2        3      7         1        3  \n",
       "biography       4        2       0        0        4      3         1        2  \n",
       "comedy         10        3       2        3       12      0         4        2  \n",
       "crime           4        6       4       21        3      0         5        7  \n",
       "drama           9        5       5        3       15      0         5        3  \n",
       "family         33        3       2        0        4      1         2        4  \n",
       "fantasy         5       20       9        3        4     10         4        2  \n",
       "horror          4       13      29       11        3      9         2        4  \n",
       "mystery         1        3       4       34        2      6         8        3  \n",
       "romance         3        2       1        2       19      2         3       14  \n",
       "scifi           2        2       8        5        1     47         3        2  \n",
       "thriller        8        7       9       10        7      2        14        3  \n",
       "western         1        0       1        0        1      0         0       54  "
      ]
     },
     "execution_count": 46,
     "metadata": {},
     "output_type": "execute_result"
    }
   ],
   "source": [
    "conf_mat_df"
   ]
  },
  {
   "cell_type": "code",
   "execution_count": 47,
   "metadata": {},
   "outputs": [
    {
     "data": {
      "image/png": "[encoded data removed]",
      "text/plain": [
       "<Figure size 432x288 with 2 Axes>"
      ]
     },
     "metadata": {
      "needs_background": "light"
     },
     "output_type": "display_data"
    }
   ],
   "source": [
    "heatmap = sns.heatmap(conf_mat_df, annot=True, fmt='d', cmap='YlGnBu')\n",
    "plt.xlabel(\"Predichos\") \n",
    "plt.ylabel(\"Observados\")\n",
    "plt.show()"
   ]
  },
  {
   "cell_type": "markdown",
   "metadata": {},
   "source": [
    "## SVC"
   ]
  },
  {
   "cell_type": "code",
   "execution_count": null,
   "metadata": {},
   "outputs": [],
   "source": [
    "# from sklearn.svm import SVC\n",
    "# svc = SVC(kernel = 'rbf')\n",
    "# svc.fit(X_train, y_train)\n",
    "\n",
    "# y_pred_svc = svc.predict(X_test)\n",
    "\n",
    "# print(\"Accuracy of Support Vector Classifier is: {}%\".format(accuracy_score(y_test, y_pred_svc) * 100))\n",
    "# print(\"Confusion Matrix of Support Vector Classifier is: \\n{}\".format(confusion_matrix(y_test, y_pred_svc)))\n",
    "# print(\"{}\".format(classification_report(y_test, y_pred_svc)))"
   ]
  },
  {
   "cell_type": "markdown",
   "metadata": {},
   "source": [
    "<a id=\"section_clf_pipeline\"></a>\n",
    "<h3>Pipeline y Gridsearch</h3>\n",
    "\n",
    "[volver a TOC](#section_toc)"
   ]
  },
  {
   "cell_type": "markdown",
   "metadata": {},
   "source": [
    "<a id=\"section_logreg\"></a>\n",
    "<h4>Logistic Regression</h4>\n",
    "\n",
    "[volver a TOC](#section_toc)"
   ]
  },
  {
   "cell_type": "code",
   "execution_count": null,
   "metadata": {},
   "outputs": [],
   "source": [
    "data_y = data['genre_unique']\n",
    "X_train_pipe, X_test_pipe, y_train_pipe, y_test_pipe = train_test_split(data_x, data_y, random_state=42, test_size=0.33, shuffle=True)"
   ]
  },
  {
   "cell_type": "code",
   "execution_count": null,
   "metadata": {},
   "outputs": [],
   "source": [
    "\n",
    "pipeline = Pipeline([('tfidf', TfidfVectorizer(stop_words=stop_words)), \n",
    "                     ('log', LogisticRegression())])\n",
    "\n",
    "parameters = {'tfidf__ngram_range': [(1, 1), (1, 2), (1, 3)],\n",
    "              'log__penalty': ['l2'],\n",
    "              'log__C': [0.01, 0.1, 1],\n",
    "              \"log__class_weight\": ['balanced', None],\n",
    "              \"log__solver\" : ['sag', 'lbfgs']\n",
    "}\n",
    "\n",
    "# skf=StratifiedKFold(n_splits=3, random_state=3, shuffle=True)\n"
   ]
  },
  {
   "cell_type": "code",
   "execution_count": null,
   "metadata": {},
   "outputs": [],
   "source": [
    "grid = GridSearchCV(\n",
    "    pipeline, parameters, cv=3, n_jobs=2, verbose=1)\n",
    "grid.fit(X_train_pipe, y_train_pipe)"
   ]
  },
  {
   "cell_type": "code",
   "execution_count": null,
   "metadata": {},
   "outputs": [],
   "source": [
    "print(\"Best parameters set:\")\n",
    "grid.best_estimator_.steps"
   ]
  },
  {
   "cell_type": "code",
   "execution_count": null,
   "metadata": {},
   "outputs": [],
   "source": [
    "print(\"Applying best classifier on test data:\")\n",
    "predictions = grid.best_estimator_.predict(X_test_pipe)\n",
    "\n",
    "print(classification_report(y_test_pipe, predictions, target_names=genres))"
   ]
  },
  {
   "cell_type": "code",
   "execution_count": null,
   "metadata": {},
   "outputs": [],
   "source": [
    "print(\"Accuracy = \",accuracy_score(y_test_pipe,predictions))\n",
    "print(\"\\n\")"
   ]
  },
  {
   "cell_type": "code",
   "execution_count": null,
   "metadata": {},
   "outputs": [],
   "source": []
  },
  {
   "cell_type": "markdown",
   "metadata": {},
   "source": [
    "<a id=\"section_multiNB\"></a>\n",
    "<h4>Multinomial NB</h4>\n",
    "\n",
    "[volver a TOC](#section_toc)"
   ]
  },
  {
   "cell_type": "code",
   "execution_count": null,
   "metadata": {},
   "outputs": [],
   "source": [
    "pipeline1 = Pipeline([\n",
    "    ('tfidf', TfidfVectorizer(stop_words=stop_words)),\n",
    "    ('clf', MultinomialNB(\n",
    "        fit_prior=True, class_prior=None))\n",
    "])\n",
    "parameters1 = {\n",
    "#     'tfidf__max_df': [50, 100, 200],\n",
    "    'tfidf__ngram_range': [(1, 1), (1, 2), (1, 3)],\n",
    "#     'tfidf__norm':['l1', 'l2']\n",
    "    'clf__alpha': (1e-2, 1e-3)\n",
    "}"
   ]
  },
  {
   "cell_type": "code",
   "execution_count": null,
   "metadata": {},
   "outputs": [],
   "source": [
    "grid1 = GridSearchCV(\n",
    "    pipeline1, parameters1, cv=3, n_jobs=2, verbose=1)\n",
    "grid1.fit(X_train_pipe, y_train_pipe)"
   ]
  },
  {
   "cell_type": "code",
   "execution_count": null,
   "metadata": {},
   "outputs": [],
   "source": [
    "print(\"Best parameters set:\")\n",
    "grid1.best_estimator_.steps"
   ]
  },
  {
   "cell_type": "code",
   "execution_count": null,
   "metadata": {},
   "outputs": [],
   "source": [
    "grid1.best_score_"
   ]
  },
  {
   "cell_type": "code",
   "execution_count": null,
   "metadata": {},
   "outputs": [],
   "source": [
    "print(\"Applying best classifier on test data:\")\n",
    "best_clf = grid1.best_estimator_\n",
    "predictions1 = best_clf.predict(X_test_pipe)\n",
    "\n",
    "print(classification_report(y_test_pipe, predictions1, target_names=genres))"
   ]
  },
  {
   "cell_type": "code",
   "execution_count": null,
   "metadata": {},
   "outputs": [],
   "source": [
    "print(\"Accuracy = \",accuracy_score(y_test_pipe, predictions1))\n",
    "print(\"\\n\")"
   ]
  }
 ],
 "metadata": {
  "kernelspec": {
   "display_name": "Python 3",
   "language": "python",
   "name": "python3"
  },
  "language_info": {
   "codemirror_mode": {
    "name": "ipython",
    "version": 3
   },
   "file_extension": ".py",
   "mimetype": "text/x-python",
   "name": "python",
   "nbconvert_exporter": "python",
   "pygments_lexer": "ipython3",
   "version": "3.7.9"
  }
 },
 "nbformat": 4,
 "nbformat_minor": 4
}
