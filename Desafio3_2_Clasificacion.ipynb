{
 "cells": [
  {
   "cell_type": "markdown",
   "metadata": {},
   "source": [
    "<h2>Desafio 3 - Machine Learning</h2>\n",
    "\n",
    "<h4>Objetivo</h4>\n",
    "Construir un modelo de clasificación (Aprendizaje supervisado> clasificación) a partir de un dataset seleccionado.\n",
    "\n",
    "<h3>Grupo 7</h3>\n",
    "<ul>\n",
    "    <li>Ignacio Mendieta</li>\n",
    "    <li>Laura Jazmín Chao</li>\n",
    "    <li>Juan Nicolás Capistrano</li>\n",
    "    <li>Betiana Srur</li>\n",
    "    <li>Marecelo Carrizo</li>\n",
    "    \n",
    "</ul>\n",
    "<h3>Parte II - Clasificación"
   ]
  },
  {
   "cell_type": "markdown",
   "metadata": {},
   "source": [
    "<a id=\"section_toc\"></a> \n",
    "<h2> Tabla de Contenidos </h2>\n",
    "\n",
    "[Librerías](#section_import)\n",
    "\n",
    "[Dataset](#section_dataset)\n",
    "\n",
    "[Selección de géneros](#section_genre_selection)\n",
    "\n",
    "[Exploración de palabras representativas](#section_words)\n",
    "\n",
    "[Nubes de palabras](#section_wordcloud)\n",
    "\n",
    "[Encoder de targets](#section_ordinalEncoder)\n",
    "\n",
    "[Stemmer](#section_stemmer)\n",
    "\n",
    "[División de sets de entrenamiento y testeo](#section_train_test_split)\n",
    "\n",
    "[Primera prueba de clasificación](#section_clf_1)\n",
    "\n",
    "[Pipeline y GridSearch](#section_clf_pipeline)\n",
    "\n",
    "$\\hspace{.5cm}$[1. Logistic Regression](#section_logreg)\n",
    "\n",
    "$\\hspace{.5cm}$[2. Mulyinomial NB](#section_multiNB)\n"
   ]
  },
  {
   "cell_type": "markdown",
   "metadata": {},
   "source": [
    "<a id=\"section_import\"></a> \n",
    "<h3>Librerías</h3>\n",
    "\n",
    "[volver a TOC](#section_toc)"
   ]
  },
  {
   "cell_type": "code",
   "execution_count": 1,
   "metadata": {},
   "outputs": [],
   "source": [
    "import pandas as pd\n",
    "import numpy as np\n",
    "\n",
    "import seaborn as sns\n",
    "import matplotlib.pyplot as plt\n",
    "%matplotlib inline\n",
    "\n",
    "from sklearn.model_selection import train_test_split, StratifiedKFold, GridSearchCV, StratifiedShuffleSplit\n",
    "from sklearn.feature_extraction.text import TfidfVectorizer, CountVectorizer\n",
    "from sklearn.naive_bayes import MultinomialNB\n",
    "from sklearn.metrics import accuracy_score, confusion_matrix, classification_report\n",
    "\n",
    "import unidecode\n",
    "from nltk.corpus import stopwords \n",
    "stop_words = stopwords.words('english');\n",
    "\n",
    "from wordcloud import WordCloud, STOPWORDS"
   ]
  },
  {
   "cell_type": "code",
   "execution_count": 2,
   "metadata": {},
   "outputs": [],
   "source": [
    "pd.set_option('display.max_columns', 100) # Para mostrar todas las columnas\n",
    "# pd.set_option('display.max_rows', 100) # Para mostrar todas las filas"
   ]
  },
  {
   "cell_type": "markdown",
   "metadata": {},
   "source": [
    "<a id=\"section_dataset\"></a> \n",
    "<h3>Dataset</h3>\n",
    "\n",
    "[volver a TOC](#section_toc)"
   ]
  },
  {
   "cell_type": "code",
   "execution_count": 3,
   "metadata": {},
   "outputs": [
    {
     "data": {
      "text/html": [
       "<div>\n",
       "<style scoped>\n",
       "    .dataframe tbody tr th:only-of-type {\n",
       "        vertical-align: middle;\n",
       "    }\n",
       "\n",
       "    .dataframe tbody tr th {\n",
       "        vertical-align: top;\n",
       "    }\n",
       "\n",
       "    .dataframe thead th {\n",
       "        text-align: right;\n",
       "    }\n",
       "</style>\n",
       "<table border=\"1\" class=\"dataframe\">\n",
       "  <thead>\n",
       "    <tr style=\"text-align: right;\">\n",
       "      <th></th>\n",
       "      <th>description_clean</th>\n",
       "      <th>genre_unique</th>\n",
       "    </tr>\n",
       "  </thead>\n",
       "  <tbody>\n",
       "    <tr>\n",
       "      <th>0</th>\n",
       "      <td>the adventures of a female reporter in the 1890s</td>\n",
       "      <td>romance</td>\n",
       "    </tr>\n",
       "    <tr>\n",
       "      <th>1</th>\n",
       "      <td>true story of notorious australian outlaw ned ...</td>\n",
       "      <td>biography</td>\n",
       "    </tr>\n",
       "    <tr>\n",
       "      <th>2</th>\n",
       "      <td>the fabled queen of egypts affair with roman g...</td>\n",
       "      <td>drama</td>\n",
       "    </tr>\n",
       "    <tr>\n",
       "      <th>3</th>\n",
       "      <td>loosely adapted from dantes divine comedy and ...</td>\n",
       "      <td>adventure</td>\n",
       "    </tr>\n",
       "    <tr>\n",
       "      <th>4</th>\n",
       "      <td>an account of the life of jesus christ based o...</td>\n",
       "      <td>biography</td>\n",
       "    </tr>\n",
       "  </tbody>\n",
       "</table>\n",
       "</div>"
      ],
      "text/plain": [
       "                                   description_clean genre_unique\n",
       "0   the adventures of a female reporter in the 1890s      romance\n",
       "1  true story of notorious australian outlaw ned ...    biography\n",
       "2  the fabled queen of egypts affair with roman g...        drama\n",
       "3  loosely adapted from dantes divine comedy and ...    adventure\n",
       "4  an account of the life of jesus christ based o...    biography"
      ]
     },
     "execution_count": 3,
     "metadata": {},
     "output_type": "execute_result"
    }
   ],
   "source": [
    "data = pd.read_csv(\"data/movies_preprocesado.csv\", low_memory=False)\n",
    "data.head()"
   ]
  },
  {
   "cell_type": "code",
   "execution_count": 4,
   "metadata": {},
   "outputs": [
    {
     "data": {
      "text/plain": [
       "drama          24473\n",
       "comedy         23103\n",
       "action         11971\n",
       "crime           5453\n",
       "horror          4998\n",
       "adventure       3486\n",
       "animation       2045\n",
       "biography       2022\n",
       "thriller        1317\n",
       "romance          730\n",
       "western          611\n",
       "family           596\n",
       "mystery          585\n",
       "fantasy          486\n",
       "scifi            410\n",
       "musical          312\n",
       "war               98\n",
       "music             72\n",
       "history           71\n",
       "filmnoir          29\n",
       "sport             16\n",
       "adult              2\n",
       "documentary        1\n",
       "Name: genre_unique, dtype: int64"
      ]
     },
     "execution_count": 4,
     "metadata": {},
     "output_type": "execute_result"
    }
   ],
   "source": [
    "data['genre_unique'].value_counts()"
   ]
  },
  {
   "cell_type": "code",
   "execution_count": 5,
   "metadata": {},
   "outputs": [
    {
     "data": {
      "text/plain": [
       "(82887, 2)"
      ]
     },
     "execution_count": 5,
     "metadata": {},
     "output_type": "execute_result"
    }
   ],
   "source": [
    "data.shape"
   ]
  },
  {
   "cell_type": "code",
   "execution_count": 6,
   "metadata": {},
   "outputs": [
    {
     "data": {
      "text/plain": [
       "Index(['description_clean', 'genre_unique'], dtype='object')"
      ]
     },
     "execution_count": 6,
     "metadata": {},
     "output_type": "execute_result"
    }
   ],
   "source": [
    "data.columns"
   ]
  },
  {
   "cell_type": "markdown",
   "metadata": {},
   "source": [
    "<a id=\"section_genre_selection\"></a>\n",
    "<h3>Selección de géneros</h3>\n",
    "\n",
    "[volver a TOC](#section_toc)"
   ]
  },
  {
   "cell_type": "code",
   "execution_count": 7,
   "metadata": {},
   "outputs": [
    {
     "data": {
      "text/plain": [
       "array(['romance', 'biography', 'drama', 'adventure', 'crime', 'western',\n",
       "       'fantasy', 'comedy', 'horror', 'family', 'action', 'mystery',\n",
       "       'history', 'scifi', 'animation', 'musical', 'music', 'thriller',\n",
       "       'war', 'filmnoir', 'sport', 'adult', 'documentary'], dtype=object)"
      ]
     },
     "execution_count": 7,
     "metadata": {},
     "output_type": "execute_result"
    }
   ],
   "source": [
    "genres = data['genre_unique'].unique()\n",
    "genres"
   ]
  },
  {
   "cell_type": "code",
   "execution_count": 8,
   "metadata": {},
   "outputs": [],
   "source": [
    "mask_filter = (data['genre_unique']=='action') | (data['genre_unique']=='comedy') | (data['genre_unique']=='drama') | (data['genre_unique']=='horror') \n",
    "#| (data['genre_unique']=='romance')\n",
    "\n",
    "mask_filter\n",
    "data = data.loc[mask_filter, :]"
   ]
  },
  {
   "cell_type": "code",
   "execution_count": 9,
   "metadata": {},
   "outputs": [
    {
     "data": {
      "text/plain": [
       "drama     24473\n",
       "comedy    23103\n",
       "action    11971\n",
       "horror     4998\n",
       "Name: genre_unique, dtype: int64"
      ]
     },
     "execution_count": 9,
     "metadata": {},
     "output_type": "execute_result"
    }
   ],
   "source": [
    "data['genre_unique'].value_counts()"
   ]
  },
  {
   "cell_type": "markdown",
   "metadata": {},
   "source": [
    "<a id=\"section_words\"></a>\n",
    "<h3>Exploración de palabras representativas por género</h3>\n",
    "\n",
    "[volver a TOC](#section_toc)"
   ]
  },
  {
   "cell_type": "code",
   "execution_count": null,
   "metadata": {},
   "outputs": [],
   "source": [
    "# stop_words.extend(list(STOPWORDS))"
   ]
  },
  {
   "cell_type": "code",
   "execution_count": null,
   "metadata": {},
   "outputs": [],
   "source": [
    "# stop_words = list(set(stop_words))"
   ]
  },
  {
   "cell_type": "code",
   "execution_count": 10,
   "metadata": {},
   "outputs": [],
   "source": [
    "stop_words.extend(['young', 'life', 'man', 'find', 'get'])\n",
    "stop_words.append('family');\n",
    "stop_words.append('la');\n",
    "stop_words.append('woman');\n",
    "stop_words.append('il');\n",
    "stop_words.append('di');\n",
    "stop_words.append('young');\n",
    "stop_words.append('man');\n",
    "stop_words.append('life');\n",
    "stop_words.extend(['zero','one','two','three','four','five','six','seven','eight','nine','ten','may','also','across','among','beside','however','yet','within'])"
   ]
  },
  {
   "cell_type": "code",
   "execution_count": 11,
   "metadata": {},
   "outputs": [],
   "source": [
    "vectorizer=CountVectorizer(stop_words=stop_words)"
   ]
  },
  {
   "cell_type": "code",
   "execution_count": 12,
   "metadata": {},
   "outputs": [
    {
     "name": "stdout",
     "output_type": "stream",
     "text": [
      "\n",
      " Clase  drama\n",
      "['love' 'story' 'new' 'girl' 'lives' 'father' 'years' 'mother' 'war'\n",
      " 'wife' 'world' 'old' 'film' 'son' 'finds' 'school' 'home' 'friends'\n",
      " 'town' 'daughter' 'boy' 'falls' 'small' 'day' 'meets' 'husband' 'time'\n",
      " 'death' 'becomes' 'people']\n",
      "\n",
      " Clase  comedy\n",
      "['love' 'new' 'friends' 'girl' 'story' 'school' 'comedy' 'years' 'old'\n",
      " 'wife' 'lives' 'finds' 'father' 'gets' 'film' 'time' 'town' 'day' 'world'\n",
      " 'falls' 'group' 'back' 'home' 'friend' 'help' 'make' 'small' 'mother'\n",
      " 'decides' 'go']\n",
      "\n",
      " Clase  horror\n",
      "['group' 'house' 'friends' 'new' 'killer' 'mysterious' 'night' 'home'\n",
      " 'people' 'girl' 'town' 'years' 'old' 'death' 'haunted' 'horror' 'evil'\n",
      " 'dead' 'soon' 'must' 'film' 'college' 'strange' 'finds' 'couple' 'small'\n",
      " 'school' 'students' 'back' 'becomes']\n",
      "\n",
      " Clase  action\n",
      "['police' 'must' 'group' 'war' 'gang' 'new' 'world' 'story' 'love' 'gets'\n",
      " 'cop' 'son' 'take' 'father' 'help' 'finds' 'fight' 'agent' 'city' 'crime'\n",
      " 'death' 'years' 'town' 'officer' 'team' 'friends' 'back' 'revenge'\n",
      " 'former' 'brother']\n"
     ]
    }
   ],
   "source": [
    "clases = data['genre_unique'].unique()\n",
    "words = []\n",
    "\n",
    "for clase in clases:\n",
    "    X=vectorizer.fit_transform(data[data['genre_unique']==clase]['description_clean'])\n",
    "    counts=X.sum(axis=0)\n",
    "    counts=np.array(counts)\n",
    "    \n",
    "    indices=np.argsort(counts)\n",
    "    valores=np.sort(counts)\n",
    "    indices=indices[0][::-1]\n",
    "    valores=valores[0][::-1]\n",
    "    terms=np.array(vectorizer.get_feature_names())\n",
    "\n",
    "    print('\\n Clase ', clase)\n",
    "    print(terms[indices[:30]])\n",
    "    "
   ]
  },
  {
   "cell_type": "markdown",
   "metadata": {},
   "source": [
    "<a id=\"section_wordcloud\"></a>\n",
    "<h3>Nubes de palabras</h3>\n",
    "\n",
    "[volver a TOC](#section_toc)"
   ]
  },
  {
   "cell_type": "code",
   "execution_count": null,
   "metadata": {},
   "outputs": [],
   "source": [
    "for genre in clases:\n",
    "    plt.figure(figsize=(20,12.5))\n",
    "    subset = data[data['genre_unique']==genre]\n",
    "    text = subset['description_clean'].values\n",
    "    cloud = WordCloud(stopwords=stop_words,\n",
    "                      background_color='white',\n",
    "                      collocations=False,\n",
    "                      width=2500,\n",
    "                      height=1800,\n",
    "                      max_words=100).generate(\" \".join(text))\n",
    "    \n",
    "    plt.subplot(2, 3, 1)\n",
    "    plt.axis('off')\n",
    "    plt.title(genre,fontsize=20)\n",
    "    plt.imshow(cloud)\n",
    "\n"
   ]
  },
  {
   "cell_type": "markdown",
   "metadata": {},
   "source": [
    "<a id=\"section_ordinalEncoder\"></a>\n",
    "<h3>Encoder de targets</h3>\n",
    "\n",
    "[volver a TOC](#section_toc)"
   ]
  },
  {
   "cell_type": "code",
   "execution_count": 13,
   "metadata": {},
   "outputs": [
    {
     "data": {
      "text/html": [
       "<div>\n",
       "<style scoped>\n",
       "    .dataframe tbody tr th:only-of-type {\n",
       "        vertical-align: middle;\n",
       "    }\n",
       "\n",
       "    .dataframe tbody tr th {\n",
       "        vertical-align: top;\n",
       "    }\n",
       "\n",
       "    .dataframe thead th {\n",
       "        text-align: right;\n",
       "    }\n",
       "</style>\n",
       "<table border=\"1\" class=\"dataframe\">\n",
       "  <thead>\n",
       "    <tr style=\"text-align: right;\">\n",
       "      <th></th>\n",
       "      <th>description_clean</th>\n",
       "      <th>genre_unique</th>\n",
       "    </tr>\n",
       "  </thead>\n",
       "  <tbody>\n",
       "    <tr>\n",
       "      <th>2</th>\n",
       "      <td>the fabled queen of egypts affair with roman g...</td>\n",
       "      <td>drama</td>\n",
       "    </tr>\n",
       "    <tr>\n",
       "      <th>6</th>\n",
       "      <td>an epic italian film quo vadis influenced many...</td>\n",
       "      <td>drama</td>\n",
       "    </tr>\n",
       "  </tbody>\n",
       "</table>\n",
       "</div>"
      ],
      "text/plain": [
       "                                   description_clean genre_unique\n",
       "2  the fabled queen of egypts affair with roman g...        drama\n",
       "6  an epic italian film quo vadis influenced many...        drama"
      ]
     },
     "execution_count": 13,
     "metadata": {},
     "output_type": "execute_result"
    }
   ],
   "source": [
    "data.head(2)"
   ]
  },
  {
   "cell_type": "code",
   "execution_count": 14,
   "metadata": {},
   "outputs": [
    {
     "data": {
      "text/html": [
       "<div>\n",
       "<style scoped>\n",
       "    .dataframe tbody tr th:only-of-type {\n",
       "        vertical-align: middle;\n",
       "    }\n",
       "\n",
       "    .dataframe tbody tr th {\n",
       "        vertical-align: top;\n",
       "    }\n",
       "\n",
       "    .dataframe thead th {\n",
       "        text-align: right;\n",
       "    }\n",
       "</style>\n",
       "<table border=\"1\" class=\"dataframe\">\n",
       "  <thead>\n",
       "    <tr style=\"text-align: right;\">\n",
       "      <th></th>\n",
       "      <th>description_clean</th>\n",
       "      <th>genre_unique</th>\n",
       "      <th>target_genre</th>\n",
       "    </tr>\n",
       "  </thead>\n",
       "  <tbody>\n",
       "    <tr>\n",
       "      <th>5809</th>\n",
       "      <td>a struggling artist becomes a new york city pr...</td>\n",
       "      <td>drama</td>\n",
       "      <td>2.0</td>\n",
       "    </tr>\n",
       "    <tr>\n",
       "      <th>50709</th>\n",
       "      <td>everything that can go wrong goes wrong when c...</td>\n",
       "      <td>comedy</td>\n",
       "      <td>1.0</td>\n",
       "    </tr>\n",
       "    <tr>\n",
       "      <th>40457</th>\n",
       "      <td>a weekend reunion becomes a confrontation with...</td>\n",
       "      <td>horror</td>\n",
       "      <td>3.0</td>\n",
       "    </tr>\n",
       "  </tbody>\n",
       "</table>\n",
       "</div>"
      ],
      "text/plain": [
       "                                       description_clean genre_unique  \\\n",
       "5809   a struggling artist becomes a new york city pr...        drama   \n",
       "50709  everything that can go wrong goes wrong when c...       comedy   \n",
       "40457  a weekend reunion becomes a confrontation with...       horror   \n",
       "\n",
       "       target_genre  \n",
       "5809            2.0  \n",
       "50709           1.0  \n",
       "40457           3.0  "
      ]
     },
     "execution_count": 14,
     "metadata": {},
     "output_type": "execute_result"
    }
   ],
   "source": [
    "#se puede usar LabelEncoder tambien!\n",
    "from sklearn.preprocessing import OrdinalEncoder\n",
    "#Cuando le paso las categorías como paramétro me tira error The truth value of an array with more than one element is ambiguous. Use a.any() or a.all()\n",
    "ord_enc = OrdinalEncoder()\n",
    "data[\"target_genre\"] = ord_enc.fit_transform(data[[\"genre_unique\"]])\n",
    "\n",
    "data.sample(3)"
   ]
  },
  {
   "cell_type": "markdown",
   "metadata": {},
   "source": [
    "<a id=\"section_stemmer\"></a>\n",
    "<h3>Stemmer</h3>\n",
    "\n",
    "[volver a TOC](#section_toc)"
   ]
  },
  {
   "cell_type": "code",
   "execution_count": 15,
   "metadata": {},
   "outputs": [],
   "source": [
    "from nltk.stem.snowball import SnowballStemmer"
   ]
  },
  {
   "cell_type": "code",
   "execution_count": 16,
   "metadata": {},
   "outputs": [],
   "source": [
    "stemmer = SnowballStemmer(\"english\")\n",
    "def stemming(sentence):\n",
    "    stemSentence = \"\"\n",
    "    for word in sentence.split():\n",
    "        stem = stemmer.stem(word)\n",
    "        stemSentence += stem\n",
    "        stemSentence += \" \"\n",
    "    stemSentence = stemSentence.strip()\n",
    "    return stemSentence\n",
    "\n"
   ]
  },
  {
   "cell_type": "code",
   "execution_count": 17,
   "metadata": {},
   "outputs": [
    {
     "data": {
      "text/html": [
       "<div>\n",
       "<style scoped>\n",
       "    .dataframe tbody tr th:only-of-type {\n",
       "        vertical-align: middle;\n",
       "    }\n",
       "\n",
       "    .dataframe tbody tr th {\n",
       "        vertical-align: top;\n",
       "    }\n",
       "\n",
       "    .dataframe thead th {\n",
       "        text-align: right;\n",
       "    }\n",
       "</style>\n",
       "<table border=\"1\" class=\"dataframe\">\n",
       "  <thead>\n",
       "    <tr style=\"text-align: right;\">\n",
       "      <th></th>\n",
       "      <th>description_clean</th>\n",
       "      <th>genre_unique</th>\n",
       "      <th>target_genre</th>\n",
       "    </tr>\n",
       "  </thead>\n",
       "  <tbody>\n",
       "    <tr>\n",
       "      <th>2</th>\n",
       "      <td>the fabl queen of egypt affair with roman gene...</td>\n",
       "      <td>drama</td>\n",
       "      <td>2.0</td>\n",
       "    </tr>\n",
       "    <tr>\n",
       "      <th>6</th>\n",
       "      <td>an epic italian film quo vadi influenc mani of...</td>\n",
       "      <td>drama</td>\n",
       "      <td>2.0</td>\n",
       "    </tr>\n",
       "    <tr>\n",
       "      <th>7</th>\n",
       "      <td>richard of gloucest use manipul and murder to ...</td>\n",
       "      <td>drama</td>\n",
       "      <td>2.0</td>\n",
       "    </tr>\n",
       "    <tr>\n",
       "      <th>8</th>\n",
       "      <td>after dr friedrich wife becom mental unstabl a...</td>\n",
       "      <td>drama</td>\n",
       "      <td>2.0</td>\n",
       "    </tr>\n",
       "    <tr>\n",
       "      <th>11</th>\n",
       "      <td>lesli swayn an adventur in order to obtain eno...</td>\n",
       "      <td>drama</td>\n",
       "      <td>2.0</td>\n",
       "    </tr>\n",
       "  </tbody>\n",
       "</table>\n",
       "</div>"
      ],
      "text/plain": [
       "                                    description_clean genre_unique  \\\n",
       "2   the fabl queen of egypt affair with roman gene...        drama   \n",
       "6   an epic italian film quo vadi influenc mani of...        drama   \n",
       "7   richard of gloucest use manipul and murder to ...        drama   \n",
       "8   after dr friedrich wife becom mental unstabl a...        drama   \n",
       "11  lesli swayn an adventur in order to obtain eno...        drama   \n",
       "\n",
       "    target_genre  \n",
       "2            2.0  \n",
       "6            2.0  \n",
       "7            2.0  \n",
       "8            2.0  \n",
       "11           2.0  "
      ]
     },
     "execution_count": 17,
     "metadata": {},
     "output_type": "execute_result"
    }
   ],
   "source": [
    "data['description_clean'] = data['description_clean'].apply(stemming)\n",
    "data.head()"
   ]
  },
  {
   "cell_type": "markdown",
   "metadata": {},
   "source": [
    "<a id=\"section_train_test_split\"></a>\n",
    "<h3>División de sets de entrenamiento y testeo</h3>\n",
    "\n",
    "[volver a TOC](#section_toc)"
   ]
  },
  {
   "cell_type": "code",
   "execution_count": 18,
   "metadata": {},
   "outputs": [],
   "source": [
    "train, test = train_test_split(data, random_state=42, test_size=0.30, shuffle=True)\n",
    "train_text = train['description_clean']\n",
    "test_text = test['description_clean']"
   ]
  },
  {
   "cell_type": "code",
   "execution_count": 19,
   "metadata": {},
   "outputs": [
    {
     "data": {
      "text/plain": [
       "78514    base on the bestsel book of the same name mons...\n",
       "26635    ryu dhalsim and vega are sent out to stop m bi...\n",
       "12257    after a black man daughter is kill by the kkk ...\n",
       "74031    two young peopl figur out how to shape their f...\n",
       "17225    older group of worker are forc to attend the h...\n",
       "Name: description_clean, dtype: object"
      ]
     },
     "execution_count": 19,
     "metadata": {},
     "output_type": "execute_result"
    }
   ],
   "source": [
    "train_text.head()"
   ]
  },
  {
   "cell_type": "code",
   "execution_count": 20,
   "metadata": {},
   "outputs": [
    {
     "data": {
      "text/plain": [
       "TfidfVectorizer(max_features=20000, min_df=10, ngram_range=(1, 3),\n",
       "                stop_words=['i', 'me', 'my', 'myself', 'we', 'our', 'ours',\n",
       "                            'ourselves', 'you', \"you're\", \"you've\", \"you'll\",\n",
       "                            \"you'd\", 'your', 'yours', 'yourself', 'yourselves',\n",
       "                            'he', 'him', 'his', 'himself', 'she', \"she's\",\n",
       "                            'her', 'hers', 'herself', 'it', \"it's\", 'its',\n",
       "                            'itself', ...])"
      ]
     },
     "execution_count": 20,
     "metadata": {},
     "output_type": "execute_result"
    }
   ],
   "source": [
    "vectorizer = TfidfVectorizer(min_df=10,ngram_range=(1,3),max_features=20000, stop_words=stop_words)\n",
    "vectorizer.fit(train_text)"
   ]
  },
  {
   "cell_type": "code",
   "execution_count": 21,
   "metadata": {},
   "outputs": [],
   "source": [
    "X_train = vectorizer.transform(train_text)\n",
    "X_test = vectorizer.transform(test_text)\n",
    "y_train = train['genre_unique']\n",
    "y_test = test['genre_unique']"
   ]
  },
  {
   "cell_type": "markdown",
   "metadata": {},
   "source": [
    "<a id=\"section_clf_1\"></a>\n",
    "<h3>Primera prueba de clasificación</h3>\n",
    "\n",
    "[volver a TOC](#section_toc)"
   ]
  },
  {
   "cell_type": "code",
   "execution_count": 22,
   "metadata": {},
   "outputs": [],
   "source": [
    "from sklearn.linear_model import LogisticRegression\n",
    "from sklearn.pipeline import Pipeline\n",
    "from sklearn.metrics import accuracy_score\n",
    "from sklearn.naive_bayes import MultinomialNB"
   ]
  },
  {
   "cell_type": "code",
   "execution_count": 23,
   "metadata": {},
   "outputs": [
    {
     "data": {
      "text/plain": [
       "4"
      ]
     },
     "execution_count": 23,
     "metadata": {},
     "output_type": "execute_result"
    }
   ],
   "source": [
    "genres = data['genre_unique'].unique()\n",
    "len(genres)"
   ]
  },
  {
   "cell_type": "code",
   "execution_count": 24,
   "metadata": {},
   "outputs": [
    {
     "name": "stderr",
     "output_type": "stream",
     "text": [
      "[Parallel(n_jobs=-1)]: Using backend LokyBackend with 4 concurrent workers.\n"
     ]
    },
    {
     "name": "stdout",
     "output_type": "stream",
     "text": [
      "Test accuracy is 0.619809956620533\n"
     ]
    },
    {
     "name": "stderr",
     "output_type": "stream",
     "text": [
      "[Parallel(n_jobs=-1)]: Done   1 out of   1 | elapsed:    3.3s finished\n"
     ]
    }
   ],
   "source": [
    "classifier_log = LogisticRegression(penalty='l2', solver='lbfgs', multi_class='multinomial', verbose=1, n_jobs=-1)\n",
    "classifier_log.fit(X_train, y_train)\n",
    "prediction = classifier_log.predict(X_test)\n",
    "print('Test accuracy is {}'.format(accuracy_score(y_test, prediction)))"
   ]
  },
  {
   "cell_type": "code",
   "execution_count": null,
   "metadata": {},
   "outputs": [],
   "source": [
    "print(classification_report(y_test, prediction, zero_division=1))"
   ]
  },
  {
   "cell_type": "code",
   "execution_count": null,
   "metadata": {},
   "outputs": [],
   "source": [
    "classifier_log.classes_"
   ]
  },
  {
   "cell_type": "code",
   "execution_count": null,
   "metadata": {},
   "outputs": [],
   "source": [
    "print(confusion_matrix(y_test, prediction))"
   ]
  },
  {
   "cell_type": "code",
   "execution_count": null,
   "metadata": {},
   "outputs": [],
   "source": [
    "conf_matrix = confusion_matrix(y_test, prediction)\n",
    "conf_mat_df = pd.DataFrame(data=conf_matrix, \n",
    "                           index=classifier_log.classes_, \n",
    "                           columns=classifier_log.classes_)\n"
   ]
  },
  {
   "cell_type": "code",
   "execution_count": null,
   "metadata": {},
   "outputs": [],
   "source": [
    "conf_mat_df"
   ]
  },
  {
   "cell_type": "code",
   "execution_count": null,
   "metadata": {},
   "outputs": [],
   "source": [
    "heatmap = sns.heatmap(conf_mat_df, annot=True, fmt='d', cmap='YlGnBu')\n",
    "plt.xlabel(\"Predichos\") \n",
    "plt.ylabel(\"Observados\")\n",
    "plt.show()"
   ]
  },
  {
   "cell_type": "markdown",
   "metadata": {},
   "source": [
    "## SVC"
   ]
  },
  {
   "cell_type": "code",
   "execution_count": null,
   "metadata": {},
   "outputs": [],
   "source": [
    "# from sklearn.svm import SVC\n",
    "# svc = SVC(kernel = 'rbf')\n",
    "# svc.fit(X_train, y_train)\n",
    "\n",
    "# y_pred_svc = svc.predict(X_test)\n",
    "\n",
    "# print(\"Accuracy of Support Vector Classifier is: {}%\".format(accuracy_score(y_test, y_pred_svc) * 100))\n",
    "# print(\"Confusion Matrix of Support Vector Classifier is: \\n{}\".format(confusion_matrix(y_test, y_pred_svc)))\n",
    "# print(\"{}\".format(classification_report(y_test, y_pred_svc)))"
   ]
  },
  {
   "cell_type": "markdown",
   "metadata": {},
   "source": [
    "<a id=\"section_clf_pipeline\"></a>\n",
    "<h3>Pipeline y Gridsearch</h3>\n",
    "\n",
    "[volver a TOC](#section_toc)"
   ]
  },
  {
   "cell_type": "markdown",
   "metadata": {},
   "source": [
    "<a id=\"section_logreg\"></a>\n",
    "<h4>Logistic Regression</h4>\n",
    "\n",
    "[volver a TOC](#section_toc)"
   ]
  },
  {
   "cell_type": "code",
   "execution_count": null,
   "metadata": {},
   "outputs": [],
   "source": [
    "data_y = data['genre_unique']\n",
    "X_train_pipe, X_test_pipe, y_train_pipe, y_test_pipe = train_test_split(data_x, data_y, random_state=42, test_size=0.33, shuffle=True)"
   ]
  },
  {
   "cell_type": "code",
   "execution_count": null,
   "metadata": {},
   "outputs": [],
   "source": [
    "\n",
    "pipeline = Pipeline([('tfidf', TfidfVectorizer(stop_words=stop_words)), \n",
    "                     ('log', LogisticRegression())])\n",
    "\n",
    "parameters = {'tfidf__ngram_range': [(1, 1), (1, 2), (1, 3)],\n",
    "              'log__penalty': ['l2'],\n",
    "              'log__C': [0.01, 0.1, 1],\n",
    "              \"log__class_weight\": ['balanced', None],\n",
    "              \"log__solver\" : ['sag', 'lbfgs']\n",
    "}\n",
    "\n",
    "# skf=StratifiedKFold(n_splits=3, random_state=3, shuffle=True)\n"
   ]
  },
  {
   "cell_type": "code",
   "execution_count": null,
   "metadata": {},
   "outputs": [],
   "source": [
    "grid = GridSearchCV(\n",
    "    pipeline, parameters, cv=3, n_jobs=2, verbose=1)\n",
    "grid.fit(X_train_pipe, y_train_pipe)"
   ]
  },
  {
   "cell_type": "code",
   "execution_count": null,
   "metadata": {},
   "outputs": [],
   "source": [
    "print(\"Best parameters set:\")\n",
    "grid.best_estimator_.steps"
   ]
  },
  {
   "cell_type": "code",
   "execution_count": null,
   "metadata": {},
   "outputs": [],
   "source": [
    "print(\"Applying best classifier on test data:\")\n",
    "predictions = grid.best_estimator_.predict(X_test_pipe)\n",
    "\n",
    "print(classification_report(y_test_pipe, predictions, target_names=genres))"
   ]
  },
  {
   "cell_type": "code",
   "execution_count": null,
   "metadata": {},
   "outputs": [],
   "source": [
    "print(\"Accuracy = \",accuracy_score(y_test_pipe,predictions))\n",
    "print(\"\\n\")"
   ]
  },
  {
   "cell_type": "code",
   "execution_count": null,
   "metadata": {},
   "outputs": [],
   "source": []
  },
  {
   "cell_type": "markdown",
   "metadata": {},
   "source": [
    "<a id=\"section_multiNB\"></a>\n",
    "<h4>Multinomial NB</h4>\n",
    "\n",
    "[volver a TOC](#section_toc)"
   ]
  },
  {
   "cell_type": "code",
   "execution_count": null,
   "metadata": {},
   "outputs": [],
   "source": [
    "pipeline1 = Pipeline([\n",
    "    ('tfidf', TfidfVectorizer(stop_words=stop_words)),\n",
    "    ('clf', MultinomialNB(\n",
    "        fit_prior=True, class_prior=None))\n",
    "])\n",
    "parameters1 = {\n",
    "#     'tfidf__max_df': [50, 100, 200],\n",
    "    'tfidf__ngram_range': [(1, 1), (1, 2), (1, 3)],\n",
    "#     'tfidf__norm':['l1', 'l2']\n",
    "    'clf__alpha': (1e-2, 1e-3)\n",
    "}"
   ]
  },
  {
   "cell_type": "code",
   "execution_count": null,
   "metadata": {},
   "outputs": [],
   "source": [
    "grid1 = GridSearchCV(\n",
    "    pipeline1, parameters1, cv=3, n_jobs=2, verbose=1)\n",
    "grid1.fit(X_train_pipe, y_train_pipe)"
   ]
  },
  {
   "cell_type": "code",
   "execution_count": null,
   "metadata": {},
   "outputs": [],
   "source": [
    "print(\"Best parameters set:\")\n",
    "grid1.best_estimator_.steps"
   ]
  },
  {
   "cell_type": "code",
   "execution_count": null,
   "metadata": {},
   "outputs": [],
   "source": [
    "grid1.best_score_"
   ]
  },
  {
   "cell_type": "code",
   "execution_count": null,
   "metadata": {},
   "outputs": [],
   "source": [
    "print(\"Applying best classifier on test data:\")\n",
    "best_clf = grid1.best_estimator_\n",
    "predictions1 = best_clf.predict(X_test_pipe)\n",
    "\n",
    "print(classification_report(y_test_pipe, predictions1, target_names=genres))"
   ]
  },
  {
   "cell_type": "code",
   "execution_count": null,
   "metadata": {},
   "outputs": [],
   "source": [
    "print(\"Accuracy = \",accuracy_score(y_test_pipe, predictions1))\n",
    "print(\"\\n\")"
   ]
  }
 ],
 "metadata": {
  "kernelspec": {
   "display_name": "Python 3",
   "language": "python",
   "name": "python3"
  },
  "language_info": {
   "codemirror_mode": {
    "name": "ipython",
    "version": 3
   },
   "file_extension": ".py",
   "mimetype": "text/x-python",
   "name": "python",
   "nbconvert_exporter": "python",
   "pygments_lexer": "ipython3",
   "version": "3.7.9"
  }
 },
 "nbformat": 4,
 "nbformat_minor": 4
}
