{
 "cells": [
  {
   "cell_type": "code",
   "execution_count": 160,
   "metadata": {},
   "outputs": [],
   "source": [
    "import pandas as pd\n",
    "import numpy as np\n",
    "import seaborn as sns\n",
    "import matplotlib.pyplot as plt\n",
    "%matplotlib inline\n",
    "from sklearn.model_selection import train_test_split, StratifiedKFold, GridSearchCV, StratifiedShuffleSplit\n",
    "from sklearn.feature_extraction.text import TfidfVectorizer\n",
    "from sklearn.naive_bayes import MultinomialNB\n",
    "from sklearn.metrics import accuracy_score,confusion_matrix, classification_report\n",
    "import unidecode\n",
    "from nltk.corpus import stopwords \n",
    "\n",
    "from sklearn.feature_extraction.text import CountVectorizer\n",
    "stop_words=stopwords.words('english');"
   ]
  },
  {
   "cell_type": "code",
   "execution_count": 161,
   "metadata": {},
   "outputs": [],
   "source": [
    "pd.set_option('display.max_columns', 100) # Para mostrar todas las columnas\n",
    "# pd.set_option('display.max_rows', 100) # Para mostrar todas las filas"
   ]
  },
  {
   "cell_type": "code",
   "execution_count": 162,
   "metadata": {},
   "outputs": [
    {
     "data": {
      "text/html": [
       "<div>\n",
       "<style scoped>\n",
       "    .dataframe tbody tr th:only-of-type {\n",
       "        vertical-align: middle;\n",
       "    }\n",
       "\n",
       "    .dataframe tbody tr th {\n",
       "        vertical-align: top;\n",
       "    }\n",
       "\n",
       "    .dataframe thead th {\n",
       "        text-align: right;\n",
       "    }\n",
       "</style>\n",
       "<table border=\"1\" class=\"dataframe\">\n",
       "  <thead>\n",
       "    <tr style=\"text-align: right;\">\n",
       "      <th></th>\n",
       "      <th>description_clean</th>\n",
       "      <th>genre_clean</th>\n",
       "    </tr>\n",
       "  </thead>\n",
       "  <tbody>\n",
       "    <tr>\n",
       "      <th>0</th>\n",
       "      <td>miss jerry the adventures of a female reporter...</td>\n",
       "      <td>romance</td>\n",
       "    </tr>\n",
       "    <tr>\n",
       "      <th>1</th>\n",
       "      <td>the story of the kelly gang true story of noto...</td>\n",
       "      <td>biography crime drama</td>\n",
       "    </tr>\n",
       "    <tr>\n",
       "      <th>2</th>\n",
       "      <td>cleopatra the fabled queen of egypts affair wi...</td>\n",
       "      <td>drama history</td>\n",
       "    </tr>\n",
       "    <tr>\n",
       "      <th>3</th>\n",
       "      <td>linferno loosely adapted from dantes divine co...</td>\n",
       "      <td>adventure drama fantasy</td>\n",
       "    </tr>\n",
       "    <tr>\n",
       "      <th>4</th>\n",
       "      <td>from the manger to the cross or jesus of nazar...</td>\n",
       "      <td>biography drama</td>\n",
       "    </tr>\n",
       "  </tbody>\n",
       "</table>\n",
       "</div>"
      ],
      "text/plain": [
       "                                   description_clean              genre_clean\n",
       "0  miss jerry the adventures of a female reporter...                  romance\n",
       "1  the story of the kelly gang true story of noto...    biography crime drama\n",
       "2  cleopatra the fabled queen of egypts affair wi...            drama history\n",
       "3  linferno loosely adapted from dantes divine co...  adventure drama fantasy\n",
       "4  from the manger to the cross or jesus of nazar...          biography drama"
      ]
     },
     "execution_count": 162,
     "metadata": {},
     "output_type": "execute_result"
    }
   ],
   "source": [
    "data = pd.read_csv(\"data/movies_preprocesadas.csv\", low_memory=False)\n",
    "data.head()"
   ]
  },
  {
   "cell_type": "code",
   "execution_count": 163,
   "metadata": {},
   "outputs": [
    {
     "data": {
      "text/plain": [
       "drama                     11929\n",
       "comedy                     7067\n",
       "comedy drama               3856\n",
       "drama romance              3349\n",
       "comedy romance             2398\n",
       "                          ...  \n",
       "fantasy animation             1\n",
       "drama fantasy family          1\n",
       "action mystery western        1\n",
       "horror romance western        1\n",
       "comedy music mystery          1\n",
       "Name: genre_clean, Length: 1238, dtype: int64"
      ]
     },
     "execution_count": 163,
     "metadata": {},
     "output_type": "execute_result"
    }
   ],
   "source": [
    "data['genre_clean'].value_counts()"
   ]
  },
  {
   "cell_type": "code",
   "execution_count": 164,
   "metadata": {},
   "outputs": [
    {
     "data": {
      "text/plain": [
       "(82880, 2)"
      ]
     },
     "execution_count": 164,
     "metadata": {},
     "output_type": "execute_result"
    }
   ],
   "source": [
    "data.shape"
   ]
  },
  {
   "cell_type": "code",
   "execution_count": 165,
   "metadata": {},
   "outputs": [
    {
     "data": {
      "text/plain": [
       "Index(['description_clean', 'genre_clean'], dtype='object')"
      ]
     },
     "execution_count": 165,
     "metadata": {},
     "output_type": "execute_result"
    }
   ],
   "source": [
    "data.columns"
   ]
  },
  {
   "cell_type": "code",
   "execution_count": 166,
   "metadata": {},
   "outputs": [],
   "source": [
    "data['genre'] = data['genre_clean'].str.split(\" \").map(lambda x: x[0])"
   ]
  },
  {
   "cell_type": "code",
   "execution_count": 167,
   "metadata": {},
   "outputs": [
    {
     "data": {
      "text/html": [
       "<div>\n",
       "<style scoped>\n",
       "    .dataframe tbody tr th:only-of-type {\n",
       "        vertical-align: middle;\n",
       "    }\n",
       "\n",
       "    .dataframe tbody tr th {\n",
       "        vertical-align: top;\n",
       "    }\n",
       "\n",
       "    .dataframe thead th {\n",
       "        text-align: right;\n",
       "    }\n",
       "</style>\n",
       "<table border=\"1\" class=\"dataframe\">\n",
       "  <thead>\n",
       "    <tr style=\"text-align: right;\">\n",
       "      <th></th>\n",
       "      <th>description_clean</th>\n",
       "      <th>genre_clean</th>\n",
       "      <th>genre</th>\n",
       "    </tr>\n",
       "  </thead>\n",
       "  <tbody>\n",
       "    <tr>\n",
       "      <th>17693</th>\n",
       "      <td>the last dinosaur a wealthy big game hunter an...</td>\n",
       "      <td>action adventure scifi</td>\n",
       "      <td>action</td>\n",
       "    </tr>\n",
       "    <tr>\n",
       "      <th>44171</th>\n",
       "      <td>return of the living dead necropolis a group o...</td>\n",
       "      <td>action comedy horror</td>\n",
       "      <td>action</td>\n",
       "    </tr>\n",
       "    <tr>\n",
       "      <th>43704</th>\n",
       "      <td>a history of violence a mildmannered man becom...</td>\n",
       "      <td>drama thriller</td>\n",
       "      <td>drama</td>\n",
       "    </tr>\n",
       "    <tr>\n",
       "      <th>34825</th>\n",
       "      <td>il salvatore in 1943 rural french teenager nan...</td>\n",
       "      <td>drama war</td>\n",
       "      <td>drama</td>\n",
       "    </tr>\n",
       "    <tr>\n",
       "      <th>41448</th>\n",
       "      <td>runaways runaways is steve moores story hes si...</td>\n",
       "      <td>drama romance</td>\n",
       "      <td>drama</td>\n",
       "    </tr>\n",
       "  </tbody>\n",
       "</table>\n",
       "</div>"
      ],
      "text/plain": [
       "                                       description_clean  \\\n",
       "17693  the last dinosaur a wealthy big game hunter an...   \n",
       "44171  return of the living dead necropolis a group o...   \n",
       "43704  a history of violence a mildmannered man becom...   \n",
       "34825  il salvatore in 1943 rural french teenager nan...   \n",
       "41448  runaways runaways is steve moores story hes si...   \n",
       "\n",
       "                  genre_clean   genre  \n",
       "17693  action adventure scifi  action  \n",
       "44171    action comedy horror  action  \n",
       "43704          drama thriller   drama  \n",
       "34825               drama war   drama  \n",
       "41448           drama romance   drama  "
      ]
     },
     "execution_count": 167,
     "metadata": {},
     "output_type": "execute_result"
    }
   ],
   "source": [
    "data.sample(5)"
   ]
  },
  {
   "cell_type": "code",
   "execution_count": 168,
   "metadata": {},
   "outputs": [
    {
     "data": {
      "text/plain": [
       "array(['romance', 'biography', 'drama', 'adventure', 'crime', 'western',\n",
       "       'fantasy', 'comedy', 'horror', 'family', 'action', 'mystery',\n",
       "       'history', 'scifi', 'animation', 'musical', 'music', 'thriller',\n",
       "       'war', 'filmnoir', 'sport'], dtype=object)"
      ]
     },
     "execution_count": 168,
     "metadata": {},
     "output_type": "execute_result"
    }
   ],
   "source": [
    "genres = data['genre'].unique()\n",
    "genres"
   ]
  },
  {
   "cell_type": "code",
   "execution_count": 169,
   "metadata": {},
   "outputs": [],
   "source": [
    "mask_filter = (data['genre']=='action') | (data['genre']=='comedy') | (data['genre']=='drama') | (data['genre']=='horror')\n",
    "mask_filter\n",
    "data = data.loc[mask_filter, :]"
   ]
  },
  {
   "cell_type": "code",
   "execution_count": 170,
   "metadata": {},
   "outputs": [
    {
     "data": {
      "text/html": [
       "<div>\n",
       "<style scoped>\n",
       "    .dataframe tbody tr th:only-of-type {\n",
       "        vertical-align: middle;\n",
       "    }\n",
       "\n",
       "    .dataframe tbody tr th {\n",
       "        vertical-align: top;\n",
       "    }\n",
       "\n",
       "    .dataframe thead th {\n",
       "        text-align: right;\n",
       "    }\n",
       "</style>\n",
       "<table border=\"1\" class=\"dataframe\">\n",
       "  <thead>\n",
       "    <tr style=\"text-align: right;\">\n",
       "      <th></th>\n",
       "      <th>description_clean</th>\n",
       "      <th>genre_clean</th>\n",
       "      <th>genre</th>\n",
       "      <th>target_genre</th>\n",
       "    </tr>\n",
       "  </thead>\n",
       "  <tbody>\n",
       "    <tr>\n",
       "      <th>25583</th>\n",
       "      <td>mio caro dottor grasler a preworld war i physi...</td>\n",
       "      <td>drama</td>\n",
       "      <td>drama</td>\n",
       "      <td>2.0</td>\n",
       "    </tr>\n",
       "    <tr>\n",
       "      <th>58621</th>\n",
       "      <td>kolka cool summer story about two brothers and...</td>\n",
       "      <td>comedy drama</td>\n",
       "      <td>comedy</td>\n",
       "      <td>1.0</td>\n",
       "    </tr>\n",
       "    <tr>\n",
       "      <th>26619</th>\n",
       "      <td>calendar a photographer and his wife take phot...</td>\n",
       "      <td>comedy drama romance</td>\n",
       "      <td>comedy</td>\n",
       "      <td>1.0</td>\n",
       "    </tr>\n",
       "  </tbody>\n",
       "</table>\n",
       "</div>"
      ],
      "text/plain": [
       "                                       description_clean  \\\n",
       "25583  mio caro dottor grasler a preworld war i physi...   \n",
       "58621  kolka cool summer story about two brothers and...   \n",
       "26619  calendar a photographer and his wife take phot...   \n",
       "\n",
       "                genre_clean   genre  target_genre  \n",
       "25583                 drama   drama           2.0  \n",
       "58621          comedy drama  comedy           1.0  \n",
       "26619  comedy drama romance  comedy           1.0  "
      ]
     },
     "execution_count": 170,
     "metadata": {},
     "output_type": "execute_result"
    }
   ],
   "source": [
    "from sklearn.preprocessing import OrdinalEncoder\n",
    "#Cuando le paso las categorías como paramétro me tira error The truth value of an array with more than one element is ambiguous. Use a.any() or a.all()\n",
    "ord_enc = OrdinalEncoder()\n",
    "data[\"target_genre\"] = ord_enc.fit_transform(data[[\"genre\"]])\n",
    "\n",
    "data.sample(3)"
   ]
  },
  {
   "cell_type": "code",
   "execution_count": 171,
   "metadata": {},
   "outputs": [
    {
     "name": "stdout",
     "output_type": "stream",
     "text": [
      "\n",
      " Clase  action\n",
      "['man' 'young' 'two' 'one' 'life' 'police' 'war' 'must' 'group' 'find'\n",
      " 'new' 'gang' 'world' 'story' 'love' 'cop' 'gets' 'get' 'son' 'take'\n",
      " 'city' 'fight' 'father' 'agent' 'death' 'help' 'finds' 'crime' 'time'\n",
      " 'back']\n",
      "\n",
      " Clase  drama\n",
      "['love' 'life' 'two' 'young' 'man' 'one' 'new' 'friends' 'get' 'girl'\n",
      " 'story' 'three' 'find' 'school' 'comedy' 'old' 'wife' 'years' 'lives'\n",
      " 'finds' 'film' 'father' 'gets' 'time' 'day' 'town' 'world' 'home' 'back'\n",
      " 'falls']\n",
      "\n",
      " Clase  comedy\n",
      "['young' 'life' 'love' 'man' 'story' 'two' 'one' 'girl' 'new' 'lives'\n",
      " 'father' 'years' 'mother' 'war' 'wife' 'world' 'old' 'son' 'film' 'find'\n",
      " 'home' 'school' 'finds' 'friends' 'town' 'boy' 'daughter' 'three' 'falls'\n",
      " 'day']\n",
      "\n",
      " Clase  horror\n",
      "['young' 'one' 'group' 'house' 'man' 'night' 'killer' 'friends' 'new'\n",
      " 'find' 'two' 'dead' 'home' 'mysterious' 'horror' 'death' 'girl' 'people'\n",
      " 'life' 'town' 'evil' 'years' 'old' 'haunted' 'soon' 'three' 'dark'\n",
      " 'strange' 'film' 'must']\n"
     ]
    }
   ],
   "source": [
    "vectorizer=CountVectorizer(stop_words=stop_words);\n",
    "stop_words.append('family');\n",
    "stop_words.append('la');\n",
    "stop_words.append('woman');\n",
    "stop_words.append('il');\n",
    "stop_words.append('di');\n",
    "clases = []\n",
    "\n",
    "clases= data['genre'].unique()\n",
    "\n",
    "for clase in range(0,len(clases)):\n",
    "    X=vectorizer.fit_transform(data[data['target_genre']==clase]['description_clean']);\n",
    "    counts=X.sum(axis=0);\n",
    "    counts=np.array(counts);\n",
    "    \n",
    "    indices=np.argsort(counts);\n",
    "    valores=np.sort(counts);\n",
    "    indices=indices[0][::-1];\n",
    "    valores=valores[0][::-1];\n",
    "    terms=np.array(vectorizer.get_feature_names());\n",
    "\n",
    "    print('\\n Clase ',clases[clase-1])\n",
    "    print(terms[indices[:30]])"
   ]
  },
  {
   "cell_type": "code",
   "execution_count": 172,
   "metadata": {},
   "outputs": [],
   "source": [
    "train, test = train_test_split(data, random_state=42, test_size=0.30, shuffle=True)\n",
    "train_text = train['description_clean']\n",
    "test_text = test['description_clean']"
   ]
  },
  {
   "cell_type": "code",
   "execution_count": 173,
   "metadata": {},
   "outputs": [
    {
     "data": {
      "text/plain": [
       "TfidfVectorizer(max_features=20000, min_df=10, ngram_range=(1, 3),\n",
       "                stop_words=['i', 'me', 'my', 'myself', 'we', 'our', 'ours',\n",
       "                            'ourselves', 'you', \"you're\", \"you've\", \"you'll\",\n",
       "                            \"you'd\", 'your', 'yours', 'yourself', 'yourselves',\n",
       "                            'he', 'him', 'his', 'himself', 'she', \"she's\",\n",
       "                            'her', 'hers', 'herself', 'it', \"it's\", 'its',\n",
       "                            'itself', ...])"
      ]
     },
     "execution_count": 173,
     "metadata": {},
     "output_type": "execute_result"
    }
   ],
   "source": [
    "stop_words = stopwords.words('english')\n",
    "vectorizer = TfidfVectorizer(min_df=10,ngram_range=(1,3),max_features=20000, stop_words=stop_words)\n",
    "vectorizer.fit(train_text)"
   ]
  },
  {
   "cell_type": "code",
   "execution_count": 174,
   "metadata": {},
   "outputs": [],
   "source": [
    "X_train = vectorizer.transform(train_text)\n",
    "X_test = vectorizer.transform(test_text)\n",
    "y_train = train['genre']\n",
    "y_test = test['genre']"
   ]
  },
  {
   "cell_type": "code",
   "execution_count": 175,
   "metadata": {},
   "outputs": [],
   "source": [
    "from sklearn.linear_model import LogisticRegression\n",
    "from sklearn.pipeline import Pipeline\n",
    "from sklearn.metrics import accuracy_score\n",
    "from sklearn.naive_bayes import MultinomialNB"
   ]
  },
  {
   "cell_type": "code",
   "execution_count": 176,
   "metadata": {},
   "outputs": [
    {
     "data": {
      "text/plain": [
       "4"
      ]
     },
     "execution_count": 176,
     "metadata": {},
     "output_type": "execute_result"
    }
   ],
   "source": [
    "genres = data['genre'].unique()\n",
    "len(genres)"
   ]
  },
  {
   "cell_type": "code",
   "execution_count": 177,
   "metadata": {},
   "outputs": [
    {
     "name": "stderr",
     "output_type": "stream",
     "text": [
      "[Parallel(n_jobs=-1)]: Using backend LokyBackend with 4 concurrent workers.\n",
      "[Parallel(n_jobs=-1)]: Done   1 out of   1 | elapsed:    3.6s finished\n"
     ]
    },
    {
     "name": "stdout",
     "output_type": "stream",
     "text": [
      "Test accuracy is 0.6261426431854568\n"
     ]
    }
   ],
   "source": [
    "classifier_log = LogisticRegression(penalty='l2', solver='lbfgs', multi_class='multinomial', verbose=1, n_jobs=-1)\n",
    "classifier_log.fit(X_train, y_train)\n",
    "prediction = classifier_log.predict(X_test)\n",
    "print('Test accuracy is {}'.format(accuracy_score(y_test, prediction)))"
   ]
  },
  {
   "cell_type": "code",
   "execution_count": 178,
   "metadata": {},
   "outputs": [
    {
     "name": "stdout",
     "output_type": "stream",
     "text": [
      "              precision    recall  f1-score   support\n",
      "\n",
      "      action       0.70      0.58      0.63      3670\n",
      "      comedy       0.62      0.64      0.63      6881\n",
      "       drama       0.60      0.68      0.64      7271\n",
      "      horror       0.64      0.41      0.50      1541\n",
      "\n",
      "    accuracy                           0.63     19363\n",
      "   macro avg       0.64      0.58      0.60     19363\n",
      "weighted avg       0.63      0.63      0.62     19363\n",
      "\n"
     ]
    }
   ],
   "source": [
    "print(classification_report(y_test, prediction, zero_division=1))"
   ]
  },
  {
   "cell_type": "code",
   "execution_count": null,
   "metadata": {},
   "outputs": [],
   "source": []
  }
 ],
 "metadata": {
  "kernelspec": {
   "display_name": "Python 3",
   "language": "python",
   "name": "python3"
  },
  "language_info": {
   "codemirror_mode": {
    "name": "ipython",
    "version": 3
   },
   "file_extension": ".py",
   "mimetype": "text/x-python",
   "name": "python",
   "nbconvert_exporter": "python",
   "pygments_lexer": "ipython3",
   "version": "3.7.9"
  }
 },
 "nbformat": 4,
 "nbformat_minor": 4
}
