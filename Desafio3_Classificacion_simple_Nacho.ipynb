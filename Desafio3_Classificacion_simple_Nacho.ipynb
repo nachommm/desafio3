{
 "cells": [
  {
   "cell_type": "code",
   "execution_count": 1,
   "metadata": {},
   "outputs": [],
   "source": [
    "import pandas as pd\n",
    "import numpy as np\n",
    "import seaborn as sns\n",
    "import matplotlib.pyplot as plt\n",
    "%matplotlib inline\n",
    "from sklearn.model_selection import train_test_split, StratifiedKFold, GridSearchCV, StratifiedShuffleSplit\n",
    "from sklearn.feature_extraction.text import TfidfVectorizer\n",
    "from sklearn.naive_bayes import MultinomialNB\n",
    "from sklearn.metrics import accuracy_score,confusion_matrix, classification_report\n",
    "import unidecode\n",
    "from nltk.corpus import stopwords \n",
    "\n",
    "from sklearn.feature_extraction.text import CountVectorizer\n",
    "stop_words=stopwords.words('english');"
   ]
  },
  {
   "cell_type": "code",
   "execution_count": 2,
   "metadata": {},
   "outputs": [],
   "source": [
    "pd.set_option('display.max_columns', 100) # Para mostrar todas las columnas\n",
    "# pd.set_option('display.max_rows', 100) # Para mostrar todas las filas"
   ]
  },
  {
   "cell_type": "code",
   "execution_count": 3,
   "metadata": {},
   "outputs": [
    {
     "data": {
      "text/html": [
       "<div>\n",
       "<style scoped>\n",
       "    .dataframe tbody tr th:only-of-type {\n",
       "        vertical-align: middle;\n",
       "    }\n",
       "\n",
       "    .dataframe tbody tr th {\n",
       "        vertical-align: top;\n",
       "    }\n",
       "\n",
       "    .dataframe thead th {\n",
       "        text-align: right;\n",
       "    }\n",
       "</style>\n",
       "<table border=\"1\" class=\"dataframe\">\n",
       "  <thead>\n",
       "    <tr style=\"text-align: right;\">\n",
       "      <th></th>\n",
       "      <th>description_clean</th>\n",
       "      <th>genre_clean</th>\n",
       "    </tr>\n",
       "  </thead>\n",
       "  <tbody>\n",
       "    <tr>\n",
       "      <th>0</th>\n",
       "      <td>miss jerry the adventures of a female reporter...</td>\n",
       "      <td>romance</td>\n",
       "    </tr>\n",
       "    <tr>\n",
       "      <th>1</th>\n",
       "      <td>the story of the kelly gang true story of noto...</td>\n",
       "      <td>biography crime drama</td>\n",
       "    </tr>\n",
       "    <tr>\n",
       "      <th>2</th>\n",
       "      <td>cleopatra the fabled queen of egypts affair wi...</td>\n",
       "      <td>drama history</td>\n",
       "    </tr>\n",
       "    <tr>\n",
       "      <th>3</th>\n",
       "      <td>linferno loosely adapted from dantes divine co...</td>\n",
       "      <td>adventure drama fantasy</td>\n",
       "    </tr>\n",
       "    <tr>\n",
       "      <th>4</th>\n",
       "      <td>from the manger to the cross or jesus of nazar...</td>\n",
       "      <td>biography drama</td>\n",
       "    </tr>\n",
       "  </tbody>\n",
       "</table>\n",
       "</div>"
      ],
      "text/plain": [
       "                                   description_clean              genre_clean\n",
       "0  miss jerry the adventures of a female reporter...                  romance\n",
       "1  the story of the kelly gang true story of noto...    biography crime drama\n",
       "2  cleopatra the fabled queen of egypts affair wi...            drama history\n",
       "3  linferno loosely adapted from dantes divine co...  adventure drama fantasy\n",
       "4  from the manger to the cross or jesus of nazar...          biography drama"
      ]
     },
     "execution_count": 3,
     "metadata": {},
     "output_type": "execute_result"
    }
   ],
   "source": [
    "data = pd.read_csv(\"data/movies_preprocesadas.csv\", low_memory=False)\n",
    "data.head()"
   ]
  },
  {
   "cell_type": "code",
   "execution_count": 4,
   "metadata": {},
   "outputs": [
    {
     "data": {
      "text/plain": [
       "drama                       11929\n",
       "comedy                       7067\n",
       "comedy drama                 3856\n",
       "drama romance                3349\n",
       "comedy romance               2398\n",
       "                            ...  \n",
       "biography family history        1\n",
       "musical thriller mystery        1\n",
       "thriller musical mystery        1\n",
       "animation comedy action         1\n",
       "crime history western           1\n",
       "Name: genre_clean, Length: 1240, dtype: int64"
      ]
     },
     "execution_count": 4,
     "metadata": {},
     "output_type": "execute_result"
    }
   ],
   "source": [
    "data['genre_clean'].value_counts()"
   ]
  },
  {
   "cell_type": "code",
   "execution_count": 5,
   "metadata": {},
   "outputs": [
    {
     "data": {
      "text/plain": [
       "(82882, 2)"
      ]
     },
     "execution_count": 5,
     "metadata": {},
     "output_type": "execute_result"
    }
   ],
   "source": [
    "data.shape"
   ]
  },
  {
   "cell_type": "code",
   "execution_count": 6,
   "metadata": {},
   "outputs": [
    {
     "data": {
      "text/plain": [
       "Index(['description_clean', 'genre_clean'], dtype='object')"
      ]
     },
     "execution_count": 6,
     "metadata": {},
     "output_type": "execute_result"
    }
   ],
   "source": [
    "data.columns"
   ]
  },
  {
   "cell_type": "code",
   "execution_count": 7,
   "metadata": {},
   "outputs": [],
   "source": [
    "data['genre'] = data['genre_clean'].str.split(\" \").map(lambda x: x[0])"
   ]
  },
  {
   "cell_type": "code",
   "execution_count": 8,
   "metadata": {},
   "outputs": [
    {
     "data": {
      "text/html": [
       "<div>\n",
       "<style scoped>\n",
       "    .dataframe tbody tr th:only-of-type {\n",
       "        vertical-align: middle;\n",
       "    }\n",
       "\n",
       "    .dataframe tbody tr th {\n",
       "        vertical-align: top;\n",
       "    }\n",
       "\n",
       "    .dataframe thead th {\n",
       "        text-align: right;\n",
       "    }\n",
       "</style>\n",
       "<table border=\"1\" class=\"dataframe\">\n",
       "  <thead>\n",
       "    <tr style=\"text-align: right;\">\n",
       "      <th></th>\n",
       "      <th>description_clean</th>\n",
       "      <th>genre_clean</th>\n",
       "      <th>genre</th>\n",
       "    </tr>\n",
       "  </thead>\n",
       "  <tbody>\n",
       "    <tr>\n",
       "      <th>19880</th>\n",
       "      <td>barbarosa a young cowboy hooks up with a legen...</td>\n",
       "      <td>western</td>\n",
       "      <td>western</td>\n",
       "    </tr>\n",
       "    <tr>\n",
       "      <th>28735</th>\n",
       "      <td>stadtgesprach monika the host of a daily radio...</td>\n",
       "      <td>comedy romance</td>\n",
       "      <td>comedy</td>\n",
       "    </tr>\n",
       "    <tr>\n",
       "      <th>15688</th>\n",
       "      <td>il pedone when a german businessman causes a c...</td>\n",
       "      <td>drama</td>\n",
       "      <td>drama</td>\n",
       "    </tr>\n",
       "    <tr>\n",
       "      <th>17966</th>\n",
       "      <td>i cacciatori delloceano based on the childrens...</td>\n",
       "      <td>adventure drama family</td>\n",
       "      <td>adventure</td>\n",
       "    </tr>\n",
       "    <tr>\n",
       "      <th>32080</th>\n",
       "      <td>dragon ball z la vendetta divina in order to w...</td>\n",
       "      <td>animation action adventure</td>\n",
       "      <td>animation</td>\n",
       "    </tr>\n",
       "  </tbody>\n",
       "</table>\n",
       "</div>"
      ],
      "text/plain": [
       "                                       description_clean  \\\n",
       "19880  barbarosa a young cowboy hooks up with a legen...   \n",
       "28735  stadtgesprach monika the host of a daily radio...   \n",
       "15688  il pedone when a german businessman causes a c...   \n",
       "17966  i cacciatori delloceano based on the childrens...   \n",
       "32080  dragon ball z la vendetta divina in order to w...   \n",
       "\n",
       "                      genre_clean      genre  \n",
       "19880                     western    western  \n",
       "28735              comedy romance     comedy  \n",
       "15688                       drama      drama  \n",
       "17966      adventure drama family  adventure  \n",
       "32080  animation action adventure  animation  "
      ]
     },
     "execution_count": 8,
     "metadata": {},
     "output_type": "execute_result"
    }
   ],
   "source": [
    "data.sample(5)"
   ]
  },
  {
   "cell_type": "code",
   "execution_count": 9,
   "metadata": {},
   "outputs": [
    {
     "data": {
      "text/plain": [
       "array(['romance', 'biography', 'drama', 'adventure', 'crime', 'western',\n",
       "       'fantasy', 'comedy', 'horror', 'family', 'action', 'mystery',\n",
       "       'history', 'scifi', 'animation', 'musical', 'music', 'thriller',\n",
       "       'war', 'filmnoir', 'sport', 'adult'], dtype=object)"
      ]
     },
     "execution_count": 9,
     "metadata": {},
     "output_type": "execute_result"
    }
   ],
   "source": [
    "genres = data['genre'].unique()\n",
    "genres"
   ]
  },
  {
   "cell_type": "code",
   "execution_count": 10,
   "metadata": {},
   "outputs": [
    {
     "data": {
      "text/html": [
       "<div>\n",
       "<style scoped>\n",
       "    .dataframe tbody tr th:only-of-type {\n",
       "        vertical-align: middle;\n",
       "    }\n",
       "\n",
       "    .dataframe tbody tr th {\n",
       "        vertical-align: top;\n",
       "    }\n",
       "\n",
       "    .dataframe thead th {\n",
       "        text-align: right;\n",
       "    }\n",
       "</style>\n",
       "<table border=\"1\" class=\"dataframe\">\n",
       "  <thead>\n",
       "    <tr style=\"text-align: right;\">\n",
       "      <th></th>\n",
       "      <th>description_clean</th>\n",
       "      <th>genre_clean</th>\n",
       "      <th>genre</th>\n",
       "      <th>target_genre</th>\n",
       "    </tr>\n",
       "  </thead>\n",
       "  <tbody>\n",
       "    <tr>\n",
       "      <th>23006</th>\n",
       "      <td>pociag do hollywood a young woman is bitten by...</td>\n",
       "      <td>comedy romance</td>\n",
       "      <td>comedy</td>\n",
       "      <td>5.0</td>\n",
       "    </tr>\n",
       "    <tr>\n",
       "      <th>77098</th>\n",
       "      <td>a haunting at silver falls 2 several years aft...</td>\n",
       "      <td>horror</td>\n",
       "      <td>horror</td>\n",
       "      <td>12.0</td>\n",
       "    </tr>\n",
       "    <tr>\n",
       "      <th>41943</th>\n",
       "      <td>la storia di jack e rose a father and daughter...</td>\n",
       "      <td>drama</td>\n",
       "      <td>drama</td>\n",
       "      <td>7.0</td>\n",
       "    </tr>\n",
       "  </tbody>\n",
       "</table>\n",
       "</div>"
      ],
      "text/plain": [
       "                                       description_clean     genre_clean  \\\n",
       "23006  pociag do hollywood a young woman is bitten by...  comedy romance   \n",
       "77098  a haunting at silver falls 2 several years aft...          horror   \n",
       "41943  la storia di jack e rose a father and daughter...           drama   \n",
       "\n",
       "        genre  target_genre  \n",
       "23006  comedy           5.0  \n",
       "77098  horror          12.0  \n",
       "41943   drama           7.0  "
      ]
     },
     "execution_count": 10,
     "metadata": {},
     "output_type": "execute_result"
    }
   ],
   "source": [
    "from sklearn.preprocessing import OrdinalEncoder\n",
    "#Cuando le paso las categorías como paramétro me tira error The truth value of an array with more than one element is ambiguous. Use a.any() or a.all()\n",
    "ord_enc = OrdinalEncoder()\n",
    "data[\"target_genre\"] = ord_enc.fit_transform(data[[\"genre\"]])\n",
    "\n",
    "data.sample(3)"
   ]
  },
  {
   "cell_type": "code",
   "execution_count": 11,
   "metadata": {},
   "outputs": [
    {
     "name": "stdout",
     "output_type": "stream",
     "text": [
      "\n",
      " Clase  adult\n",
      "['man' 'young' 'two' 'one' 'life' 'police' 'war' 'must' 'group' 'find'\n",
      " 'new' 'gang' 'il' 'world' 'la' 'story' 'family' 'woman' 'love' 'cop' 'di'\n",
      " 'gets' 'get' 'son' 'take' 'city' 'fight' 'father' 'agent' 'death']\n",
      "\n",
      " Clase  romance\n",
      "['house' 'person' 'heroin' 'happy' 'happen' 'handed' 'girls' 'film'\n",
      " 'everywhere' 'every' 'young' 'keep' 'dvaergen' 'de' 'day' 'couple'\n",
      " 'cigarettes' 'chance' 'boarding' 'also' 'escape' 'la' 'white' 'ronde'\n",
      " 'view' 'try' 'traces' 'string' 'smuggle' 'slavery']\n",
      "\n",
      " Clase  biography\n",
      "['young' 'il' 'la' 'two' 'di' 'find' 'man' 'world' 'life' 'boy' 'new'\n",
      " 'one' 'war' 'family' 'girl' 'story' 'must' 'friends' 'island' 'father'\n",
      " 'group' 'del' 'american' 'love' 'time' 'three' 'old' 'finds' 'woman'\n",
      " 'help']\n",
      "\n",
      " Clase  drama\n",
      "['world' 'young' 'il' 'friends' 'must' 'new' 'la' 'one' 'find' 'life'\n",
      " 'boy' 'story' 'save' 'film' 'evil' 'girl' 'di' 'movie' 'adventure' 'two'\n",
      " 'love' 'family' 'help' 'little' 'named' 'earth' 'home' 'time' 'city'\n",
      " 'back']\n",
      "\n",
      " Clase  adventure\n",
      "['life' 'story' 'young' 'la' 'based' 'film' 'di' 'il' 'true' 'one' 'man'\n",
      " 'love' 'world' 'war' 'years' 'first' 'family' 'early' 'new' 'century'\n",
      " 'famous' 'two' 'de' 'movie' 'woman' 'biography' 'del' 'death' 'becomes'\n",
      " 'career']\n",
      "\n",
      " Clase  crime\n",
      "['love' 'life' 'two' 'young' 'man' 'one' 'new' 'family' 'friends' 'woman'\n",
      " 'la' 'get' 'girl' 'story' 'three' 'find' 'school' 'comedy' 'old' 'wife'\n",
      " 'years' 'lives' 'finds' 'il' 'film' 'di' 'father' 'gets' 'time' 'day']\n",
      "\n",
      " Clase  western\n",
      "['young' 'man' 'murder' 'police' 'two' 'life' 'woman' 'la' 'one' 'crime'\n",
      " 'il' 'new' 'killer' 'detective' 'di' 'story' 'wife' 'gang' 'prison'\n",
      " 'family' 'finds' 'find' 'girl' 'love' 'death' 'years' 'becomes' 'gets'\n",
      " 'criminal' 'three']\n",
      "\n",
      " Clase  fantasy\n",
      "['young' 'life' 'love' 'man' 'woman' 'story' 'family' 'two' 'one' 'la'\n",
      " 'girl' 'new' 'lives' 'father' 'years' 'mother' 'war' 'wife' 'world' 'old'\n",
      " 'son' 'film' 'find' 'home' 'il' 'school' 'finds' 'friends' 'town' 'boy']\n",
      "\n",
      " Clase  comedy\n",
      "['young' 'family' 'boy' 'girl' 'two' 'little' 'story' 'christmas' 'one'\n",
      " 'children' 'old' 'life' 'father' 'love' 'film' 'friends' 'find' 'mother'\n",
      " 'new' 'world' 'time' 'il' 'kids' 'lives' 'town' 'day' 'home' 'school'\n",
      " 'man' 'get']\n",
      "\n",
      " Clase  horror\n",
      "['young' 'one' 'woman' 'man' 'two' 'la' 'girl' 'world' 'find' 'love'\n",
      " 'life' 'mysterious' 'il' 'three' 'film' 'story' 'ancient' 'evil' 'new'\n",
      " 'dark' 'death' 'horror' 'group' 'take' 'finds' 'begins' 'strange'\n",
      " 'vampire' 'time' 'dead']\n",
      "\n",
      " Clase  family\n",
      "['murder' 'private' 'man' 'detective' 'find' 'murdered' 'husband' 'one'\n",
      " 'wife' 'woman' 'death' 'prove' 'two' 'town' 'police' 'finds' 'owner'\n",
      " 'small' 'old' 'young' 'whistler' 'la' 'accused' 'meets' 'il' 'inner'\n",
      " 'spirit' 'soon' 'committed' 'series']\n",
      "\n",
      " Clase  action\n",
      "['war' 'story' 'two' 'film' 'young' 'history' 'king' 'years' 'love' 'fort'\n",
      " 'woman' 'world' 'il' 'set' 'old' 'tells' 'based' 'three' 'life' 'fight'\n",
      " 'man' 'four' 'son' 'army' 'village' 'french' 'find' 'century' 'era' 'one']\n",
      "\n",
      " Clase  mystery\n",
      "['young' 'one' 'group' 'house' 'woman' 'man' 'family' 'night' 'killer'\n",
      " 'friends' 'new' 'find' 'la' 'two' 'dead' 'home' 'mysterious' 'horror'\n",
      " 'death' 'girl' 'people' 'life' 'town' 'evil' 'years' 'old' 'haunted' 'il'\n",
      " 'soon' 'three']\n",
      "\n",
      " Clase  history\n",
      "['young' 'music' 'new' 'band' 'concert' 'show' 'year' 'film' 'rock' 'live'\n",
      " 'love' 'first' 'story' 'dance' 'movie' 'wants' 'life' 'metallica' 'play'\n",
      " 'parade' 'school' 'tries' 'perform' 'work' 'son' 'world' 'husband' 'one'\n",
      " 'opera' 'recorded']\n",
      "\n",
      " Clase  scifi\n",
      "['love' 'young' 'musical' 'story' 'singer' 'girl' 'broadway' 'two' 'one'\n",
      " 'man' 'show' 'falls' 'family' 'la' 'new' 'music' 'get' 'life' 'married'\n",
      " 'make' 'dance' 'famous' 'world' 'woman' 'gets' 'meets' 'takes' 'friends'\n",
      " 'first' 'il']\n",
      "\n",
      " Clase  animation\n",
      "['murder' 'young' 'man' 'woman' 'one' 'killer' 'mysterious' 'detective'\n",
      " 'find' 'murdered' 'police' 'wife' 'la' 'death' 'life' 'il' 'two' 'case'\n",
      " 'murders' 'years' 'new' 'finds' 'old' 'house' 'girl' 'missing' 'series'\n",
      " 'di' 'dark' 'must']\n",
      "\n",
      " Clase  musical\n",
      "['love' 'young' 'girl' 'life' 'man' 'woman' 'falls' 'two' 'one' 'story'\n",
      " 'new' 'meets' 'family' 'time' 'find' 'father' 'years' 'day' 'il' 'fall'\n",
      " 'town' 'friends' 'relationship' 'school' 'get' 'la' 'meet' 'finds'\n",
      " 'lives' 'married']\n",
      "\n",
      " Clase  music\n",
      "['earth' 'time' 'planet' 'alien' 'world' 'space' 'future' 'man' 'one'\n",
      " 'people' 'life' 'young' 'find' 'mysterious' 'two' 'group' 'team' 'human'\n",
      " 'small' 'machine' 'must' 'new' 'scientist' 'scientists' 'discovers' 'war'\n",
      " 'story' 'sent' 'three' 'save']\n",
      "\n",
      " Clase  thriller\n",
      "['life' 'story' 'film' 'young' 'team' 'new' 'boxer' 'world' 'deliormanli'\n",
      " 'trains' 'snake' 'family' 'every' 'mongoose' 'middle' 'indian' 'two'\n",
      " 'korean' 'belt' 'fighting' 'gets' 'german' 'geared' 'francis' 'four'\n",
      " 'form' 'forgets' 'footballer' 'football' 'first']\n",
      "\n",
      " Clase  war\n",
      "['young' 'man' 'woman' 'life' 'murder' 'two' 'killer' 'new' 'one' 'wife'\n",
      " 'find' 'family' 'police' 'house' 'gets' 'girl' 'la' 'daughter' 'becomes'\n",
      " 'mysterious' 'dead' 'story' 'finds' 'death' 'dark' 'years' 'home' 'love'\n",
      " 'couple' 'thriller']\n",
      "\n",
      " Clase  filmnoir\n",
      "['war' 'world' 'german' 'la' 'ii' 'american' 'army' 'enemy' 'korean'\n",
      " 'british' 'wwii' 'village' 'two' 'young' 'lines' 'behind' 'soldiers'\n",
      " 'story' 'japanese' 'troops' 'group' 'lieutenant' 'get' 'nazi' 'sent'\n",
      " 'captain' 'di' 'officer' 'fall' 'commando']\n",
      "\n",
      " Clase  sport\n",
      "['town' 'la' 'il' 'gang' 'di' 'war' 'man' 'two' 'west' 'young' 'find'\n",
      " 'outlaw' 'gold' 'sheriff' 'indian' 'texas' 'del' 'civil' 'one' 'army'\n",
      " 'revenge' 'killed' 'ranch' 'men' 'son' 'per' 'brother' 'brothers'\n",
      " 'outlaws' 'bounty']\n"
     ]
    }
   ],
   "source": [
    "vectorizer=CountVectorizer(stop_words=stop_words);\n",
    "\n",
    "clases = []\n",
    "\n",
    "clases= data['genre'].unique()\n",
    "\n",
    "for clase in range(0,len(clases)):\n",
    "    X=vectorizer.fit_transform(data[data['target_genre']==clase]['description_clean']);\n",
    "    counts=X.sum(axis=0);\n",
    "    counts=np.array(counts);\n",
    "    \n",
    "    indices=np.argsort(counts);\n",
    "    valores=np.sort(counts);\n",
    "    indices=indices[0][::-1];\n",
    "    valores=valores[0][::-1];\n",
    "    terms=np.array(vectorizer.get_feature_names());\n",
    "\n",
    "    print('\\n Clase ',clases[clase-1])\n",
    "    print(terms[indices[:30]])"
   ]
  },
  {
   "cell_type": "code",
   "execution_count": 12,
   "metadata": {},
   "outputs": [],
   "source": [
    "train, test = train_test_split(data, random_state=42, test_size=0.30, shuffle=True)\n",
    "train_text = train['description_clean']\n",
    "test_text = test['description_clean']"
   ]
  },
  {
   "cell_type": "code",
   "execution_count": 13,
   "metadata": {},
   "outputs": [
    {
     "data": {
      "text/plain": [
       "TfidfVectorizer(max_features=20000, min_df=10, ngram_range=(1, 3),\n",
       "                stop_words=['i', 'me', 'my', 'myself', 'we', 'our', 'ours',\n",
       "                            'ourselves', 'you', \"you're\", \"you've\", \"you'll\",\n",
       "                            \"you'd\", 'your', 'yours', 'yourself', 'yourselves',\n",
       "                            'he', 'him', 'his', 'himself', 'she', \"she's\",\n",
       "                            'her', 'hers', 'herself', 'it', \"it's\", 'its',\n",
       "                            'itself', ...])"
      ]
     },
     "execution_count": 13,
     "metadata": {},
     "output_type": "execute_result"
    }
   ],
   "source": [
    "stop_words = stopwords.words('english')\n",
    "vectorizer = TfidfVectorizer(min_df=10,ngram_range=(1,3),max_features=20000, stop_words=stop_words)\n",
    "vectorizer.fit(train_text)"
   ]
  },
  {
   "cell_type": "code",
   "execution_count": 14,
   "metadata": {},
   "outputs": [],
   "source": [
    "X_train = vectorizer.transform(train_text)\n",
    "X_test = vectorizer.transform(test_text)\n",
    "y_train = train['genre']\n",
    "y_test = test['genre']"
   ]
  },
  {
   "cell_type": "code",
   "execution_count": 15,
   "metadata": {},
   "outputs": [],
   "source": [
    "from sklearn.linear_model import LogisticRegression\n",
    "from sklearn.pipeline import Pipeline\n",
    "from sklearn.metrics import accuracy_score\n",
    "from sklearn.naive_bayes import MultinomialNB"
   ]
  },
  {
   "cell_type": "code",
   "execution_count": 16,
   "metadata": {},
   "outputs": [
    {
     "data": {
      "text/plain": [
       "22"
      ]
     },
     "execution_count": 16,
     "metadata": {},
     "output_type": "execute_result"
    }
   ],
   "source": [
    "genres = data['genre'].unique()\n",
    "len(genres)"
   ]
  },
  {
   "cell_type": "code",
   "execution_count": 17,
   "metadata": {},
   "outputs": [
    {
     "name": "stderr",
     "output_type": "stream",
     "text": [
      "[Parallel(n_jobs=-1)]: Using backend LokyBackend with 4 concurrent workers.\n"
     ]
    },
    {
     "name": "stdout",
     "output_type": "stream",
     "text": [
      "Test accuracy is 0.5134526442791072\n"
     ]
    },
    {
     "name": "stderr",
     "output_type": "stream",
     "text": [
      "[Parallel(n_jobs=-1)]: Done   1 out of   1 | elapsed:   16.9s finished\n"
     ]
    }
   ],
   "source": [
    "classifier_log = LogisticRegression(penalty='l2', solver='lbfgs', multi_class='multinomial', verbose=1, n_jobs=-1)\n",
    "classifier_log.fit(X_train, y_train)\n",
    "prediction = classifier_log.predict(X_test)\n",
    "print('Test accuracy is {}'.format(accuracy_score(y_test, prediction)))"
   ]
  },
  {
   "cell_type": "code",
   "execution_count": 18,
   "metadata": {},
   "outputs": [
    {
     "name": "stdout",
     "output_type": "stream",
     "text": [
      "              precision    recall  f1-score   support\n",
      "\n",
      "      action       0.54      0.54      0.54      3647\n",
      "   adventure       0.41      0.12      0.19      1020\n",
      "   animation       0.63      0.17      0.27       656\n",
      "   biography       0.65      0.17      0.26       609\n",
      "      comedy       0.53      0.65      0.59      6971\n",
      "       crime       0.39      0.19      0.26      1615\n",
      "       drama       0.49      0.68      0.57      7314\n",
      "      family       1.00      0.00      0.00       171\n",
      "     fantasy       1.00      0.00      0.00       144\n",
      "    filmnoir       1.00      0.00      0.00        11\n",
      "     history       1.00      0.00      0.00        29\n",
      "      horror       0.54      0.41      0.46      1455\n",
      "       music       1.00      0.00      0.00        21\n",
      "     musical       1.00      0.00      0.00       100\n",
      "     mystery       1.00      0.00      0.00       168\n",
      "     romance       1.00      0.00      0.00       225\n",
      "       scifi       0.20      0.01      0.01       134\n",
      "       sport       1.00      0.00      0.00        10\n",
      "    thriller       0.00      0.00      0.00       378\n",
      "         war       1.00      0.00      0.00        28\n",
      "     western       0.26      0.06      0.10       159\n",
      "\n",
      "    accuracy                           0.51     24865\n",
      "   macro avg       0.70      0.14      0.16     24865\n",
      "weighted avg       0.52      0.51      0.48     24865\n",
      "\n"
     ]
    }
   ],
   "source": [
    "print(classification_report(y_test, prediction, zero_division=1))"
   ]
  },
  {
   "cell_type": "code",
   "execution_count": null,
   "metadata": {},
   "outputs": [],
   "source": []
  }
 ],
 "metadata": {
  "kernelspec": {
   "display_name": "Python 3",
   "language": "python",
   "name": "python3"
  },
  "language_info": {
   "codemirror_mode": {
    "name": "ipython",
    "version": 3
   },
   "file_extension": ".py",
   "mimetype": "text/x-python",
   "name": "python",
   "nbconvert_exporter": "python",
   "pygments_lexer": "ipython3",
   "version": "3.7.9"
  }
 },
 "nbformat": 4,
 "nbformat_minor": 4
}
