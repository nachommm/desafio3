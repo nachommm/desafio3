{
 "cells": [
  {
   "cell_type": "code",
   "execution_count": null,
   "metadata": {},
   "outputs": [],
   "source": [
    "#Clasificación"
   ]
  },
  {
   "cell_type": "code",
   "execution_count": 1,
   "metadata": {},
   "outputs": [],
   "source": [
    "import pandas as pd\n",
    "import numpy as np\n",
    "\n",
    "import unidecode\n",
    "from nltk.corpus import stopwords "
   ]
  },
  {
   "cell_type": "code",
   "execution_count": 2,
   "metadata": {},
   "outputs": [],
   "source": [
    "pd.set_option('display.max_columns', 100) # Para mostrar todas las columnas\n",
    "# pd.set_option('display.max_rows', 100) # Para mostrar todas las filas"
   ]
  },
  {
   "cell_type": "code",
   "execution_count": 3,
   "metadata": {},
   "outputs": [
    {
     "data": {
      "text/html": [
       "<div>\n",
       "<style scoped>\n",
       "    .dataframe tbody tr th:only-of-type {\n",
       "        vertical-align: middle;\n",
       "    }\n",
       "\n",
       "    .dataframe tbody tr th {\n",
       "        vertical-align: top;\n",
       "    }\n",
       "\n",
       "    .dataframe thead th {\n",
       "        text-align: right;\n",
       "    }\n",
       "</style>\n",
       "<table border=\"1\" class=\"dataframe\">\n",
       "  <thead>\n",
       "    <tr style=\"text-align: right;\">\n",
       "      <th></th>\n",
       "      <th>title</th>\n",
       "      <th>description_clean</th>\n",
       "      <th>genre_clean</th>\n",
       "      <th>romance</th>\n",
       "      <th>drama</th>\n",
       "      <th>history</th>\n",
       "      <th>biography</th>\n",
       "      <th>crime</th>\n",
       "      <th>horror</th>\n",
       "      <th>western</th>\n",
       "      <th>fantasy</th>\n",
       "      <th>comedy</th>\n",
       "      <th>family</th>\n",
       "      <th>adventure</th>\n",
       "      <th>action</th>\n",
       "      <th>war</th>\n",
       "      <th>scifi</th>\n",
       "      <th>mystery</th>\n",
       "      <th>thriller</th>\n",
       "      <th>sport</th>\n",
       "      <th>musical</th>\n",
       "      <th>music</th>\n",
       "      <th>filmnoir</th>\n",
       "      <th>animation</th>\n",
       "    </tr>\n",
       "  </thead>\n",
       "  <tbody>\n",
       "    <tr>\n",
       "      <th>0</th>\n",
       "      <td>Miss Jerry</td>\n",
       "      <td>the adventures of a female reporter in the 1890s</td>\n",
       "      <td>romance</td>\n",
       "      <td>1</td>\n",
       "      <td>0</td>\n",
       "      <td>0</td>\n",
       "      <td>0</td>\n",
       "      <td>0</td>\n",
       "      <td>0</td>\n",
       "      <td>0</td>\n",
       "      <td>0</td>\n",
       "      <td>0</td>\n",
       "      <td>0</td>\n",
       "      <td>0</td>\n",
       "      <td>0</td>\n",
       "      <td>0</td>\n",
       "      <td>0</td>\n",
       "      <td>0</td>\n",
       "      <td>0</td>\n",
       "      <td>0</td>\n",
       "      <td>0</td>\n",
       "      <td>0</td>\n",
       "      <td>0</td>\n",
       "      <td>0</td>\n",
       "    </tr>\n",
       "    <tr>\n",
       "      <th>1</th>\n",
       "      <td>Cleopatra</td>\n",
       "      <td>the fabled queen of egypts affair with roman g...</td>\n",
       "      <td>drama history</td>\n",
       "      <td>0</td>\n",
       "      <td>1</td>\n",
       "      <td>1</td>\n",
       "      <td>0</td>\n",
       "      <td>0</td>\n",
       "      <td>0</td>\n",
       "      <td>0</td>\n",
       "      <td>0</td>\n",
       "      <td>0</td>\n",
       "      <td>0</td>\n",
       "      <td>0</td>\n",
       "      <td>0</td>\n",
       "      <td>0</td>\n",
       "      <td>0</td>\n",
       "      <td>0</td>\n",
       "      <td>0</td>\n",
       "      <td>0</td>\n",
       "      <td>0</td>\n",
       "      <td>0</td>\n",
       "      <td>0</td>\n",
       "      <td>0</td>\n",
       "    </tr>\n",
       "    <tr>\n",
       "      <th>2</th>\n",
       "      <td>From the Manger to the Cross; or, Jesus of Naz...</td>\n",
       "      <td>an account of the life of jesus christ based o...</td>\n",
       "      <td>biography drama</td>\n",
       "      <td>0</td>\n",
       "      <td>1</td>\n",
       "      <td>0</td>\n",
       "      <td>1</td>\n",
       "      <td>0</td>\n",
       "      <td>0</td>\n",
       "      <td>0</td>\n",
       "      <td>0</td>\n",
       "      <td>0</td>\n",
       "      <td>0</td>\n",
       "      <td>0</td>\n",
       "      <td>0</td>\n",
       "      <td>0</td>\n",
       "      <td>0</td>\n",
       "      <td>0</td>\n",
       "      <td>0</td>\n",
       "      <td>0</td>\n",
       "      <td>0</td>\n",
       "      <td>0</td>\n",
       "      <td>0</td>\n",
       "      <td>0</td>\n",
       "    </tr>\n",
       "    <tr>\n",
       "      <th>3</th>\n",
       "      <td>Amore di madre</td>\n",
       "      <td>john howard payne at his most miserable point ...</td>\n",
       "      <td>drama</td>\n",
       "      <td>0</td>\n",
       "      <td>1</td>\n",
       "      <td>0</td>\n",
       "      <td>0</td>\n",
       "      <td>0</td>\n",
       "      <td>0</td>\n",
       "      <td>0</td>\n",
       "      <td>0</td>\n",
       "      <td>0</td>\n",
       "      <td>0</td>\n",
       "      <td>0</td>\n",
       "      <td>0</td>\n",
       "      <td>0</td>\n",
       "      <td>0</td>\n",
       "      <td>0</td>\n",
       "      <td>0</td>\n",
       "      <td>0</td>\n",
       "      <td>0</td>\n",
       "      <td>0</td>\n",
       "      <td>0</td>\n",
       "      <td>0</td>\n",
       "    </tr>\n",
       "    <tr>\n",
       "      <th>4</th>\n",
       "      <td>Traffic in Souls</td>\n",
       "      <td>a woman with the aid of her police officer swe...</td>\n",
       "      <td>crime drama</td>\n",
       "      <td>0</td>\n",
       "      <td>1</td>\n",
       "      <td>0</td>\n",
       "      <td>0</td>\n",
       "      <td>1</td>\n",
       "      <td>0</td>\n",
       "      <td>0</td>\n",
       "      <td>0</td>\n",
       "      <td>0</td>\n",
       "      <td>0</td>\n",
       "      <td>0</td>\n",
       "      <td>0</td>\n",
       "      <td>0</td>\n",
       "      <td>0</td>\n",
       "      <td>0</td>\n",
       "      <td>0</td>\n",
       "      <td>0</td>\n",
       "      <td>0</td>\n",
       "      <td>0</td>\n",
       "      <td>0</td>\n",
       "      <td>0</td>\n",
       "    </tr>\n",
       "  </tbody>\n",
       "</table>\n",
       "</div>"
      ],
      "text/plain": [
       "                                               title  \\\n",
       "0                                         Miss Jerry   \n",
       "1                                          Cleopatra   \n",
       "2  From the Manger to the Cross; or, Jesus of Naz...   \n",
       "3                                     Amore di madre   \n",
       "4                                   Traffic in Souls   \n",
       "\n",
       "                                   description_clean      genre_clean  \\\n",
       "0   the adventures of a female reporter in the 1890s          romance   \n",
       "1  the fabled queen of egypts affair with roman g...    drama history   \n",
       "2  an account of the life of jesus christ based o...  biography drama   \n",
       "3  john howard payne at his most miserable point ...            drama   \n",
       "4  a woman with the aid of her police officer swe...      crime drama   \n",
       "\n",
       "   romance  drama  history  biography  crime  horror  western  fantasy  \\\n",
       "0        1      0        0          0      0       0        0        0   \n",
       "1        0      1        1          0      0       0        0        0   \n",
       "2        0      1        0          1      0       0        0        0   \n",
       "3        0      1        0          0      0       0        0        0   \n",
       "4        0      1        0          0      1       0        0        0   \n",
       "\n",
       "   comedy  family  adventure  action  war  scifi  mystery  thriller  sport  \\\n",
       "0       0       0          0       0    0      0        0         0      0   \n",
       "1       0       0          0       0    0      0        0         0      0   \n",
       "2       0       0          0       0    0      0        0         0      0   \n",
       "3       0       0          0       0    0      0        0         0      0   \n",
       "4       0       0          0       0    0      0        0         0      0   \n",
       "\n",
       "   musical  music  filmnoir  animation  \n",
       "0        0      0         0          0  \n",
       "1        0      0         0          0  \n",
       "2        0      0         0          0  \n",
       "3        0      0         0          0  \n",
       "4        0      0         0          0  "
      ]
     },
     "execution_count": 3,
     "metadata": {},
     "output_type": "execute_result"
    }
   ],
   "source": [
    "data = pd.read_csv(\"Data/movies_usa_en.csv\", low_memory=False)\n",
    "data.head()"
   ]
  },
  {
   "cell_type": "code",
   "execution_count": 4,
   "metadata": {},
   "outputs": [
    {
     "data": {
      "text/plain": [
       "(38075, 24)"
      ]
     },
     "execution_count": 4,
     "metadata": {},
     "output_type": "execute_result"
    }
   ],
   "source": [
    "data.shape"
   ]
  },
  {
   "cell_type": "code",
   "execution_count": 5,
   "metadata": {},
   "outputs": [
    {
     "data": {
      "text/plain": [
       "Index(['title', 'description_clean', 'genre_clean', 'romance', 'drama',\n",
       "       'history', 'biography', 'crime', 'horror', 'western', 'fantasy',\n",
       "       'comedy', 'family', 'adventure', 'action', 'war', 'scifi', 'mystery',\n",
       "       'thriller', 'sport', 'musical', 'music', 'filmnoir', 'animation'],\n",
       "      dtype='object')"
      ]
     },
     "execution_count": 5,
     "metadata": {},
     "output_type": "execute_result"
    }
   ],
   "source": [
    "data.columns"
   ]
  },
  {
   "cell_type": "code",
   "execution_count": 24,
   "metadata": {},
   "outputs": [
    {
     "data": {
      "text/plain": [
       "array(['romance', 'drama', 'history', 'biography', 'crime', 'horror',\n",
       "       'western', 'fantasy', 'comedy', 'family', 'adventure', 'action',\n",
       "       'war', 'scifi', 'mystery', 'thriller', 'sport', 'musical', 'music',\n",
       "       'filmnoir', 'animation'], dtype=object)"
      ]
     },
     "execution_count": 24,
     "metadata": {},
     "output_type": "execute_result"
    }
   ],
   "source": [
    "genres = pd.unique(data['genre_clean'].str.split(expand=True).stack())\n",
    "genres"
   ]
  },
  {
   "cell_type": "code",
   "execution_count": 31,
   "metadata": {},
   "outputs": [
    {
     "data": {
      "text/plain": [
       "Index(['romance', 'drama', 'history', 'biography', 'crime', 'horror',\n",
       "       'western', 'fantasy', 'comedy', 'family', 'adventure', 'action', 'war',\n",
       "       'scifi', 'mystery', 'thriller', 'sport', 'musical', 'music', 'filmnoir',\n",
       "       'animation'],\n",
       "      dtype='object')"
      ]
     },
     "execution_count": 31,
     "metadata": {},
     "output_type": "execute_result"
    }
   ],
   "source": [
    "data.columns[3:]"
   ]
  },
  {
   "cell_type": "code",
   "execution_count": 33,
   "metadata": {},
   "outputs": [
    {
     "data": {
      "text/html": [
       "<div>\n",
       "<style scoped>\n",
       "    .dataframe tbody tr th:only-of-type {\n",
       "        vertical-align: middle;\n",
       "    }\n",
       "\n",
       "    .dataframe tbody tr th {\n",
       "        vertical-align: top;\n",
       "    }\n",
       "\n",
       "    .dataframe thead th {\n",
       "        text-align: right;\n",
       "    }\n",
       "</style>\n",
       "<table border=\"1\" class=\"dataframe\">\n",
       "  <thead>\n",
       "    <tr style=\"text-align: right;\">\n",
       "      <th></th>\n",
       "      <th>genre</th>\n",
       "      <th>number of movies</th>\n",
       "    </tr>\n",
       "  </thead>\n",
       "  <tbody>\n",
       "    <tr>\n",
       "      <th>0</th>\n",
       "      <td>romance</td>\n",
       "      <td>7068</td>\n",
       "    </tr>\n",
       "    <tr>\n",
       "      <th>1</th>\n",
       "      <td>drama</td>\n",
       "      <td>19429</td>\n",
       "    </tr>\n",
       "    <tr>\n",
       "      <th>2</th>\n",
       "      <td>history</td>\n",
       "      <td>632</td>\n",
       "    </tr>\n",
       "    <tr>\n",
       "      <th>3</th>\n",
       "      <td>biography</td>\n",
       "      <td>928</td>\n",
       "    </tr>\n",
       "    <tr>\n",
       "      <th>4</th>\n",
       "      <td>crime</td>\n",
       "      <td>5615</td>\n",
       "    </tr>\n",
       "    <tr>\n",
       "      <th>5</th>\n",
       "      <td>horror</td>\n",
       "      <td>5433</td>\n",
       "    </tr>\n",
       "    <tr>\n",
       "      <th>6</th>\n",
       "      <td>western</td>\n",
       "      <td>1131</td>\n",
       "    </tr>\n",
       "    <tr>\n",
       "      <th>7</th>\n",
       "      <td>fantasy</td>\n",
       "      <td>1454</td>\n",
       "    </tr>\n",
       "    <tr>\n",
       "      <th>8</th>\n",
       "      <td>comedy</td>\n",
       "      <td>13020</td>\n",
       "    </tr>\n",
       "    <tr>\n",
       "      <th>9</th>\n",
       "      <td>family</td>\n",
       "      <td>1690</td>\n",
       "    </tr>\n",
       "    <tr>\n",
       "      <th>10</th>\n",
       "      <td>adventure</td>\n",
       "      <td>3328</td>\n",
       "    </tr>\n",
       "    <tr>\n",
       "      <th>11</th>\n",
       "      <td>action</td>\n",
       "      <td>6504</td>\n",
       "    </tr>\n",
       "    <tr>\n",
       "      <th>12</th>\n",
       "      <td>war</td>\n",
       "      <td>837</td>\n",
       "    </tr>\n",
       "    <tr>\n",
       "      <th>13</th>\n",
       "      <td>scifi</td>\n",
       "      <td>2002</td>\n",
       "    </tr>\n",
       "    <tr>\n",
       "      <th>14</th>\n",
       "      <td>mystery</td>\n",
       "      <td>2668</td>\n",
       "    </tr>\n",
       "    <tr>\n",
       "      <th>15</th>\n",
       "      <td>thriller</td>\n",
       "      <td>6012</td>\n",
       "    </tr>\n",
       "    <tr>\n",
       "      <th>16</th>\n",
       "      <td>sport</td>\n",
       "      <td>595</td>\n",
       "    </tr>\n",
       "    <tr>\n",
       "      <th>17</th>\n",
       "      <td>musical</td>\n",
       "      <td>1392</td>\n",
       "    </tr>\n",
       "    <tr>\n",
       "      <th>18</th>\n",
       "      <td>music</td>\n",
       "      <td>930</td>\n",
       "    </tr>\n",
       "    <tr>\n",
       "      <th>19</th>\n",
       "      <td>filmnoir</td>\n",
       "      <td>657</td>\n",
       "    </tr>\n",
       "    <tr>\n",
       "      <th>20</th>\n",
       "      <td>animation</td>\n",
       "      <td>475</td>\n",
       "    </tr>\n",
       "  </tbody>\n",
       "</table>\n",
       "</div>"
      ],
      "text/plain": [
       "        genre  number of movies\n",
       "0     romance              7068\n",
       "1       drama             19429\n",
       "2     history               632\n",
       "3   biography               928\n",
       "4       crime              5615\n",
       "5      horror              5433\n",
       "6     western              1131\n",
       "7     fantasy              1454\n",
       "8      comedy             13020\n",
       "9      family              1690\n",
       "10  adventure              3328\n",
       "11     action              6504\n",
       "12        war               837\n",
       "13      scifi              2002\n",
       "14    mystery              2668\n",
       "15   thriller              6012\n",
       "16      sport               595\n",
       "17    musical              1392\n",
       "18      music               930\n",
       "19   filmnoir               657\n",
       "20  animation               475"
      ]
     },
     "execution_count": 33,
     "metadata": {},
     "output_type": "execute_result"
    }
   ],
   "source": [
    "counts = []\n",
    "for genre in data.columns[3:]:\n",
    "    counts.append((genre, data[genre].sum()))\n",
    "df_stats = pd.DataFrame(counts, columns=['genre', 'number of movies'])\n",
    "df_stats"
   ]
  },
  {
   "cell_type": "code",
   "execution_count": 19,
   "metadata": {},
   "outputs": [],
   "source": [
    "from sklearn.model_selection import train_test_split, StratifiedKFold, GridSearchCV, StratifiedShuffleSplit\n",
    "from sklearn.pipeline import Pipeline\n",
    "from sklearn.feature_extraction.text import TfidfVectorizer\n",
    "\n",
    "from sklearn.multiclass import OneVsRestClassifier\n",
    "\n",
    "from sklearn.naive_bayes import MultinomialNB\n",
    "from sklearn.svm import LinearSVC\n",
    "from sklearn.linear_model import LogisticRegression\n",
    "\n",
    "from sklearn.metrics import accuracy_score,confusion_matrix, classification_report"
   ]
  },
  {
   "cell_type": "code",
   "execution_count": null,
   "metadata": {},
   "outputs": [],
   "source": []
  },
  {
   "cell_type": "code",
   "execution_count": 34,
   "metadata": {},
   "outputs": [],
   "source": [
    "\n",
    "data_x = data[['description_clean']]\n",
    "data_y = data.drop(['title', 'description_clean', 'genre_clean'], axis=1)\n",
    "X_train, X_test, y_train, y_test = train_test_split(data_x, data_y, random_state=42, test_size=0.33, shuffle=True)\n",
    "\n"
   ]
  },
  {
   "cell_type": "code",
   "execution_count": 38,
   "metadata": {},
   "outputs": [],
   "source": [
    "train_x = [x[0].strip() for x in np.array(X_train).tolist()]\n"
   ]
  },
  {
   "cell_type": "code",
   "execution_count": 39,
   "metadata": {},
   "outputs": [],
   "source": [
    "test_x = [x[0].strip() for x in np.array(X_test).tolist()]"
   ]
  },
  {
   "cell_type": "code",
   "execution_count": 10,
   "metadata": {},
   "outputs": [],
   "source": [
    "stop_words = stopwords.words('english')"
   ]
  },
  {
   "cell_type": "markdown",
   "metadata": {},
   "source": [
    "### Pipeline 1 con OneVSRest y MultinomialNB"
   ]
  },
  {
   "cell_type": "code",
   "execution_count": 44,
   "metadata": {},
   "outputs": [],
   "source": [
    "pipeline1 = Pipeline([\n",
    "    ('tfidf', TfidfVectorizer(stop_words=stop_words)),\n",
    "    ('clf', OneVsRestClassifier(MultinomialNB(\n",
    "        fit_prior=True, class_prior=None))),\n",
    "])\n",
    "parameters1 = {\n",
    "    'tfidf__max_df': [50, 100, 200],\n",
    "    'tfidf__ngram_range': [(1, 1), (1, 2), (1, 3)],\n",
    "#     'tfidf__norm':['l1', 'l2']\n",
    "    'clf__estimator__alpha': (1e-2, 1e-3)\n",
    "}"
   ]
  },
  {
   "cell_type": "code",
   "execution_count": null,
   "metadata": {},
   "outputs": [],
   "source": []
  },
  {
   "cell_type": "code",
   "execution_count": 46,
   "metadata": {},
   "outputs": [
    {
     "name": "stdout",
     "output_type": "stream",
     "text": [
      "Fitting 3 folds for each of 18 candidates, totalling 54 fits\n"
     ]
    },
    {
     "name": "stderr",
     "output_type": "stream",
     "text": [
      "[Parallel(n_jobs=2)]: Using backend LokyBackend with 2 concurrent workers.\n",
      "[Parallel(n_jobs=2)]: Done  46 tasks      | elapsed:   53.0s\n",
      "[Parallel(n_jobs=2)]: Done  54 out of  54 | elapsed:  1.1min finished\n"
     ]
    },
    {
     "data": {
      "text/plain": [
       "GridSearchCV(cv=3,\n",
       "             estimator=Pipeline(steps=[('tfidf',\n",
       "                                        TfidfVectorizer(stop_words=['i', 'me',\n",
       "                                                                    'my',\n",
       "                                                                    'myself',\n",
       "                                                                    'we', 'our',\n",
       "                                                                    'ours',\n",
       "                                                                    'ourselves',\n",
       "                                                                    'you',\n",
       "                                                                    \"you're\",\n",
       "                                                                    \"you've\",\n",
       "                                                                    \"you'll\",\n",
       "                                                                    \"you'd\",\n",
       "                                                                    'your',\n",
       "                                                                    'yours',\n",
       "                                                                    'yourself',\n",
       "                                                                    'yourselves',\n",
       "                                                                    'he', 'him',\n",
       "                                                                    'his',\n",
       "                                                                    'himself',\n",
       "                                                                    'she',\n",
       "                                                                    \"she's\",\n",
       "                                                                    'her',\n",
       "                                                                    'hers',\n",
       "                                                                    'herself',\n",
       "                                                                    'it',\n",
       "                                                                    \"it's\",\n",
       "                                                                    'its',\n",
       "                                                                    'itself', ...])),\n",
       "                                       ('clf',\n",
       "                                        OneVsRestClassifier(estimator=MultinomialNB()))]),\n",
       "             n_jobs=2,\n",
       "             param_grid={'clf__estimator__alpha': (0.01, 0.001),\n",
       "                         'tfidf__max_df': (50, 100, 200),\n",
       "                         'tfidf__ngram_range': [(1, 1), (1, 2), (1, 3)]},\n",
       "             verbose=1)"
      ]
     },
     "execution_count": 46,
     "metadata": {},
     "output_type": "execute_result"
    }
   ],
   "source": [
    "grid1 = GridSearchCV(\n",
    "    pipeline1, parameters1, cv=3, n_jobs=2, verbose=1)\n",
    "grid1.fit(train_x, y_train)"
   ]
  },
  {
   "cell_type": "code",
   "execution_count": 48,
   "metadata": {},
   "outputs": [
    {
     "name": "stdout",
     "output_type": "stream",
     "text": [
      "Best parameters set:\n"
     ]
    },
    {
     "data": {
      "text/plain": [
       "[('tfidf',\n",
       "  TfidfVectorizer(max_df=200, ngram_range=(1, 2),\n",
       "                  stop_words=['i', 'me', 'my', 'myself', 'we', 'our', 'ours',\n",
       "                              'ourselves', 'you', \"you're\", \"you've\", \"you'll\",\n",
       "                              \"you'd\", 'your', 'yours', 'yourself', 'yourselves',\n",
       "                              'he', 'him', 'his', 'himself', 'she', \"she's\",\n",
       "                              'her', 'hers', 'herself', 'it', \"it's\", 'its',\n",
       "                              'itself', ...])),\n",
       " ('clf', OneVsRestClassifier(estimator=MultinomialNB(alpha=0.01)))]"
      ]
     },
     "execution_count": 48,
     "metadata": {},
     "output_type": "execute_result"
    }
   ],
   "source": [
    "print(\"Best parameters set:\")\n",
    "grid1.best_estimator_.steps"
   ]
  },
  {
   "cell_type": "code",
   "execution_count": 52,
   "metadata": {},
   "outputs": [
    {
     "name": "stdout",
     "output_type": "stream",
     "text": [
      "Applying best classifier on test data:\n",
      "              precision    recall  f1-score   support\n",
      "\n",
      "     romance       0.47      0.18      0.26      2420\n",
      "       drama       0.63      0.66      0.65      6348\n",
      "     history       0.53      0.05      0.08       196\n",
      "   biography       0.84      0.09      0.16       300\n",
      "       crime       0.58      0.24      0.34      1837\n",
      "      horror       0.72      0.41      0.53      1763\n",
      "     western       0.76      0.26      0.39       390\n",
      "     fantasy       0.41      0.04      0.07       488\n",
      "      comedy       0.61      0.43      0.50      4335\n",
      "      family       0.47      0.04      0.07       583\n",
      "   adventure       0.62      0.18      0.28      1114\n",
      "      action       0.56      0.27      0.36      2153\n",
      "         war       0.69      0.20      0.31       267\n",
      "       scifi       0.74      0.23      0.35       662\n",
      "     mystery       0.41      0.07      0.12       867\n",
      "    thriller       0.40      0.14      0.20      1966\n",
      "       sport       0.74      0.07      0.12       212\n",
      "     musical       0.44      0.03      0.06       458\n",
      "       music       0.67      0.04      0.07       319\n",
      "    filmnoir       0.25      0.00      0.01       226\n",
      "   animation       0.42      0.03      0.06       148\n",
      "\n",
      "   micro avg       0.60      0.34      0.44     27052\n",
      "   macro avg       0.57      0.17      0.24     27052\n",
      "weighted avg       0.58      0.34      0.40     27052\n",
      " samples avg       0.52      0.38      0.41     27052\n",
      "\n"
     ]
    },
    {
     "name": "stderr",
     "output_type": "stream",
     "text": [
      "/Users/Nakin/opt/anaconda3/envs/dhdsblend/lib/python3.7/site-packages/sklearn/metrics/_classification.py:1221: UndefinedMetricWarning: Precision and F-score are ill-defined and being set to 0.0 in samples with no predicted labels. Use `zero_division` parameter to control this behavior.\n",
      "  _warn_prf(average, modifier, msg_start, len(result))\n"
     ]
    }
   ],
   "source": [
    "# measuring performance on test set\n",
    "print(\"Applying best classifier on test data:\")\n",
    "best_clf = grid1.best_estimator_\n",
    "predictions = best_clf.predict(test_x)\n",
    "\n",
    "print(classification_report(y_test, predictions, target_names=genres))"
   ]
  },
  {
   "cell_type": "code",
   "execution_count": 77,
   "metadata": {},
   "outputs": [
    {
     "name": "stdout",
     "output_type": "stream",
     "text": [
      "Accuracy =  0.12638280939116595\n",
      "\n",
      "\n"
     ]
    }
   ],
   "source": [
    "print(\"Accuracy = \",accuracy_score(y_test,predictions))\n",
    "print(\"\\n\")"
   ]
  },
  {
   "cell_type": "markdown",
   "metadata": {},
   "source": [
    "### Pipeline 2 con OneVSRest y LinearCV"
   ]
  },
  {
   "cell_type": "code",
   "execution_count": 55,
   "metadata": {},
   "outputs": [],
   "source": [
    "pipeline2 = Pipeline([\n",
    "    ('tfidf', TfidfVectorizer(stop_words=stop_words)),\n",
    "    ('clf', OneVsRestClassifier(LinearSVC()))\n",
    "])\n",
    "parameters2 = {\n",
    "    'tfidf__max_df': [50,100,200],\n",
    "    'tfidf__ngram_range': [(1, 1), (1, 2), (1, 3)],\n",
    "    \"clf__estimator__C\": [0.01, 0.1, 1],\n",
    "    \"clf__estimator__class_weight\": ['balanced', None],\n",
    "}"
   ]
  },
  {
   "cell_type": "code",
   "execution_count": 56,
   "metadata": {},
   "outputs": [
    {
     "name": "stdout",
     "output_type": "stream",
     "text": [
      "Fitting 3 folds for each of 36 candidates, totalling 108 fits\n"
     ]
    },
    {
     "name": "stderr",
     "output_type": "stream",
     "text": [
      "[Parallel(n_jobs=2)]: Using backend LokyBackend with 2 concurrent workers.\n",
      "[Parallel(n_jobs=2)]: Done  46 tasks      | elapsed:  1.1min\n",
      "[Parallel(n_jobs=2)]: Done 108 out of 108 | elapsed:  4.4min finished\n"
     ]
    },
    {
     "data": {
      "text/plain": [
       "GridSearchCV(cv=3,\n",
       "             estimator=Pipeline(steps=[('tfidf',\n",
       "                                        TfidfVectorizer(stop_words=['i', 'me',\n",
       "                                                                    'my',\n",
       "                                                                    'myself',\n",
       "                                                                    'we', 'our',\n",
       "                                                                    'ours',\n",
       "                                                                    'ourselves',\n",
       "                                                                    'you',\n",
       "                                                                    \"you're\",\n",
       "                                                                    \"you've\",\n",
       "                                                                    \"you'll\",\n",
       "                                                                    \"you'd\",\n",
       "                                                                    'your',\n",
       "                                                                    'yours',\n",
       "                                                                    'yourself',\n",
       "                                                                    'yourselves',\n",
       "                                                                    'he', 'him',\n",
       "                                                                    'his',\n",
       "                                                                    'himself',\n",
       "                                                                    'she',\n",
       "                                                                    \"she's\",\n",
       "                                                                    'her',\n",
       "                                                                    'hers',\n",
       "                                                                    'herself',\n",
       "                                                                    'it',\n",
       "                                                                    \"it's\",\n",
       "                                                                    'its',\n",
       "                                                                    'itself', ...])),\n",
       "                                       ('clf',\n",
       "                                        OneVsRestClassifier(estimator=LinearSVC()))]),\n",
       "             n_jobs=2,\n",
       "             param_grid={'clf__estimator__C': [0.01, 0.1, 1],\n",
       "                         'clf__estimator__class_weight': ['balanced', None],\n",
       "                         'tfidf__max_df': (50, 100),\n",
       "                         'tfidf__ngram_range': [(1, 1), (1, 2), (1, 3)]},\n",
       "             verbose=1)"
      ]
     },
     "execution_count": 56,
     "metadata": {},
     "output_type": "execute_result"
    }
   ],
   "source": [
    "grid2 = GridSearchCV(\n",
    "    pipeline2, parameters2, cv=3, n_jobs=2, verbose=1)\n",
    "grid2.fit(train_x, y_train)"
   ]
  },
  {
   "cell_type": "code",
   "execution_count": 58,
   "metadata": {},
   "outputs": [
    {
     "name": "stdout",
     "output_type": "stream",
     "text": [
      "Best parameters set:\n"
     ]
    },
    {
     "data": {
      "text/plain": [
       "[('tfidf',\n",
       "  TfidfVectorizer(max_df=100, ngram_range=(1, 2),\n",
       "                  stop_words=['i', 'me', 'my', 'myself', 'we', 'our', 'ours',\n",
       "                              'ourselves', 'you', \"you're\", \"you've\", \"you'll\",\n",
       "                              \"you'd\", 'your', 'yours', 'yourself', 'yourselves',\n",
       "                              'he', 'him', 'his', 'himself', 'she', \"she's\",\n",
       "                              'her', 'hers', 'herself', 'it', \"it's\", 'its',\n",
       "                              'itself', ...])),\n",
       " ('clf', OneVsRestClassifier(estimator=LinearSVC(C=1)))]"
      ]
     },
     "execution_count": 58,
     "metadata": {},
     "output_type": "execute_result"
    }
   ],
   "source": [
    "print(\"Best parameters set:\")\n",
    "grid2.best_estimator_.steps"
   ]
  },
  {
   "cell_type": "code",
   "execution_count": 61,
   "metadata": {},
   "outputs": [
    {
     "name": "stdout",
     "output_type": "stream",
     "text": [
      "Applying best classifier on test data:\n",
      "              precision    recall  f1-score   support\n",
      "\n",
      "     romance       0.54      0.17      0.26      2420\n",
      "       drama       0.65      0.68      0.66      6348\n",
      "     history       0.67      0.01      0.02       196\n",
      "   biography       0.77      0.12      0.21       300\n",
      "       crime       0.62      0.27      0.38      1837\n",
      "      horror       0.78      0.48      0.59      1763\n",
      "     western       0.73      0.36      0.49       390\n",
      "     fantasy       0.58      0.04      0.08       488\n",
      "      comedy       0.66      0.45      0.54      4335\n",
      "      family       0.58      0.03      0.06       583\n",
      "   adventure       0.66      0.17      0.27      1114\n",
      "      action       0.62      0.29      0.39      2153\n",
      "         war       0.66      0.21      0.32       267\n",
      "       scifi       0.77      0.28      0.42       662\n",
      "     mystery       0.52      0.06      0.11       867\n",
      "    thriller       0.45      0.15      0.22      1966\n",
      "       sport       0.74      0.27      0.39       212\n",
      "     musical       0.58      0.04      0.07       458\n",
      "       music       0.61      0.04      0.08       319\n",
      "    filmnoir       0.00      0.00      0.00       226\n",
      "   animation       1.00      0.04      0.08       148\n",
      "\n",
      "   micro avg       0.65      0.36      0.46     27052\n",
      "   macro avg       0.63      0.20      0.27     27052\n",
      "weighted avg       0.63      0.36      0.42     27052\n",
      " samples avg       0.56      0.40      0.44     27052\n",
      "\n"
     ]
    },
    {
     "name": "stderr",
     "output_type": "stream",
     "text": [
      "/Users/Nakin/opt/anaconda3/envs/dhdsblend/lib/python3.7/site-packages/sklearn/metrics/_classification.py:1221: UndefinedMetricWarning: Precision and F-score are ill-defined and being set to 0.0 in labels with no predicted samples. Use `zero_division` parameter to control this behavior.\n",
      "  _warn_prf(average, modifier, msg_start, len(result))\n",
      "/Users/Nakin/opt/anaconda3/envs/dhdsblend/lib/python3.7/site-packages/sklearn/metrics/_classification.py:1221: UndefinedMetricWarning: Precision and F-score are ill-defined and being set to 0.0 in samples with no predicted labels. Use `zero_division` parameter to control this behavior.\n",
      "  _warn_prf(average, modifier, msg_start, len(result))\n"
     ]
    }
   ],
   "source": [
    "# measuring performance on test set\n",
    "print( \"Applying best classifier on test data:\")\n",
    "predictions = grid2.best_estimator_.predict(test_x)\n",
    "\n",
    "print(classification_report(y_test, predictions, target_names=genres))"
   ]
  },
  {
   "cell_type": "markdown",
   "metadata": {},
   "source": [
    "### Pipeline 3 con OneVSRest y LogisticRegression"
   ]
  },
  {
   "cell_type": "code",
   "execution_count": 65,
   "metadata": {},
   "outputs": [],
   "source": [
    "pipeline3 = Pipeline([\n",
    "    ('tfidf', TfidfVectorizer(stop_words=stop_words)),\n",
    "    ('clf', OneVsRestClassifier(LogisticRegression(solver='sag'))),\n",
    "])\n",
    "parameters3 = {\n",
    "#     'tfidf__max_df': [50, 100,200],\n",
    "    'tfidf__ngram_range': [(1, 1), (1, 2), (1, 3)],\n",
    "    \"clf__estimator__C\": [0.01, 0.1, 1],\n",
    "    \"clf__estimator__class_weight\": ['balanced', None],\n",
    "}\n"
   ]
  },
  {
   "cell_type": "code",
   "execution_count": null,
   "metadata": {},
   "outputs": [],
   "source": []
  },
  {
   "cell_type": "code",
   "execution_count": 66,
   "metadata": {},
   "outputs": [
    {
     "name": "stdout",
     "output_type": "stream",
     "text": [
      "Fitting 3 folds for each of 18 candidates, totalling 54 fits\n"
     ]
    },
    {
     "name": "stderr",
     "output_type": "stream",
     "text": [
      "[Parallel(n_jobs=2)]: Using backend LokyBackend with 2 concurrent workers.\n",
      "[Parallel(n_jobs=2)]: Done  46 tasks      | elapsed:  5.1min\n",
      "[Parallel(n_jobs=2)]: Done  54 out of  54 | elapsed:  5.8min finished\n"
     ]
    },
    {
     "data": {
      "text/plain": [
       "GridSearchCV(cv=3,\n",
       "             estimator=Pipeline(steps=[('tfidf',\n",
       "                                        TfidfVectorizer(stop_words=['i', 'me',\n",
       "                                                                    'my',\n",
       "                                                                    'myself',\n",
       "                                                                    'we', 'our',\n",
       "                                                                    'ours',\n",
       "                                                                    'ourselves',\n",
       "                                                                    'you',\n",
       "                                                                    \"you're\",\n",
       "                                                                    \"you've\",\n",
       "                                                                    \"you'll\",\n",
       "                                                                    \"you'd\",\n",
       "                                                                    'your',\n",
       "                                                                    'yours',\n",
       "                                                                    'yourself',\n",
       "                                                                    'yourselves',\n",
       "                                                                    'he', 'him',\n",
       "                                                                    'his',\n",
       "                                                                    'himself',\n",
       "                                                                    'she',\n",
       "                                                                    \"she's\",\n",
       "                                                                    'her',\n",
       "                                                                    'hers',\n",
       "                                                                    'herself',\n",
       "                                                                    'it',\n",
       "                                                                    \"it's\",\n",
       "                                                                    'its',\n",
       "                                                                    'itself', ...])),\n",
       "                                       ('clf',\n",
       "                                        OneVsRestClassifier(estimator=LogisticRegression(solver='sag')))]),\n",
       "             n_jobs=2,\n",
       "             param_grid={'clf__estimator__C': [0.01, 0.1, 1],\n",
       "                         'clf__estimator__class_weight': ['balanced', None],\n",
       "                         'tfidf__ngram_range': [(1, 1), (1, 2), (1, 3)]},\n",
       "             verbose=1)"
      ]
     },
     "execution_count": 66,
     "metadata": {},
     "output_type": "execute_result"
    }
   ],
   "source": [
    "grid3 = GridSearchCV(\n",
    "    pipeline3, parameters3, cv=3, n_jobs=2, verbose=1)\n",
    "grid3.fit(train_x, y_train)\n",
    "\n"
   ]
  },
  {
   "cell_type": "code",
   "execution_count": 68,
   "metadata": {},
   "outputs": [
    {
     "name": "stdout",
     "output_type": "stream",
     "text": [
      "Best parameters set:\n"
     ]
    },
    {
     "data": {
      "text/plain": [
       "[('tfidf',\n",
       "  TfidfVectorizer(stop_words=['i', 'me', 'my', 'myself', 'we', 'our', 'ours',\n",
       "                              'ourselves', 'you', \"you're\", \"you've\", \"you'll\",\n",
       "                              \"you'd\", 'your', 'yours', 'yourself', 'yourselves',\n",
       "                              'he', 'him', 'his', 'himself', 'she', \"she's\",\n",
       "                              'her', 'hers', 'herself', 'it', \"it's\", 'its',\n",
       "                              'itself', ...])),\n",
       " ('clf', OneVsRestClassifier(estimator=LogisticRegression(C=1, solver='sag')))]"
      ]
     },
     "execution_count": 68,
     "metadata": {},
     "output_type": "execute_result"
    }
   ],
   "source": [
    "print(\"Best parameters set:\")\n",
    "grid3.best_estimator_.steps"
   ]
  },
  {
   "cell_type": "code",
   "execution_count": 69,
   "metadata": {},
   "outputs": [
    {
     "name": "stdout",
     "output_type": "stream",
     "text": [
      "Applying best classifier on test data:\n",
      "              precision    recall  f1-score   support\n",
      "\n",
      "     romance       0.64      0.17      0.27      2420\n",
      "       drama       0.67      0.71      0.69      6348\n",
      "     history       0.00      0.00      0.00       196\n",
      "   biography       0.79      0.05      0.09       300\n",
      "       crime       0.67      0.21      0.32      1837\n",
      "      horror       0.83      0.33      0.48      1763\n",
      "     western       0.76      0.07      0.14       390\n",
      "     fantasy       0.00      0.00      0.00       488\n",
      "      comedy       0.72      0.41      0.52      4335\n",
      "      family       0.62      0.01      0.02       583\n",
      "   adventure       0.79      0.06      0.12      1114\n",
      "      action       0.71      0.19      0.30      2153\n",
      "         war       0.55      0.10      0.18       267\n",
      "       scifi       0.84      0.15      0.26       662\n",
      "     mystery       0.51      0.04      0.08       867\n",
      "    thriller       0.54      0.07      0.12      1966\n",
      "       sport       0.73      0.05      0.10       212\n",
      "     musical       0.60      0.01      0.03       458\n",
      "       music       0.75      0.02      0.04       319\n",
      "    filmnoir       0.00      0.00      0.00       226\n",
      "   animation       0.00      0.00      0.00       148\n",
      "\n",
      "   micro avg       0.69      0.31      0.43     27052\n",
      "   macro avg       0.56      0.13      0.18     27052\n",
      "weighted avg       0.66      0.31      0.38     27052\n",
      " samples avg       0.54      0.36      0.41     27052\n",
      "\n"
     ]
    },
    {
     "name": "stderr",
     "output_type": "stream",
     "text": [
      "/Users/Nakin/opt/anaconda3/envs/dhdsblend/lib/python3.7/site-packages/sklearn/metrics/_classification.py:1221: UndefinedMetricWarning: Precision and F-score are ill-defined and being set to 0.0 in labels with no predicted samples. Use `zero_division` parameter to control this behavior.\n",
      "  _warn_prf(average, modifier, msg_start, len(result))\n",
      "/Users/Nakin/opt/anaconda3/envs/dhdsblend/lib/python3.7/site-packages/sklearn/metrics/_classification.py:1221: UndefinedMetricWarning: Precision and F-score are ill-defined and being set to 0.0 in samples with no predicted labels. Use `zero_division` parameter to control this behavior.\n",
      "  _warn_prf(average, modifier, msg_start, len(result))\n"
     ]
    }
   ],
   "source": [
    "# measuring performance on test set\n",
    "print(\"Applying best classifier on test data:\")\n",
    "predictions = grid3.best_estimator_.predict(test_x)\n",
    "\n",
    "print(classification_report(y_test, predictions, target_names=genres))"
   ]
  },
  {
   "cell_type": "code",
   "execution_count": 70,
   "metadata": {},
   "outputs": [],
   "source": [
    "pipeline4 = Pipeline([\n",
    "    ('tfidf', TfidfVectorizer(strip_accents='unicode', analyzer='word', ngram_range=(1,3), norm='l2', stop_words=stop_words)),\n",
    "    ('clf', OneVsRestClassifier(LogisticRegression(solver='sag'), n_jobs=-1))])\n",
    "\n",
    "\n"
   ]
  },
  {
   "cell_type": "code",
   "execution_count": 73,
   "metadata": {},
   "outputs": [
    {
     "data": {
      "text/plain": [
       "Pipeline(steps=[('tfidf',\n",
       "                 TfidfVectorizer(ngram_range=(1, 3),\n",
       "                                 stop_words=['i', 'me', 'my', 'myself', 'we',\n",
       "                                             'our', 'ours', 'ourselves', 'you',\n",
       "                                             \"you're\", \"you've\", \"you'll\",\n",
       "                                             \"you'd\", 'your', 'yours',\n",
       "                                             'yourself', 'yourselves', 'he',\n",
       "                                             'him', 'his', 'himself', 'she',\n",
       "                                             \"she's\", 'her', 'hers', 'herself',\n",
       "                                             'it', \"it's\", 'its', 'itself', ...],\n",
       "                                 strip_accents='unicode')),\n",
       "                ('clf',\n",
       "                 OneVsRestClassifier(estimator=LogisticRegression(solver='sag'),\n",
       "                                     n_jobs=-1))])"
      ]
     },
     "execution_count": 73,
     "metadata": {},
     "output_type": "execute_result"
    }
   ],
   "source": [
    "pipeline4.fit(train_x, y_train)"
   ]
  },
  {
   "cell_type": "code",
   "execution_count": 75,
   "metadata": {},
   "outputs": [
    {
     "name": "stdout",
     "output_type": "stream",
     "text": [
      "              precision    recall  f1-score   support\n",
      "\n",
      "     romance       0.62      0.21      0.31      2420\n",
      "       drama       0.66      0.73      0.69      6348\n",
      "     history       0.00      0.00      0.00       196\n",
      "   biography       0.82      0.03      0.06       300\n",
      "       crime       0.65      0.22      0.33      1837\n",
      "      horror       0.81      0.31      0.45      1763\n",
      "     western       1.00      0.02      0.03       390\n",
      "     fantasy       0.00      0.00      0.00       488\n",
      "      comedy       0.72      0.34      0.46      4335\n",
      "      family       0.00      0.00      0.00       583\n",
      "   adventure       0.89      0.03      0.06      1114\n",
      "      action       0.70      0.15      0.25      2153\n",
      "         war       0.47      0.10      0.17       267\n",
      "       scifi       0.86      0.10      0.17       662\n",
      "     mystery       0.46      0.03      0.05       867\n",
      "    thriller       0.52      0.05      0.10      1966\n",
      "       sport       1.00      0.00      0.01       212\n",
      "     musical       0.00      0.00      0.00       458\n",
      "       music       0.00      0.00      0.00       319\n",
      "    filmnoir       0.00      0.00      0.00       226\n",
      "   animation       0.00      0.00      0.00       148\n",
      "\n",
      "   micro avg       0.67      0.30      0.42     27052\n",
      "   macro avg       0.48      0.11      0.15     27052\n",
      "weighted avg       0.62      0.30      0.35     27052\n",
      " samples avg       0.52      0.34      0.39     27052\n",
      "\n"
     ]
    },
    {
     "name": "stderr",
     "output_type": "stream",
     "text": [
      "/Users/Nakin/opt/anaconda3/envs/dhdsblend/lib/python3.7/site-packages/sklearn/metrics/_classification.py:1221: UndefinedMetricWarning: Precision and F-score are ill-defined and being set to 0.0 in labels with no predicted samples. Use `zero_division` parameter to control this behavior.\n",
      "  _warn_prf(average, modifier, msg_start, len(result))\n",
      "/Users/Nakin/opt/anaconda3/envs/dhdsblend/lib/python3.7/site-packages/sklearn/metrics/_classification.py:1221: UndefinedMetricWarning: Precision and F-score are ill-defined and being set to 0.0 in samples with no predicted labels. Use `zero_division` parameter to control this behavior.\n",
      "  _warn_prf(average, modifier, msg_start, len(result))\n"
     ]
    }
   ],
   "source": [
    "predictions = pipeline4.predict(test_x)\n",
    "\n",
    "print(classification_report(y_test, predictions, target_names=genres))"
   ]
  },
  {
   "cell_type": "code",
   "execution_count": 76,
   "metadata": {},
   "outputs": [
    {
     "name": "stdout",
     "output_type": "stream",
     "text": [
      "Accuracy =  0.12638280939116595\n",
      "\n",
      "\n"
     ]
    }
   ],
   "source": [
    "print(\"Accuracy = \",accuracy_score(y_test,predictions))\n",
    "print(\"\\n\")"
   ]
  },
  {
   "cell_type": "code",
   "execution_count": null,
   "metadata": {},
   "outputs": [],
   "source": []
  }
 ],
 "metadata": {
  "kernelspec": {
   "display_name": "Python 3",
   "language": "python",
   "name": "python3"
  },
  "language_info": {
   "codemirror_mode": {
    "name": "ipython",
    "version": 3
   },
   "file_extension": ".py",
   "mimetype": "text/x-python",
   "name": "python",
   "nbconvert_exporter": "python",
   "pygments_lexer": "ipython3",
   "version": "3.7.9"
  }
 },
 "nbformat": 4,
 "nbformat_minor": 4
}
