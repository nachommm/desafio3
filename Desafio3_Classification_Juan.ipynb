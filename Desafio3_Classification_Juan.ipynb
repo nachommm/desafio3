{
 "cells": [
  {
   "cell_type": "code",
   "execution_count": 68,
   "metadata": {},
   "outputs": [],
   "source": [
    "import pandas as pd\n",
    "import numpy as np\n",
    "import seaborn as sns\n",
    "import matplotlib.pyplot as plt\n",
    "%matplotlib inline\n",
    "from sklearn.model_selection import train_test_split, StratifiedKFold, GridSearchCV, StratifiedShuffleSplit\n",
    "from sklearn.feature_extraction.text import TfidfVectorizer\n",
    "from sklearn.multiclass import OneVsRestClassifier\n",
    "from sklearn.naive_bayes import MultinomialNB\n",
    "from sklearn.metrics import accuracy_score,confusion_matrix, classification_report\n",
    "import unidecode\n",
    "from nltk.corpus import stopwords \n",
    "\n",
    "from sklearn.feature_extraction.text import CountVectorizer\n",
    "stop_words=stopwords.words('english');"
   ]
  },
  {
   "cell_type": "code",
   "execution_count": 69,
   "metadata": {},
   "outputs": [],
   "source": [
    "pd.set_option('display.max_columns', 100) # Para mostrar todas las columnas\n",
    "# pd.set_option('display.max_rows', 100) # Para mostrar todas las filas"
   ]
  },
  {
   "cell_type": "code",
   "execution_count": 70,
   "metadata": {},
   "outputs": [
    {
     "data": {
      "text/html": [
       "<div>\n",
       "<style scoped>\n",
       "    .dataframe tbody tr th:only-of-type {\n",
       "        vertical-align: middle;\n",
       "    }\n",
       "\n",
       "    .dataframe tbody tr th {\n",
       "        vertical-align: top;\n",
       "    }\n",
       "\n",
       "    .dataframe thead th {\n",
       "        text-align: right;\n",
       "    }\n",
       "</style>\n",
       "<table border=\"1\" class=\"dataframe\">\n",
       "  <thead>\n",
       "    <tr style=\"text-align: right;\">\n",
       "      <th></th>\n",
       "      <th>description_clean</th>\n",
       "      <th>genre_clean</th>\n",
       "    </tr>\n",
       "  </thead>\n",
       "  <tbody>\n",
       "    <tr>\n",
       "      <th>0</th>\n",
       "      <td>miss jerry the adventures of a female reporter...</td>\n",
       "      <td>romance</td>\n",
       "    </tr>\n",
       "    <tr>\n",
       "      <th>1</th>\n",
       "      <td>the story of the kelly gang true story of noto...</td>\n",
       "      <td>biography crime drama</td>\n",
       "    </tr>\n",
       "    <tr>\n",
       "      <th>2</th>\n",
       "      <td>cleopatra the fabled queen of egypts affair wi...</td>\n",
       "      <td>drama history</td>\n",
       "    </tr>\n",
       "    <tr>\n",
       "      <th>3</th>\n",
       "      <td>linferno loosely adapted from dantes divine co...</td>\n",
       "      <td>adventure drama fantasy</td>\n",
       "    </tr>\n",
       "    <tr>\n",
       "      <th>4</th>\n",
       "      <td>from the manger to the cross or jesus of nazar...</td>\n",
       "      <td>biography drama</td>\n",
       "    </tr>\n",
       "  </tbody>\n",
       "</table>\n",
       "</div>"
      ],
      "text/plain": [
       "                                   description_clean              genre_clean\n",
       "0  miss jerry the adventures of a female reporter...                  romance\n",
       "1  the story of the kelly gang true story of noto...    biography crime drama\n",
       "2  cleopatra the fabled queen of egypts affair wi...            drama history\n",
       "3  linferno loosely adapted from dantes divine co...  adventure drama fantasy\n",
       "4  from the manger to the cross or jesus of nazar...          biography drama"
      ]
     },
     "execution_count": 70,
     "metadata": {},
     "output_type": "execute_result"
    }
   ],
   "source": [
    "data = pd.read_csv(\"data/movies_preprocesadas.csv\", low_memory=False)\n",
    "data.head()"
   ]
  },
  {
   "cell_type": "code",
   "execution_count": 71,
   "metadata": {},
   "outputs": [
    {
     "data": {
      "text/plain": [
       "drama                         11929\n",
       "comedy                         7067\n",
       "comedy drama                   3856\n",
       "drama romance                  3349\n",
       "comedy romance                 2398\n",
       "                              ...  \n",
       "fantasy history romance           1\n",
       "biography thriller western        1\n",
       "musical adventure drama           1\n",
       "scifi fantasy mystery             1\n",
       "fantasy mystery action            1\n",
       "Name: genre_clean, Length: 1238, dtype: int64"
      ]
     },
     "execution_count": 71,
     "metadata": {},
     "output_type": "execute_result"
    }
   ],
   "source": [
    "data['genre_clean'].value_counts()"
   ]
  },
  {
   "cell_type": "code",
   "execution_count": 72,
   "metadata": {},
   "outputs": [
    {
     "data": {
      "text/plain": [
       "(82880, 2)"
      ]
     },
     "execution_count": 72,
     "metadata": {},
     "output_type": "execute_result"
    }
   ],
   "source": [
    "data.shape"
   ]
  },
  {
   "cell_type": "code",
   "execution_count": 73,
   "metadata": {},
   "outputs": [
    {
     "data": {
      "text/plain": [
       "Index(['description_clean', 'genre_clean'], dtype='object')"
      ]
     },
     "execution_count": 73,
     "metadata": {},
     "output_type": "execute_result"
    }
   ],
   "source": [
    "data.columns"
   ]
  },
  {
   "cell_type": "code",
   "execution_count": 74,
   "metadata": {},
   "outputs": [],
   "source": [
    "data['genre'] = data['genre_clean'].str.split(\" \").map(lambda x: x[0])"
   ]
  },
  {
   "cell_type": "code",
   "execution_count": 75,
   "metadata": {},
   "outputs": [
    {
     "data": {
      "text/html": [
       "<div>\n",
       "<style scoped>\n",
       "    .dataframe tbody tr th:only-of-type {\n",
       "        vertical-align: middle;\n",
       "    }\n",
       "\n",
       "    .dataframe tbody tr th {\n",
       "        vertical-align: top;\n",
       "    }\n",
       "\n",
       "    .dataframe thead th {\n",
       "        text-align: right;\n",
       "    }\n",
       "</style>\n",
       "<table border=\"1\" class=\"dataframe\">\n",
       "  <thead>\n",
       "    <tr style=\"text-align: right;\">\n",
       "      <th></th>\n",
       "      <th>description_clean</th>\n",
       "      <th>genre_clean</th>\n",
       "      <th>genre</th>\n",
       "    </tr>\n",
       "  </thead>\n",
       "  <tbody>\n",
       "    <tr>\n",
       "      <th>34200</th>\n",
       "      <td>una questione donore efisio mulas is a meek la...</td>\n",
       "      <td>comedy drama</td>\n",
       "      <td>comedy</td>\n",
       "    </tr>\n",
       "    <tr>\n",
       "      <th>17912</th>\n",
       "      <td>wombling free the adventures of the wombles st...</td>\n",
       "      <td>animation comedy family</td>\n",
       "      <td>animation</td>\n",
       "    </tr>\n",
       "    <tr>\n",
       "      <th>12985</th>\n",
       "      <td>quei fantastici pazzi volanti in victorian eng...</td>\n",
       "      <td>adventure comedy fantasy</td>\n",
       "      <td>adventure</td>\n",
       "    </tr>\n",
       "    <tr>\n",
       "      <th>60834</th>\n",
       "      <td>11 settembre 1683 in the summer of 1683 300000...</td>\n",
       "      <td>drama history war</td>\n",
       "      <td>drama</td>\n",
       "    </tr>\n",
       "    <tr>\n",
       "      <th>20511</th>\n",
       "      <td>ercole the story of the greek mythological fig...</td>\n",
       "      <td>adventure fantasy</td>\n",
       "      <td>adventure</td>\n",
       "    </tr>\n",
       "  </tbody>\n",
       "</table>\n",
       "</div>"
      ],
      "text/plain": [
       "                                       description_clean  \\\n",
       "34200  una questione donore efisio mulas is a meek la...   \n",
       "17912  wombling free the adventures of the wombles st...   \n",
       "12985  quei fantastici pazzi volanti in victorian eng...   \n",
       "60834  11 settembre 1683 in the summer of 1683 300000...   \n",
       "20511  ercole the story of the greek mythological fig...   \n",
       "\n",
       "                    genre_clean      genre  \n",
       "34200              comedy drama     comedy  \n",
       "17912   animation comedy family  animation  \n",
       "12985  adventure comedy fantasy  adventure  \n",
       "60834         drama history war      drama  \n",
       "20511         adventure fantasy  adventure  "
      ]
     },
     "execution_count": 75,
     "metadata": {},
     "output_type": "execute_result"
    }
   ],
   "source": [
    "data.sample(5)"
   ]
  },
  {
   "cell_type": "code",
   "execution_count": 76,
   "metadata": {},
   "outputs": [
    {
     "data": {
      "text/plain": [
       "array(['romance', 'biography', 'drama', 'adventure', 'crime', 'western',\n",
       "       'fantasy', 'comedy', 'horror', 'family', 'action', 'mystery',\n",
       "       'history', 'scifi', 'animation', 'musical', 'music', 'thriller',\n",
       "       'war', 'filmnoir', 'sport'], dtype=object)"
      ]
     },
     "execution_count": 76,
     "metadata": {},
     "output_type": "execute_result"
    }
   ],
   "source": [
    "genres = data['genre'].unique()\n",
    "genres"
   ]
  },
  {
   "cell_type": "code",
   "execution_count": 77,
   "metadata": {},
   "outputs": [],
   "source": [
    "mask_filter = (data['genre']=='action') | (data['genre']=='comedy') | (data['genre']=='drama') | (data['genre']=='horror')\n",
    "mask_filter\n",
    "data = data.loc[mask_filter, :]"
   ]
  },
  {
   "cell_type": "code",
   "execution_count": 78,
   "metadata": {},
   "outputs": [
    {
     "data": {
      "text/html": [
       "<div>\n",
       "<style scoped>\n",
       "    .dataframe tbody tr th:only-of-type {\n",
       "        vertical-align: middle;\n",
       "    }\n",
       "\n",
       "    .dataframe tbody tr th {\n",
       "        vertical-align: top;\n",
       "    }\n",
       "\n",
       "    .dataframe thead th {\n",
       "        text-align: right;\n",
       "    }\n",
       "</style>\n",
       "<table border=\"1\" class=\"dataframe\">\n",
       "  <thead>\n",
       "    <tr style=\"text-align: right;\">\n",
       "      <th></th>\n",
       "      <th>description_clean</th>\n",
       "      <th>genre_clean</th>\n",
       "      <th>genre</th>\n",
       "      <th>target_genre</th>\n",
       "    </tr>\n",
       "  </thead>\n",
       "  <tbody>\n",
       "    <tr>\n",
       "      <th>37542</th>\n",
       "      <td>deewane policeman vishal is shot when his boss...</td>\n",
       "      <td>action romance</td>\n",
       "      <td>action</td>\n",
       "      <td>0.0</td>\n",
       "    </tr>\n",
       "    <tr>\n",
       "      <th>45464</th>\n",
       "      <td>laura smiles the story of a womans attempt to ...</td>\n",
       "      <td>drama</td>\n",
       "      <td>drama</td>\n",
       "      <td>2.0</td>\n",
       "    </tr>\n",
       "    <tr>\n",
       "      <th>22693</th>\n",
       "      <td>deviazioni a man goes to speak with a gigolo a...</td>\n",
       "      <td>horror thriller</td>\n",
       "      <td>horror</td>\n",
       "      <td>3.0</td>\n",
       "    </tr>\n",
       "  </tbody>\n",
       "</table>\n",
       "</div>"
      ],
      "text/plain": [
       "                                       description_clean      genre_clean  \\\n",
       "37542  deewane policeman vishal is shot when his boss...   action romance   \n",
       "45464  laura smiles the story of a womans attempt to ...            drama   \n",
       "22693  deviazioni a man goes to speak with a gigolo a...  horror thriller   \n",
       "\n",
       "        genre  target_genre  \n",
       "37542  action           0.0  \n",
       "45464   drama           2.0  \n",
       "22693  horror           3.0  "
      ]
     },
     "execution_count": 78,
     "metadata": {},
     "output_type": "execute_result"
    }
   ],
   "source": [
    "from sklearn.preprocessing import OrdinalEncoder\n",
    "#Cuando le paso las categorías como paramétro me tira error The truth value of an array with more than one element is ambiguous. Use a.any() or a.all()\n",
    "ord_enc = OrdinalEncoder()\n",
    "data[\"target_genre\"] = ord_enc.fit_transform(data[[\"genre\"]])\n",
    "\n",
    "data.sample(3)"
   ]
  },
  {
   "cell_type": "code",
   "execution_count": 79,
   "metadata": {},
   "outputs": [
    {
     "name": "stdout",
     "output_type": "stream",
     "text": [
      "\n",
      " Clase  action\n",
      "['man' 'young' 'two' 'one' 'life' 'police' 'war' 'must' 'group' 'find'\n",
      " 'new' 'gang' 'world' 'story' 'love' 'cop' 'gets' 'get' 'son' 'take'\n",
      " 'city' 'fight' 'father' 'agent' 'death' 'help' 'finds' 'crime' 'time'\n",
      " 'back']\n",
      "\n",
      " Clase  drama\n",
      "['love' 'life' 'two' 'young' 'man' 'one' 'new' 'friends' 'get' 'girl'\n",
      " 'story' 'three' 'find' 'school' 'comedy' 'old' 'wife' 'years' 'lives'\n",
      " 'finds' 'film' 'father' 'gets' 'time' 'day' 'town' 'world' 'home' 'back'\n",
      " 'falls']\n",
      "\n",
      " Clase  comedy\n",
      "['young' 'life' 'love' 'man' 'story' 'two' 'one' 'girl' 'new' 'lives'\n",
      " 'father' 'years' 'mother' 'war' 'wife' 'world' 'old' 'son' 'film' 'find'\n",
      " 'home' 'school' 'finds' 'friends' 'town' 'boy' 'daughter' 'three' 'falls'\n",
      " 'day']\n",
      "\n",
      " Clase  horror\n",
      "['young' 'one' 'group' 'house' 'man' 'night' 'killer' 'friends' 'new'\n",
      " 'find' 'two' 'dead' 'home' 'mysterious' 'horror' 'death' 'girl' 'people'\n",
      " 'life' 'town' 'evil' 'years' 'old' 'haunted' 'soon' 'three' 'dark'\n",
      " 'strange' 'film' 'must']\n"
     ]
    }
   ],
   "source": [
    "vectorizer=CountVectorizer(stop_words=stop_words);\n",
    "stop_words.append('family');\n",
    "stop_words.append('la');\n",
    "stop_words.append('woman');\n",
    "stop_words.append('il');\n",
    "stop_words.append('di');\n",
    "clases = []\n",
    "\n",
    "clases= data['genre'].unique()\n",
    "\n",
    "for clase in range(0,len(clases)):\n",
    "    X=vectorizer.fit_transform(data[data['target_genre']==clase]['description_clean']);\n",
    "    counts=X.sum(axis=0);\n",
    "    counts=np.array(counts);\n",
    "    \n",
    "    indices=np.argsort(counts);\n",
    "    valores=np.sort(counts);\n",
    "    indices=indices[0][::-1];\n",
    "    valores=valores[0][::-1];\n",
    "    terms=np.array(vectorizer.get_feature_names());\n",
    "\n",
    "    print('\\n Clase ',clases[clase-1])\n",
    "    print(terms[indices[:30]])"
   ]
  },
  {
   "cell_type": "code",
   "execution_count": 80,
   "metadata": {},
   "outputs": [],
   "source": [
    "train, test = train_test_split(data, random_state=42, test_size=0.30, shuffle=True)\n",
    "train_text = train['description_clean']\n",
    "test_text = test['description_clean']"
   ]
  },
  {
   "cell_type": "code",
   "execution_count": 81,
   "metadata": {},
   "outputs": [
    {
     "data": {
      "text/plain": [
       "TfidfVectorizer(max_features=20000, min_df=10, ngram_range=(1, 3),\n",
       "                stop_words=['i', 'me', 'my', 'myself', 'we', 'our', 'ours',\n",
       "                            'ourselves', 'you', \"you're\", \"you've\", \"you'll\",\n",
       "                            \"you'd\", 'your', 'yours', 'yourself', 'yourselves',\n",
       "                            'he', 'him', 'his', 'himself', 'she', \"she's\",\n",
       "                            'her', 'hers', 'herself', 'it', \"it's\", 'its',\n",
       "                            'itself', ...])"
      ]
     },
     "execution_count": 81,
     "metadata": {},
     "output_type": "execute_result"
    }
   ],
   "source": [
    "stop_words = stopwords.words('english')\n",
    "vectorizer = TfidfVectorizer(min_df=10,ngram_range=(1,3),max_features=20000, stop_words=stop_words)\n",
    "vectorizer.fit(train_text)"
   ]
  },
  {
   "cell_type": "code",
   "execution_count": 82,
   "metadata": {},
   "outputs": [],
   "source": [
    "X_train = vectorizer.transform(train_text)\n",
    "X_test = vectorizer.transform(test_text)\n",
    "y_train = train['genre']\n",
    "y_test = test['genre']"
   ]
  },
  {
   "cell_type": "code",
   "execution_count": 83,
   "metadata": {},
   "outputs": [],
   "source": [
    "from sklearn.linear_model import LogisticRegression\n",
    "from sklearn.pipeline import Pipeline\n",
    "from sklearn.metrics import accuracy_score\n",
    "from sklearn.naive_bayes import MultinomialNB"
   ]
  },
  {
   "cell_type": "code",
   "execution_count": 84,
   "metadata": {},
   "outputs": [
    {
     "data": {
      "text/plain": [
       "4"
      ]
     },
     "execution_count": 84,
     "metadata": {},
     "output_type": "execute_result"
    }
   ],
   "source": [
    "genres = data['genre'].unique()\n",
    "len(genres)"
   ]
  },
  {
   "cell_type": "code",
   "execution_count": 85,
   "metadata": {},
   "outputs": [
    {
     "name": "stderr",
     "output_type": "stream",
     "text": [
      "[Parallel(n_jobs=-1)]: Using backend LokyBackend with 4 concurrent workers.\n"
     ]
    },
    {
     "name": "stdout",
     "output_type": "stream",
     "text": [
      "Test accuracy is 0.6261426431854568\n"
     ]
    },
    {
     "name": "stderr",
     "output_type": "stream",
     "text": [
      "[Parallel(n_jobs=-1)]: Done   1 out of   1 | elapsed:   24.0s finished\n"
     ]
    }
   ],
   "source": [
    "classifier_log = LogisticRegression(penalty='l2', solver='lbfgs', multi_class='multinomial', verbose=1, n_jobs=-1)\n",
    "classifier_log.fit(X_train, y_train)\n",
    "prediction = classifier_log.predict(X_test)\n",
    "print('Test accuracy is {}'.format(accuracy_score(y_test, prediction)))"
   ]
  },
  {
   "cell_type": "code",
   "execution_count": 86,
   "metadata": {},
   "outputs": [
    {
     "name": "stdout",
     "output_type": "stream",
     "text": [
      "              precision    recall  f1-score   support\n",
      "\n",
      "      action       0.70      0.58      0.63      3670\n",
      "      comedy       0.62      0.64      0.63      6881\n",
      "       drama       0.60      0.68      0.64      7271\n",
      "      horror       0.64      0.41      0.50      1541\n",
      "\n",
      "    accuracy                           0.63     19363\n",
      "   macro avg       0.64      0.58      0.60     19363\n",
      "weighted avg       0.63      0.63      0.62     19363\n",
      "\n"
     ]
    }
   ],
   "source": [
    "print(classification_report(y_test, prediction, zero_division=1))"
   ]
  },
  {
   "cell_type": "code",
   "execution_count": 87,
   "metadata": {},
   "outputs": [],
   "source": [
    "# pipelines"
   ]
  },
  {
   "cell_type": "code",
   "execution_count": 88,
   "metadata": {},
   "outputs": [],
   "source": [
    "data_x = data[['description_clean']]\n",
    "data_y = data.drop(['description_clean', 'genre_clean', 'target_genre'], axis=1)\n",
    "X_train, X_test, y_train, y_test = train_test_split(data_x, data_y, random_state=42, test_size=0.33, shuffle=True)"
   ]
  },
  {
   "cell_type": "code",
   "execution_count": 89,
   "metadata": {},
   "outputs": [],
   "source": [
    "train_x = [x[0].strip() for x in np.array(X_train).tolist()]\n",
    "test_x = [x[0].strip() for x in np.array(X_test).tolist()]\n",
    "stop_words = stopwords.words('english')"
   ]
  },
  {
   "cell_type": "code",
   "execution_count": 90,
   "metadata": {},
   "outputs": [],
   "source": [
    "pipeline = Pipeline([\n",
    "    ('tfidf', TfidfVectorizer(stop_words=stop_words)),\n",
    "    ('clf', OneVsRestClassifier(LogisticRegression(solver='sag'))),\n",
    "])\n",
    "parameters = {\n",
    "#     'tfidf__max_df': [50, 100,200],\n",
    "    'tfidf__ngram_range': [(1, 1), (1, 2), (1, 3)],\n",
    "    \"clf__estimator__C\": [0.01, 0.1, 1],\n",
    "    \"clf__estimator__class_weight\": ['balanced', None],\n",
    "}\n"
   ]
  },
  {
   "cell_type": "code",
   "execution_count": 91,
   "metadata": {},
   "outputs": [
    {
     "name": "stdout",
     "output_type": "stream",
     "text": [
      "Fitting 3 folds for each of 18 candidates, totalling 54 fits\n"
     ]
    },
    {
     "name": "stderr",
     "output_type": "stream",
     "text": [
      "[Parallel(n_jobs=2)]: Using backend LokyBackend with 2 concurrent workers.\n",
      "[Parallel(n_jobs=2)]: Done  46 tasks      | elapsed:  7.9min\n",
      "[Parallel(n_jobs=2)]: Done  54 out of  54 | elapsed:  9.2min finished\n",
      "C:\\Users\\Juan Capi\\Anaconda3\\envs\\dhdsblend\\lib\\site-packages\\sklearn\\linear_model\\_sag.py:330: ConvergenceWarning: The max_iter was reached which means the coef_ did not converge\n",
      "  \"the coef_ did not converge\", ConvergenceWarning)\n"
     ]
    },
    {
     "data": {
      "text/plain": [
       "GridSearchCV(cv=3,\n",
       "             estimator=Pipeline(steps=[('tfidf',\n",
       "                                        TfidfVectorizer(stop_words=['i', 'me',\n",
       "                                                                    'my',\n",
       "                                                                    'myself',\n",
       "                                                                    'we', 'our',\n",
       "                                                                    'ours',\n",
       "                                                                    'ourselves',\n",
       "                                                                    'you',\n",
       "                                                                    \"you're\",\n",
       "                                                                    \"you've\",\n",
       "                                                                    \"you'll\",\n",
       "                                                                    \"you'd\",\n",
       "                                                                    'your',\n",
       "                                                                    'yours',\n",
       "                                                                    'yourself',\n",
       "                                                                    'yourselves',\n",
       "                                                                    'he', 'him',\n",
       "                                                                    'his',\n",
       "                                                                    'himself',\n",
       "                                                                    'she',\n",
       "                                                                    \"she's\",\n",
       "                                                                    'her',\n",
       "                                                                    'hers',\n",
       "                                                                    'herself',\n",
       "                                                                    'it',\n",
       "                                                                    \"it's\",\n",
       "                                                                    'its',\n",
       "                                                                    'itself', ...])),\n",
       "                                       ('clf',\n",
       "                                        OneVsRestClassifier(estimator=LogisticRegression(solver='sag')))]),\n",
       "             n_jobs=2,\n",
       "             param_grid={'clf__estimator__C': [0.01, 0.1, 1],\n",
       "                         'clf__estimator__class_weight': ['balanced', None],\n",
       "                         'tfidf__ngram_range': [(1, 1), (1, 2), (1, 3)]},\n",
       "             verbose=1)"
      ]
     },
     "execution_count": 91,
     "metadata": {},
     "output_type": "execute_result"
    }
   ],
   "source": [
    "grid = GridSearchCV(\n",
    "    pipeline, parameters, cv=3, n_jobs=2, verbose=1)\n",
    "grid.fit(train_x, y_train)"
   ]
  },
  {
   "cell_type": "code",
   "execution_count": 92,
   "metadata": {},
   "outputs": [
    {
     "name": "stdout",
     "output_type": "stream",
     "text": [
      "Best parameters set:\n"
     ]
    },
    {
     "data": {
      "text/plain": [
       "[('tfidf',\n",
       "  TfidfVectorizer(stop_words=['i', 'me', 'my', 'myself', 'we', 'our', 'ours',\n",
       "                              'ourselves', 'you', \"you're\", \"you've\", \"you'll\",\n",
       "                              \"you'd\", 'your', 'yours', 'yourself', 'yourselves',\n",
       "                              'he', 'him', 'his', 'himself', 'she', \"she's\",\n",
       "                              'her', 'hers', 'herself', 'it', \"it's\", 'its',\n",
       "                              'itself', ...])),\n",
       " ('clf',\n",
       "  OneVsRestClassifier(estimator=LogisticRegression(C=1, class_weight='balanced',\n",
       "                                                   solver='sag')))]"
      ]
     },
     "execution_count": 92,
     "metadata": {},
     "output_type": "execute_result"
    }
   ],
   "source": [
    "print(\"Best parameters set:\")\n",
    "grid.best_estimator_.steps"
   ]
  },
  {
   "cell_type": "code",
   "execution_count": 93,
   "metadata": {},
   "outputs": [
    {
     "name": "stdout",
     "output_type": "stream",
     "text": [
      "Applying best classifier on test data:\n",
      "              precision    recall  f1-score   support\n",
      "\n",
      "       drama       0.64      0.68      0.66      4032\n",
      "      comedy       0.66      0.62      0.64      7549\n",
      "      horror       0.65      0.63      0.64      8027\n",
      "      action       0.52      0.70      0.60      1691\n",
      "\n",
      "    accuracy                           0.64     21299\n",
      "   macro avg       0.62      0.66      0.63     21299\n",
      "weighted avg       0.64      0.64      0.64     21299\n",
      "\n"
     ]
    }
   ],
   "source": [
    "# measuring performance on test set\n",
    "print(\"Applying best classifier on test data:\")\n",
    "predictions = grid.best_estimator_.predict(test_x)\n",
    "\n",
    "print(classification_report(y_test, predictions, target_names=genres))"
   ]
  },
  {
   "cell_type": "code",
   "execution_count": 94,
   "metadata": {},
   "outputs": [
    {
     "name": "stdout",
     "output_type": "stream",
     "text": [
      "Accuracy =  0.6400300483590778\n",
      "\n",
      "\n"
     ]
    }
   ],
   "source": [
    "print(\"Accuracy = \",accuracy_score(y_test,predictions))\n",
    "print(\"\\n\")"
   ]
  },
  {
   "cell_type": "code",
   "execution_count": null,
   "metadata": {},
   "outputs": [],
   "source": []
  }
 ],
 "metadata": {
  "kernelspec": {
   "display_name": "Python 3",
   "language": "python",
   "name": "python3"
  },
  "language_info": {
   "codemirror_mode": {
    "name": "ipython",
    "version": 3
   },
   "file_extension": ".py",
   "mimetype": "text/x-python",
   "name": "python",
   "nbconvert_exporter": "python",
   "pygments_lexer": "ipython3",
   "version": "3.7.9"
  }
 },
 "nbformat": 4,
 "nbformat_minor": 4
}
