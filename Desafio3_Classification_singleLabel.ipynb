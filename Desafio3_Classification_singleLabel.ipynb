{
 "cells": [
  {
   "cell_type": "code",
   "execution_count": null,
   "metadata": {},
   "outputs": [],
   "source": [
    "#Clasificación"
   ]
  },
  {
   "cell_type": "code",
   "execution_count": 2,
   "metadata": {},
   "outputs": [],
   "source": [
    "import pandas as pd\n",
    "import numpy as np\n",
    "import seaborn as sns\n",
    "import matplotlib.pyplot as plt\n",
    "%matplotlib inline\n",
    "from sklearn.model_selection import train_test_split, StratifiedKFold, GridSearchCV, StratifiedShuffleSplit\n",
    "from sklearn.feature_extraction.text import TfidfVectorizer\n",
    "from sklearn.naive_bayes import MultinomialNB\n",
    "from sklearn.metrics import accuracy_score,confusion_matrix, classification_report\n",
    "import unidecode\n",
    "from nltk.corpus import stopwords "
   ]
  },
  {
   "cell_type": "code",
   "execution_count": 2,
   "metadata": {},
   "outputs": [],
   "source": [
    "pd.set_option('display.max_columns', 100) # Para mostrar todas las columnas\n",
    "# pd.set_option('display.max_rows', 100) # Para mostrar todas las filas"
   ]
  },
  {
   "cell_type": "code",
   "execution_count": 3,
   "metadata": {},
   "outputs": [
    {
     "data": {
      "text/html": [
       "<div>\n",
       "<style scoped>\n",
       "    .dataframe tbody tr th:only-of-type {\n",
       "        vertical-align: middle;\n",
       "    }\n",
       "\n",
       "    .dataframe tbody tr th {\n",
       "        vertical-align: top;\n",
       "    }\n",
       "\n",
       "    .dataframe thead th {\n",
       "        text-align: right;\n",
       "    }\n",
       "</style>\n",
       "<table border=\"1\" class=\"dataframe\">\n",
       "  <thead>\n",
       "    <tr style=\"text-align: right;\">\n",
       "      <th></th>\n",
       "      <th>title</th>\n",
       "      <th>description_clean</th>\n",
       "      <th>genre_clean</th>\n",
       "      <th>romance</th>\n",
       "      <th>drama</th>\n",
       "      <th>history</th>\n",
       "      <th>biography</th>\n",
       "      <th>crime</th>\n",
       "      <th>horror</th>\n",
       "      <th>western</th>\n",
       "      <th>...</th>\n",
       "      <th>action</th>\n",
       "      <th>war</th>\n",
       "      <th>scifi</th>\n",
       "      <th>mystery</th>\n",
       "      <th>thriller</th>\n",
       "      <th>sport</th>\n",
       "      <th>musical</th>\n",
       "      <th>music</th>\n",
       "      <th>filmnoir</th>\n",
       "      <th>animation</th>\n",
       "    </tr>\n",
       "  </thead>\n",
       "  <tbody>\n",
       "    <tr>\n",
       "      <th>0</th>\n",
       "      <td>Miss Jerry</td>\n",
       "      <td>the adventures of a female reporter in the 1890s</td>\n",
       "      <td>romance</td>\n",
       "      <td>1</td>\n",
       "      <td>0</td>\n",
       "      <td>0</td>\n",
       "      <td>0</td>\n",
       "      <td>0</td>\n",
       "      <td>0</td>\n",
       "      <td>0</td>\n",
       "      <td>...</td>\n",
       "      <td>0</td>\n",
       "      <td>0</td>\n",
       "      <td>0</td>\n",
       "      <td>0</td>\n",
       "      <td>0</td>\n",
       "      <td>0</td>\n",
       "      <td>0</td>\n",
       "      <td>0</td>\n",
       "      <td>0</td>\n",
       "      <td>0</td>\n",
       "    </tr>\n",
       "    <tr>\n",
       "      <th>1</th>\n",
       "      <td>Cleopatra</td>\n",
       "      <td>the fabled queen of egypts affair with roman g...</td>\n",
       "      <td>drama history</td>\n",
       "      <td>0</td>\n",
       "      <td>1</td>\n",
       "      <td>1</td>\n",
       "      <td>0</td>\n",
       "      <td>0</td>\n",
       "      <td>0</td>\n",
       "      <td>0</td>\n",
       "      <td>...</td>\n",
       "      <td>0</td>\n",
       "      <td>0</td>\n",
       "      <td>0</td>\n",
       "      <td>0</td>\n",
       "      <td>0</td>\n",
       "      <td>0</td>\n",
       "      <td>0</td>\n",
       "      <td>0</td>\n",
       "      <td>0</td>\n",
       "      <td>0</td>\n",
       "    </tr>\n",
       "    <tr>\n",
       "      <th>2</th>\n",
       "      <td>From the Manger to the Cross; or, Jesus of Naz...</td>\n",
       "      <td>an account of the life of jesus christ based o...</td>\n",
       "      <td>biography drama</td>\n",
       "      <td>0</td>\n",
       "      <td>1</td>\n",
       "      <td>0</td>\n",
       "      <td>1</td>\n",
       "      <td>0</td>\n",
       "      <td>0</td>\n",
       "      <td>0</td>\n",
       "      <td>...</td>\n",
       "      <td>0</td>\n",
       "      <td>0</td>\n",
       "      <td>0</td>\n",
       "      <td>0</td>\n",
       "      <td>0</td>\n",
       "      <td>0</td>\n",
       "      <td>0</td>\n",
       "      <td>0</td>\n",
       "      <td>0</td>\n",
       "      <td>0</td>\n",
       "    </tr>\n",
       "    <tr>\n",
       "      <th>3</th>\n",
       "      <td>Amore di madre</td>\n",
       "      <td>john howard payne at his most miserable point ...</td>\n",
       "      <td>drama</td>\n",
       "      <td>0</td>\n",
       "      <td>1</td>\n",
       "      <td>0</td>\n",
       "      <td>0</td>\n",
       "      <td>0</td>\n",
       "      <td>0</td>\n",
       "      <td>0</td>\n",
       "      <td>...</td>\n",
       "      <td>0</td>\n",
       "      <td>0</td>\n",
       "      <td>0</td>\n",
       "      <td>0</td>\n",
       "      <td>0</td>\n",
       "      <td>0</td>\n",
       "      <td>0</td>\n",
       "      <td>0</td>\n",
       "      <td>0</td>\n",
       "      <td>0</td>\n",
       "    </tr>\n",
       "    <tr>\n",
       "      <th>4</th>\n",
       "      <td>Traffic in Souls</td>\n",
       "      <td>a woman with the aid of her police officer swe...</td>\n",
       "      <td>crime drama</td>\n",
       "      <td>0</td>\n",
       "      <td>1</td>\n",
       "      <td>0</td>\n",
       "      <td>0</td>\n",
       "      <td>1</td>\n",
       "      <td>0</td>\n",
       "      <td>0</td>\n",
       "      <td>...</td>\n",
       "      <td>0</td>\n",
       "      <td>0</td>\n",
       "      <td>0</td>\n",
       "      <td>0</td>\n",
       "      <td>0</td>\n",
       "      <td>0</td>\n",
       "      <td>0</td>\n",
       "      <td>0</td>\n",
       "      <td>0</td>\n",
       "      <td>0</td>\n",
       "    </tr>\n",
       "  </tbody>\n",
       "</table>\n",
       "<p>5 rows × 24 columns</p>\n",
       "</div>"
      ],
      "text/plain": [
       "                                               title  \\\n",
       "0                                         Miss Jerry   \n",
       "1                                          Cleopatra   \n",
       "2  From the Manger to the Cross; or, Jesus of Naz...   \n",
       "3                                     Amore di madre   \n",
       "4                                   Traffic in Souls   \n",
       "\n",
       "                                   description_clean      genre_clean  \\\n",
       "0   the adventures of a female reporter in the 1890s          romance   \n",
       "1  the fabled queen of egypts affair with roman g...    drama history   \n",
       "2  an account of the life of jesus christ based o...  biography drama   \n",
       "3  john howard payne at his most miserable point ...            drama   \n",
       "4  a woman with the aid of her police officer swe...      crime drama   \n",
       "\n",
       "   romance  drama  history  biography  crime  horror  western  ...  action  \\\n",
       "0        1      0        0          0      0       0        0  ...       0   \n",
       "1        0      1        1          0      0       0        0  ...       0   \n",
       "2        0      1        0          1      0       0        0  ...       0   \n",
       "3        0      1        0          0      0       0        0  ...       0   \n",
       "4        0      1        0          0      1       0        0  ...       0   \n",
       "\n",
       "   war  scifi  mystery  thriller  sport  musical  music  filmnoir  animation  \n",
       "0    0      0        0         0      0        0      0         0          0  \n",
       "1    0      0        0         0      0        0      0         0          0  \n",
       "2    0      0        0         0      0        0      0         0          0  \n",
       "3    0      0        0         0      0        0      0         0          0  \n",
       "4    0      0        0         0      0        0      0         0          0  \n",
       "\n",
       "[5 rows x 24 columns]"
      ]
     },
     "execution_count": 3,
     "metadata": {},
     "output_type": "execute_result"
    }
   ],
   "source": [
    "data = pd.read_csv(\"Data/movies_usa_en.csv\", low_memory=False)\n",
    "data.head()"
   ]
  },
  {
   "cell_type": "code",
   "execution_count": 4,
   "metadata": {},
   "outputs": [
    {
     "data": {
      "text/plain": [
       "drama                       3679\n",
       "comedy                      2679\n",
       "comedy drama                1466\n",
       "drama romance               1387\n",
       "horror                      1321\n",
       "                            ... \n",
       "family music romance           1\n",
       "crime mystery war              1\n",
       "drama action comedy            1\n",
       "adventure family sport         1\n",
       "romance thriller western       1\n",
       "Name: genre_clean, Length: 962, dtype: int64"
      ]
     },
     "execution_count": 4,
     "metadata": {},
     "output_type": "execute_result"
    }
   ],
   "source": [
    "data['genre_clean'].value_counts()\n"
   ]
  },
  {
   "cell_type": "code",
   "execution_count": 4,
   "metadata": {},
   "outputs": [
    {
     "data": {
      "text/plain": [
       "(38075, 24)"
      ]
     },
     "execution_count": 4,
     "metadata": {},
     "output_type": "execute_result"
    }
   ],
   "source": [
    "data.shape"
   ]
  },
  {
   "cell_type": "code",
   "execution_count": 5,
   "metadata": {},
   "outputs": [
    {
     "data": {
      "text/plain": [
       "Index(['title', 'description_clean', 'genre_clean', 'romance', 'drama',\n",
       "       'history', 'biography', 'crime', 'horror', 'western', 'fantasy',\n",
       "       'comedy', 'family', 'adventure', 'action', 'war', 'scifi', 'mystery',\n",
       "       'thriller', 'sport', 'musical', 'music', 'filmnoir', 'animation'],\n",
       "      dtype='object')"
      ]
     },
     "execution_count": 5,
     "metadata": {},
     "output_type": "execute_result"
    }
   ],
   "source": [
    "data.columns"
   ]
  },
  {
   "cell_type": "code",
   "execution_count": 6,
   "metadata": {},
   "outputs": [],
   "source": [
    "data.drop(['romance', 'drama',\n",
    "       'history', 'biography', 'crime', 'horror', 'western', 'fantasy',\n",
    "       'comedy', 'family', 'adventure', 'action', 'war', 'scifi', 'mystery',\n",
    "       'thriller', 'sport', 'musical', 'music', 'filmnoir', 'animation'], inplace=True, axis=1)"
   ]
  },
  {
   "cell_type": "code",
   "execution_count": 7,
   "metadata": {},
   "outputs": [
    {
     "data": {
      "text/plain": [
       "(38075, 3)"
      ]
     },
     "execution_count": 7,
     "metadata": {},
     "output_type": "execute_result"
    }
   ],
   "source": [
    "data.shape"
   ]
  },
  {
   "cell_type": "code",
   "execution_count": 8,
   "metadata": {},
   "outputs": [],
   "source": [
    "data['Genre'] = data['genre_clean'].str.split(\" \")"
   ]
  },
  {
   "cell_type": "code",
   "execution_count": 9,
   "metadata": {},
   "outputs": [
    {
     "data": {
      "text/html": [
       "<div>\n",
       "<style scoped>\n",
       "    .dataframe tbody tr th:only-of-type {\n",
       "        vertical-align: middle;\n",
       "    }\n",
       "\n",
       "    .dataframe tbody tr th {\n",
       "        vertical-align: top;\n",
       "    }\n",
       "\n",
       "    .dataframe thead th {\n",
       "        text-align: right;\n",
       "    }\n",
       "</style>\n",
       "<table border=\"1\" class=\"dataframe\">\n",
       "  <thead>\n",
       "    <tr style=\"text-align: right;\">\n",
       "      <th></th>\n",
       "      <th>title</th>\n",
       "      <th>description_clean</th>\n",
       "      <th>genre_clean</th>\n",
       "      <th>Genre</th>\n",
       "    </tr>\n",
       "  </thead>\n",
       "  <tbody>\n",
       "    <tr>\n",
       "      <th>0</th>\n",
       "      <td>Miss Jerry</td>\n",
       "      <td>the adventures of a female reporter in the 1890s</td>\n",
       "      <td>romance</td>\n",
       "      <td>[romance]</td>\n",
       "    </tr>\n",
       "    <tr>\n",
       "      <th>1</th>\n",
       "      <td>Cleopatra</td>\n",
       "      <td>the fabled queen of egypts affair with roman g...</td>\n",
       "      <td>drama history</td>\n",
       "      <td>[drama, history]</td>\n",
       "    </tr>\n",
       "    <tr>\n",
       "      <th>2</th>\n",
       "      <td>From the Manger to the Cross; or, Jesus of Naz...</td>\n",
       "      <td>an account of the life of jesus christ based o...</td>\n",
       "      <td>biography drama</td>\n",
       "      <td>[biography, drama]</td>\n",
       "    </tr>\n",
       "    <tr>\n",
       "      <th>3</th>\n",
       "      <td>Amore di madre</td>\n",
       "      <td>john howard payne at his most miserable point ...</td>\n",
       "      <td>drama</td>\n",
       "      <td>[drama]</td>\n",
       "    </tr>\n",
       "    <tr>\n",
       "      <th>4</th>\n",
       "      <td>Traffic in Souls</td>\n",
       "      <td>a woman with the aid of her police officer swe...</td>\n",
       "      <td>crime drama</td>\n",
       "      <td>[crime, drama]</td>\n",
       "    </tr>\n",
       "  </tbody>\n",
       "</table>\n",
       "</div>"
      ],
      "text/plain": [
       "                                               title  \\\n",
       "0                                         Miss Jerry   \n",
       "1                                          Cleopatra   \n",
       "2  From the Manger to the Cross; or, Jesus of Naz...   \n",
       "3                                     Amore di madre   \n",
       "4                                   Traffic in Souls   \n",
       "\n",
       "                                   description_clean      genre_clean  \\\n",
       "0   the adventures of a female reporter in the 1890s          romance   \n",
       "1  the fabled queen of egypts affair with roman g...    drama history   \n",
       "2  an account of the life of jesus christ based o...  biography drama   \n",
       "3  john howard payne at his most miserable point ...            drama   \n",
       "4  a woman with the aid of her police officer swe...      crime drama   \n",
       "\n",
       "                Genre  \n",
       "0           [romance]  \n",
       "1    [drama, history]  \n",
       "2  [biography, drama]  \n",
       "3             [drama]  \n",
       "4      [crime, drama]  "
      ]
     },
     "execution_count": 9,
     "metadata": {},
     "output_type": "execute_result"
    }
   ],
   "source": [
    "data.head()\n",
    "\n"
   ]
  },
  {
   "cell_type": "code",
   "execution_count": 10,
   "metadata": {},
   "outputs": [],
   "source": [
    "data['Genre_2'] = data['Genre'].map(lambda x: x[0])\n"
   ]
  },
  {
   "cell_type": "code",
   "execution_count": 11,
   "metadata": {},
   "outputs": [
    {
     "data": {
      "text/html": [
       "<div>\n",
       "<style scoped>\n",
       "    .dataframe tbody tr th:only-of-type {\n",
       "        vertical-align: middle;\n",
       "    }\n",
       "\n",
       "    .dataframe tbody tr th {\n",
       "        vertical-align: top;\n",
       "    }\n",
       "\n",
       "    .dataframe thead th {\n",
       "        text-align: right;\n",
       "    }\n",
       "</style>\n",
       "<table border=\"1\" class=\"dataframe\">\n",
       "  <thead>\n",
       "    <tr style=\"text-align: right;\">\n",
       "      <th></th>\n",
       "      <th>title</th>\n",
       "      <th>description_clean</th>\n",
       "      <th>genre_clean</th>\n",
       "      <th>Genre</th>\n",
       "      <th>Genre_2</th>\n",
       "    </tr>\n",
       "  </thead>\n",
       "  <tbody>\n",
       "    <tr>\n",
       "      <th>3993</th>\n",
       "      <td>Prigionieri dell'oceano</td>\n",
       "      <td>several survivors of a torpedoed merchant ship...</td>\n",
       "      <td>drama war</td>\n",
       "      <td>[drama, war]</td>\n",
       "      <td>drama</td>\n",
       "    </tr>\n",
       "    <tr>\n",
       "      <th>14630</th>\n",
       "      <td>Tripwire: sul filo del rasoio</td>\n",
       "      <td>a terrorist warner and an fbi agent knox fight...</td>\n",
       "      <td>action drama thriller</td>\n",
       "      <td>[action, drama, thriller]</td>\n",
       "      <td>action</td>\n",
       "    </tr>\n",
       "    <tr>\n",
       "      <th>11072</th>\n",
       "      <td>L'eroe della strada</td>\n",
       "      <td>the adventures of a drifter turned illegal pri...</td>\n",
       "      <td>crime drama sport</td>\n",
       "      <td>[crime, drama, sport]</td>\n",
       "      <td>crime</td>\n",
       "    </tr>\n",
       "    <tr>\n",
       "      <th>7086</th>\n",
       "      <td>Una pistola per un vile</td>\n",
       "      <td>after the death of a rancher his three sons ru...</td>\n",
       "      <td>adventure drama romance</td>\n",
       "      <td>[adventure, drama, romance]</td>\n",
       "      <td>adventure</td>\n",
       "    </tr>\n",
       "    <tr>\n",
       "      <th>28086</th>\n",
       "      <td>Aakrosh</td>\n",
       "      <td>the central bureau of investigation deputes tw...</td>\n",
       "      <td>action crime thriller</td>\n",
       "      <td>[action, crime, thriller]</td>\n",
       "      <td>action</td>\n",
       "    </tr>\n",
       "  </tbody>\n",
       "</table>\n",
       "</div>"
      ],
      "text/plain": [
       "                               title  \\\n",
       "3993         Prigionieri dell'oceano   \n",
       "14630  Tripwire: sul filo del rasoio   \n",
       "11072            L'eroe della strada   \n",
       "7086         Una pistola per un vile   \n",
       "28086                        Aakrosh   \n",
       "\n",
       "                                       description_clean  \\\n",
       "3993   several survivors of a torpedoed merchant ship...   \n",
       "14630  a terrorist warner and an fbi agent knox fight...   \n",
       "11072  the adventures of a drifter turned illegal pri...   \n",
       "7086   after the death of a rancher his three sons ru...   \n",
       "28086  the central bureau of investigation deputes tw...   \n",
       "\n",
       "                   genre_clean                        Genre    Genre_2  \n",
       "3993                 drama war                 [drama, war]      drama  \n",
       "14630    action drama thriller    [action, drama, thriller]     action  \n",
       "11072        crime drama sport        [crime, drama, sport]      crime  \n",
       "7086   adventure drama romance  [adventure, drama, romance]  adventure  \n",
       "28086    action crime thriller    [action, crime, thriller]     action  "
      ]
     },
     "execution_count": 11,
     "metadata": {},
     "output_type": "execute_result"
    }
   ],
   "source": [
    "data.sample(5)"
   ]
  },
  {
   "cell_type": "markdown",
   "metadata": {},
   "source": [
    "### Split en train y test y vectorizacion de texto"
   ]
  },
  {
   "cell_type": "code",
   "execution_count": 12,
   "metadata": {},
   "outputs": [
    {
     "data": {
      "text/plain": [
       "array(['romance', 'drama', 'biography', 'crime', 'western', 'fantasy',\n",
       "       'comedy', 'family', 'adventure', 'action', 'mystery', 'history',\n",
       "       'scifi', 'musical', 'music', 'horror', 'thriller', 'animation',\n",
       "       'war', 'filmnoir', 'sport'], dtype=object)"
      ]
     },
     "execution_count": 12,
     "metadata": {},
     "output_type": "execute_result"
    }
   ],
   "source": [
    "genres = data['Genre_2'].unique()\n",
    "genres"
   ]
  },
  {
   "cell_type": "code",
   "execution_count": 13,
   "metadata": {},
   "outputs": [],
   "source": [
    "from sklearn.preprocessing import OrdinalEncoder\n",
    "#Cuando le paso las categorías como paramétro me tira error The truth value of an array with more than one element is ambiguous. Use a.any() or a.all()\n",
    "ord_enc = OrdinalEncoder()\n",
    "data[\"target_genre\"] = ord_enc.fit_transform(data[[\"Genre_2\"]])\n"
   ]
  },
  {
   "cell_type": "code",
   "execution_count": 14,
   "metadata": {},
   "outputs": [
    {
     "data": {
      "text/html": [
       "<div>\n",
       "<style scoped>\n",
       "    .dataframe tbody tr th:only-of-type {\n",
       "        vertical-align: middle;\n",
       "    }\n",
       "\n",
       "    .dataframe tbody tr th {\n",
       "        vertical-align: top;\n",
       "    }\n",
       "\n",
       "    .dataframe thead th {\n",
       "        text-align: right;\n",
       "    }\n",
       "</style>\n",
       "<table border=\"1\" class=\"dataframe\">\n",
       "  <thead>\n",
       "    <tr style=\"text-align: right;\">\n",
       "      <th></th>\n",
       "      <th>title</th>\n",
       "      <th>description_clean</th>\n",
       "      <th>genre_clean</th>\n",
       "      <th>Genre</th>\n",
       "      <th>Genre_2</th>\n",
       "      <th>target_genre</th>\n",
       "    </tr>\n",
       "  </thead>\n",
       "  <tbody>\n",
       "    <tr>\n",
       "      <th>0</th>\n",
       "      <td>Miss Jerry</td>\n",
       "      <td>the adventures of a female reporter in the 1890s</td>\n",
       "      <td>romance</td>\n",
       "      <td>[romance]</td>\n",
       "      <td>romance</td>\n",
       "      <td>15.0</td>\n",
       "    </tr>\n",
       "    <tr>\n",
       "      <th>1</th>\n",
       "      <td>Cleopatra</td>\n",
       "      <td>the fabled queen of egypts affair with roman g...</td>\n",
       "      <td>drama history</td>\n",
       "      <td>[drama, history]</td>\n",
       "      <td>drama</td>\n",
       "      <td>6.0</td>\n",
       "    </tr>\n",
       "    <tr>\n",
       "      <th>2</th>\n",
       "      <td>From the Manger to the Cross; or, Jesus of Naz...</td>\n",
       "      <td>an account of the life of jesus christ based o...</td>\n",
       "      <td>biography drama</td>\n",
       "      <td>[biography, drama]</td>\n",
       "      <td>biography</td>\n",
       "      <td>3.0</td>\n",
       "    </tr>\n",
       "    <tr>\n",
       "      <th>3</th>\n",
       "      <td>Amore di madre</td>\n",
       "      <td>john howard payne at his most miserable point ...</td>\n",
       "      <td>drama</td>\n",
       "      <td>[drama]</td>\n",
       "      <td>drama</td>\n",
       "      <td>6.0</td>\n",
       "    </tr>\n",
       "    <tr>\n",
       "      <th>4</th>\n",
       "      <td>Traffic in Souls</td>\n",
       "      <td>a woman with the aid of her police officer swe...</td>\n",
       "      <td>crime drama</td>\n",
       "      <td>[crime, drama]</td>\n",
       "      <td>crime</td>\n",
       "      <td>5.0</td>\n",
       "    </tr>\n",
       "  </tbody>\n",
       "</table>\n",
       "</div>"
      ],
      "text/plain": [
       "                                               title  \\\n",
       "0                                         Miss Jerry   \n",
       "1                                          Cleopatra   \n",
       "2  From the Manger to the Cross; or, Jesus of Naz...   \n",
       "3                                     Amore di madre   \n",
       "4                                   Traffic in Souls   \n",
       "\n",
       "                                   description_clean      genre_clean  \\\n",
       "0   the adventures of a female reporter in the 1890s          romance   \n",
       "1  the fabled queen of egypts affair with roman g...    drama history   \n",
       "2  an account of the life of jesus christ based o...  biography drama   \n",
       "3  john howard payne at his most miserable point ...            drama   \n",
       "4  a woman with the aid of her police officer swe...      crime drama   \n",
       "\n",
       "                Genre    Genre_2  target_genre  \n",
       "0           [romance]    romance          15.0  \n",
       "1    [drama, history]      drama           6.0  \n",
       "2  [biography, drama]  biography           3.0  \n",
       "3             [drama]      drama           6.0  \n",
       "4      [crime, drama]      crime           5.0  "
      ]
     },
     "execution_count": 14,
     "metadata": {},
     "output_type": "execute_result"
    }
   ],
   "source": [
    "data.head()"
   ]
  },
  {
   "cell_type": "code",
   "execution_count": 15,
   "metadata": {},
   "outputs": [],
   "source": [
    "train, test = train_test_split(data, random_state=42, test_size=0.30, shuffle=True)\n",
    "train_text = train['description_clean']\n",
    "test_text = test['description_clean']"
   ]
  },
  {
   "cell_type": "code",
   "execution_count": null,
   "metadata": {},
   "outputs": [],
   "source": []
  },
  {
   "cell_type": "code",
   "execution_count": 16,
   "metadata": {},
   "outputs": [
    {
     "data": {
      "text/plain": [
       "TfidfVectorizer(ngram_range=(1, 3),\n",
       "                stop_words=['i', 'me', 'my', 'myself', 'we', 'our', 'ours',\n",
       "                            'ourselves', 'you', \"you're\", \"you've\", \"you'll\",\n",
       "                            \"you'd\", 'your', 'yours', 'yourself', 'yourselves',\n",
       "                            'he', 'him', 'his', 'himself', 'she', \"she's\",\n",
       "                            'her', 'hers', 'herself', 'it', \"it's\", 'its',\n",
       "                            'itself', ...],\n",
       "                strip_accents='unicode')"
      ]
     },
     "execution_count": 16,
     "metadata": {},
     "output_type": "execute_result"
    }
   ],
   "source": [
    "stop_words = stopwords.words('english')\n",
    "vectorizer = TfidfVectorizer(strip_accents='unicode', analyzer='word', ngram_range=(1,3), norm='l2', stop_words=stop_words)\n",
    "vectorizer.fit(train_text)"
   ]
  },
  {
   "cell_type": "code",
   "execution_count": 17,
   "metadata": {},
   "outputs": [],
   "source": [
    "X_train = vectorizer.transform(train_text)\n",
    "X_test = vectorizer.transform(test_text)\n",
    "y_train = train['target_genre']\n",
    "y_test = test['target_genre']"
   ]
  },
  {
   "cell_type": "markdown",
   "metadata": {},
   "source": [
    "### Pipeline de clasificación"
   ]
  },
  {
   "cell_type": "code",
   "execution_count": 18,
   "metadata": {},
   "outputs": [],
   "source": [
    "from sklearn.linear_model import LogisticRegression\n",
    "from sklearn.pipeline import Pipeline\n",
    "from sklearn.metrics import accuracy_score\n",
    "from sklearn.naive_bayes import MultinomialNB"
   ]
  },
  {
   "cell_type": "code",
   "execution_count": null,
   "metadata": {},
   "outputs": [],
   "source": []
  },
  {
   "cell_type": "code",
   "execution_count": null,
   "metadata": {},
   "outputs": [],
   "source": [
    "len(genres)"
   ]
  },
  {
   "cell_type": "code",
   "execution_count": 19,
   "metadata": {},
   "outputs": [
    {
     "name": "stdout",
     "output_type": "stream",
     "text": [
      "Test accuracy is 0.4573229449356561\n"
     ]
    }
   ],
   "source": [
    "classifier_log = LogisticRegression(solver='sag')\n",
    "classifier_log.fit(X_train, y_train)\n",
    "prediction = classifier_log.predict(X_test)\n",
    "print('Test accuracy is {}'.format(accuracy_score(y_test, prediction)))"
   ]
  },
  {
   "cell_type": "code",
   "execution_count": 20,
   "metadata": {},
   "outputs": [
    {
     "name": "stdout",
     "output_type": "stream",
     "text": [
      "              precision    recall  f1-score   support\n",
      "\n",
      "         0.0       0.47      0.52      0.49      1932\n",
      "         1.0       0.47      0.01      0.03       487\n",
      "         2.0       1.00      0.00      0.00       138\n",
      "         3.0       0.60      0.04      0.07       233\n",
      "         4.0       0.49      0.66      0.56      3237\n",
      "         5.0       0.41      0.19      0.26       833\n",
      "         6.0       0.41      0.58      0.48      2747\n",
      "         7.0       1.00      0.00      0.00        83\n",
      "         8.0       1.00      0.00      0.00        71\n",
      "         9.0       1.00      0.00      0.00        14\n",
      "        10.0       1.00      0.00      0.00        10\n",
      "        11.0       0.52      0.37      0.43       894\n",
      "        12.0       1.00      0.00      0.00        10\n",
      "        13.0       1.00      0.00      0.00        66\n",
      "        14.0       1.00      0.00      0.00        90\n",
      "        15.0       1.00      0.00      0.00       139\n",
      "        16.0       1.00      0.00      0.00        71\n",
      "        17.0       1.00      0.00      0.00         3\n",
      "        18.0       1.00      0.00      0.00       229\n",
      "        19.0       1.00      0.00      0.00         8\n",
      "        20.0       1.00      0.00      0.00       128\n",
      "\n",
      "    accuracy                           0.46     11423\n",
      "   macro avg       0.83      0.11      0.11     11423\n",
      "weighted avg       0.51      0.46      0.41     11423\n",
      "\n"
     ]
    }
   ],
   "source": [
    "print(classification_report(y_test, prediction, zero_division=1))"
   ]
  },
  {
   "cell_type": "code",
   "execution_count": 21,
   "metadata": {},
   "outputs": [],
   "source": [
    "from sklearn.naive_bayes import MultinomialNB"
   ]
  },
  {
   "cell_type": "code",
   "execution_count": null,
   "metadata": {},
   "outputs": [],
   "source": [
    "# NBC=MultinomialNB();\n",
    "\n",
    "# NBC.fit(X_train, y_train);\n",
    "\n",
    "# test_pred = NBC.predict(X_test.todense());"
   ]
  },
  {
   "cell_type": "code",
   "execution_count": null,
   "metadata": {},
   "outputs": [],
   "source": [
    "# print('Test accuracy is {}'.format(accuracy_score(y_test, test_pred)))"
   ]
  },
  {
   "cell_type": "code",
   "execution_count": null,
   "metadata": {},
   "outputs": [],
   "source": [
    "# # calculating test accuracy\n",
    "\n",
    "# print(classification_report(y_test, test_pred, zero_division=1))"
   ]
  },
  {
   "cell_type": "code",
   "execution_count": null,
   "metadata": {},
   "outputs": [],
   "source": []
  }
 ],
 "metadata": {
  "kernelspec": {
   "display_name": "Python 3",
   "language": "python",
   "name": "python3"
  },
  "language_info": {
   "codemirror_mode": {
    "name": "ipython",
    "version": 3
   },
   "file_extension": ".py",
   "mimetype": "text/x-python",
   "name": "python",
   "nbconvert_exporter": "python",
   "pygments_lexer": "ipython3",
   "version": "3.7.9"
  }
 },
 "nbformat": 4,
 "nbformat_minor": 4
}
