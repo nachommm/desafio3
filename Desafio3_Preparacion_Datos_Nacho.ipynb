{
 "cells": [
  {
   "cell_type": "code",
   "execution_count": 1,
   "metadata": {},
   "outputs": [],
   "source": [
    "import pandas as pd\n",
    "import numpy as np\n",
    "from langdetect import detect\n",
    "import re\n",
    "pd.options.mode.chained_assignment = None"
   ]
  },
  {
   "cell_type": "code",
   "execution_count": 2,
   "metadata": {},
   "outputs": [],
   "source": [
    "pd.set_option('display.max_columns', 100) # Para mostrar todas las columnas\n",
    "# pd.set_option('display.max_rows', 100) # Para mostrar todas las filas"
   ]
  },
  {
   "cell_type": "code",
   "execution_count": 3,
   "metadata": {},
   "outputs": [],
   "source": [
    "data_raw = pd.read_csv(\"Data/IMDb movies.csv\", low_memory=False)"
   ]
  },
  {
   "cell_type": "code",
   "execution_count": 4,
   "metadata": {},
   "outputs": [
    {
     "data": {
      "text/html": [
       "<div>\n",
       "<style scoped>\n",
       "    .dataframe tbody tr th:only-of-type {\n",
       "        vertical-align: middle;\n",
       "    }\n",
       "\n",
       "    .dataframe tbody tr th {\n",
       "        vertical-align: top;\n",
       "    }\n",
       "\n",
       "    .dataframe thead th {\n",
       "        text-align: right;\n",
       "    }\n",
       "</style>\n",
       "<table border=\"1\" class=\"dataframe\">\n",
       "  <thead>\n",
       "    <tr style=\"text-align: right;\">\n",
       "      <th></th>\n",
       "      <th>imdb_title_id</th>\n",
       "      <th>title</th>\n",
       "      <th>original_title</th>\n",
       "      <th>year</th>\n",
       "      <th>date_published</th>\n",
       "      <th>genre</th>\n",
       "      <th>duration</th>\n",
       "      <th>country</th>\n",
       "      <th>language</th>\n",
       "      <th>director</th>\n",
       "      <th>writer</th>\n",
       "      <th>production_company</th>\n",
       "      <th>actors</th>\n",
       "      <th>description</th>\n",
       "      <th>avg_vote</th>\n",
       "      <th>votes</th>\n",
       "      <th>budget</th>\n",
       "      <th>usa_gross_income</th>\n",
       "      <th>worlwide_gross_income</th>\n",
       "      <th>metascore</th>\n",
       "      <th>reviews_from_users</th>\n",
       "      <th>reviews_from_critics</th>\n",
       "    </tr>\n",
       "  </thead>\n",
       "  <tbody>\n",
       "    <tr>\n",
       "      <th>0</th>\n",
       "      <td>tt0000009</td>\n",
       "      <td>Miss Jerry</td>\n",
       "      <td>Miss Jerry</td>\n",
       "      <td>1894</td>\n",
       "      <td>1894-10-09</td>\n",
       "      <td>Romance</td>\n",
       "      <td>45</td>\n",
       "      <td>USA</td>\n",
       "      <td>None</td>\n",
       "      <td>Alexander Black</td>\n",
       "      <td>Alexander Black</td>\n",
       "      <td>Alexander Black Photoplays</td>\n",
       "      <td>Blanche Bayliss, William Courtenay, Chauncey D...</td>\n",
       "      <td>The adventures of a female reporter in the 1890s.</td>\n",
       "      <td>5.9</td>\n",
       "      <td>154</td>\n",
       "      <td>NaN</td>\n",
       "      <td>NaN</td>\n",
       "      <td>NaN</td>\n",
       "      <td>NaN</td>\n",
       "      <td>1.0</td>\n",
       "      <td>2.0</td>\n",
       "    </tr>\n",
       "    <tr>\n",
       "      <th>1</th>\n",
       "      <td>tt0000574</td>\n",
       "      <td>The Story of the Kelly Gang</td>\n",
       "      <td>The Story of the Kelly Gang</td>\n",
       "      <td>1906</td>\n",
       "      <td>1906-12-26</td>\n",
       "      <td>Biography, Crime, Drama</td>\n",
       "      <td>70</td>\n",
       "      <td>Australia</td>\n",
       "      <td>None</td>\n",
       "      <td>Charles Tait</td>\n",
       "      <td>Charles Tait</td>\n",
       "      <td>J. and N. Tait</td>\n",
       "      <td>Elizabeth Tait, John Tait, Norman Campbell, Be...</td>\n",
       "      <td>True story of notorious Australian outlaw Ned ...</td>\n",
       "      <td>6.1</td>\n",
       "      <td>589</td>\n",
       "      <td>$ 2250</td>\n",
       "      <td>NaN</td>\n",
       "      <td>NaN</td>\n",
       "      <td>NaN</td>\n",
       "      <td>7.0</td>\n",
       "      <td>7.0</td>\n",
       "    </tr>\n",
       "    <tr>\n",
       "      <th>2</th>\n",
       "      <td>tt0001892</td>\n",
       "      <td>Den sorte drøm</td>\n",
       "      <td>Den sorte drøm</td>\n",
       "      <td>1911</td>\n",
       "      <td>1911-08-19</td>\n",
       "      <td>Drama</td>\n",
       "      <td>53</td>\n",
       "      <td>Germany, Denmark</td>\n",
       "      <td>NaN</td>\n",
       "      <td>Urban Gad</td>\n",
       "      <td>Urban Gad, Gebhard Schätzler-Perasini</td>\n",
       "      <td>Fotorama</td>\n",
       "      <td>Asta Nielsen, Valdemar Psilander, Gunnar Helse...</td>\n",
       "      <td>Two men of high rank are both wooing the beaut...</td>\n",
       "      <td>5.8</td>\n",
       "      <td>188</td>\n",
       "      <td>NaN</td>\n",
       "      <td>NaN</td>\n",
       "      <td>NaN</td>\n",
       "      <td>NaN</td>\n",
       "      <td>5.0</td>\n",
       "      <td>2.0</td>\n",
       "    </tr>\n",
       "    <tr>\n",
       "      <th>3</th>\n",
       "      <td>tt0002101</td>\n",
       "      <td>Cleopatra</td>\n",
       "      <td>Cleopatra</td>\n",
       "      <td>1912</td>\n",
       "      <td>1912-11-13</td>\n",
       "      <td>Drama, History</td>\n",
       "      <td>100</td>\n",
       "      <td>USA</td>\n",
       "      <td>English</td>\n",
       "      <td>Charles L. Gaskill</td>\n",
       "      <td>Victorien Sardou</td>\n",
       "      <td>Helen Gardner Picture Players</td>\n",
       "      <td>Helen Gardner, Pearl Sindelar, Miss Fielding, ...</td>\n",
       "      <td>The fabled queen of Egypt's affair with Roman ...</td>\n",
       "      <td>5.2</td>\n",
       "      <td>446</td>\n",
       "      <td>$ 45000</td>\n",
       "      <td>NaN</td>\n",
       "      <td>NaN</td>\n",
       "      <td>NaN</td>\n",
       "      <td>25.0</td>\n",
       "      <td>3.0</td>\n",
       "    </tr>\n",
       "    <tr>\n",
       "      <th>4</th>\n",
       "      <td>tt0002130</td>\n",
       "      <td>L'Inferno</td>\n",
       "      <td>L'Inferno</td>\n",
       "      <td>1911</td>\n",
       "      <td>1911-03-06</td>\n",
       "      <td>Adventure, Drama, Fantasy</td>\n",
       "      <td>68</td>\n",
       "      <td>Italy</td>\n",
       "      <td>Italian</td>\n",
       "      <td>Francesco Bertolini, Adolfo Padovan</td>\n",
       "      <td>Dante Alighieri</td>\n",
       "      <td>Milano Film</td>\n",
       "      <td>Salvatore Papa, Arturo Pirovano, Giuseppe de L...</td>\n",
       "      <td>Loosely adapted from Dante's Divine Comedy and...</td>\n",
       "      <td>7.0</td>\n",
       "      <td>2237</td>\n",
       "      <td>NaN</td>\n",
       "      <td>NaN</td>\n",
       "      <td>NaN</td>\n",
       "      <td>NaN</td>\n",
       "      <td>31.0</td>\n",
       "      <td>14.0</td>\n",
       "    </tr>\n",
       "  </tbody>\n",
       "</table>\n",
       "</div>"
      ],
      "text/plain": [
       "  imdb_title_id                        title               original_title  \\\n",
       "0     tt0000009                   Miss Jerry                   Miss Jerry   \n",
       "1     tt0000574  The Story of the Kelly Gang  The Story of the Kelly Gang   \n",
       "2     tt0001892               Den sorte drøm               Den sorte drøm   \n",
       "3     tt0002101                    Cleopatra                    Cleopatra   \n",
       "4     tt0002130                    L'Inferno                    L'Inferno   \n",
       "\n",
       "   year date_published                      genre  duration           country  \\\n",
       "0  1894     1894-10-09                    Romance        45               USA   \n",
       "1  1906     1906-12-26    Biography, Crime, Drama        70         Australia   \n",
       "2  1911     1911-08-19                      Drama        53  Germany, Denmark   \n",
       "3  1912     1912-11-13             Drama, History       100               USA   \n",
       "4  1911     1911-03-06  Adventure, Drama, Fantasy        68             Italy   \n",
       "\n",
       "  language                             director  \\\n",
       "0     None                      Alexander Black   \n",
       "1     None                         Charles Tait   \n",
       "2      NaN                            Urban Gad   \n",
       "3  English                   Charles L. Gaskill   \n",
       "4  Italian  Francesco Bertolini, Adolfo Padovan   \n",
       "\n",
       "                                  writer             production_company  \\\n",
       "0                        Alexander Black     Alexander Black Photoplays   \n",
       "1                           Charles Tait                 J. and N. Tait   \n",
       "2  Urban Gad, Gebhard Schätzler-Perasini                       Fotorama   \n",
       "3                       Victorien Sardou  Helen Gardner Picture Players   \n",
       "4                        Dante Alighieri                    Milano Film   \n",
       "\n",
       "                                              actors  \\\n",
       "0  Blanche Bayliss, William Courtenay, Chauncey D...   \n",
       "1  Elizabeth Tait, John Tait, Norman Campbell, Be...   \n",
       "2  Asta Nielsen, Valdemar Psilander, Gunnar Helse...   \n",
       "3  Helen Gardner, Pearl Sindelar, Miss Fielding, ...   \n",
       "4  Salvatore Papa, Arturo Pirovano, Giuseppe de L...   \n",
       "\n",
       "                                         description  avg_vote  votes  \\\n",
       "0  The adventures of a female reporter in the 1890s.       5.9    154   \n",
       "1  True story of notorious Australian outlaw Ned ...       6.1    589   \n",
       "2  Two men of high rank are both wooing the beaut...       5.8    188   \n",
       "3  The fabled queen of Egypt's affair with Roman ...       5.2    446   \n",
       "4  Loosely adapted from Dante's Divine Comedy and...       7.0   2237   \n",
       "\n",
       "    budget usa_gross_income worlwide_gross_income  metascore  \\\n",
       "0      NaN              NaN                   NaN        NaN   \n",
       "1   $ 2250              NaN                   NaN        NaN   \n",
       "2      NaN              NaN                   NaN        NaN   \n",
       "3  $ 45000              NaN                   NaN        NaN   \n",
       "4      NaN              NaN                   NaN        NaN   \n",
       "\n",
       "   reviews_from_users  reviews_from_critics  \n",
       "0                 1.0                   2.0  \n",
       "1                 7.0                   7.0  \n",
       "2                 5.0                   2.0  \n",
       "3                25.0                   3.0  \n",
       "4                31.0                  14.0  "
      ]
     },
     "metadata": {},
     "output_type": "display_data"
    },
    {
     "data": {
      "text/plain": [
       "(85855, 22)"
      ]
     },
     "metadata": {},
     "output_type": "display_data"
    },
    {
     "data": {
      "text/plain": [
       "imdb_title_id             object\n",
       "title                     object\n",
       "original_title            object\n",
       "year                      object\n",
       "date_published            object\n",
       "genre                     object\n",
       "duration                   int64\n",
       "country                   object\n",
       "language                  object\n",
       "director                  object\n",
       "writer                    object\n",
       "production_company        object\n",
       "actors                    object\n",
       "description               object\n",
       "avg_vote                 float64\n",
       "votes                      int64\n",
       "budget                    object\n",
       "usa_gross_income          object\n",
       "worlwide_gross_income     object\n",
       "metascore                float64\n",
       "reviews_from_users       float64\n",
       "reviews_from_critics     float64\n",
       "dtype: object"
      ]
     },
     "metadata": {},
     "output_type": "display_data"
    },
    {
     "data": {
      "text/plain": [
       "Index(['imdb_title_id', 'title', 'original_title', 'year', 'date_published',\n",
       "       'genre', 'duration', 'country', 'language', 'director', 'writer',\n",
       "       'production_company', 'actors', 'description', 'avg_vote', 'votes',\n",
       "       'budget', 'usa_gross_income', 'worlwide_gross_income', 'metascore',\n",
       "       'reviews_from_users', 'reviews_from_critics'],\n",
       "      dtype='object')"
      ]
     },
     "metadata": {},
     "output_type": "display_data"
    }
   ],
   "source": [
    "display(data_raw.head(5))\n",
    "display(data_raw.shape)\n",
    "display(data_raw.dtypes)\n",
    "display(data_raw.columns)"
   ]
  },
  {
   "cell_type": "code",
   "execution_count": 5,
   "metadata": {},
   "outputs": [],
   "source": [
    "data_raw.drop(['year', 'date_published','duration', 'director', 'writer',\n",
    "              'production_company', 'actors','avg_vote', 'votes', 'budget', 'usa_gross_income',\n",
    "              'worlwide_gross_income', 'metascore', 'imdb_title_id', 'original_title',\n",
    "              'reviews_from_users', 'reviews_from_critics'], axis=1,inplace=True)"
   ]
  },
  {
   "cell_type": "code",
   "execution_count": 6,
   "metadata": {},
   "outputs": [
    {
     "data": {
      "text/plain": [
       "Drama                          12543\n",
       "Comedy                          7693\n",
       "Comedy, Drama                   4039\n",
       "Drama, Romance                  3455\n",
       "Comedy, Romance                 2508\n",
       "                               ...  \n",
       "Family, Sci-Fi, Adventure          1\n",
       "Adventure, Crime, War              1\n",
       "Mystery, Romance, Musical          1\n",
       "Adventure, Sci-Fi, Action          1\n",
       "Animation, Fantasy, Mystery        1\n",
       "Name: genre, Length: 1257, dtype: int64"
      ]
     },
     "execution_count": 6,
     "metadata": {},
     "output_type": "execute_result"
    }
   ],
   "source": [
    "data_raw.genre.value_counts()"
   ]
  },
  {
   "cell_type": "code",
   "execution_count": 7,
   "metadata": {},
   "outputs": [
    {
     "data": {
      "text/html": [
       "<div>\n",
       "<style scoped>\n",
       "    .dataframe tbody tr th:only-of-type {\n",
       "        vertical-align: middle;\n",
       "    }\n",
       "\n",
       "    .dataframe tbody tr th {\n",
       "        vertical-align: top;\n",
       "    }\n",
       "\n",
       "    .dataframe thead th {\n",
       "        text-align: right;\n",
       "    }\n",
       "</style>\n",
       "<table border=\"1\" class=\"dataframe\">\n",
       "  <thead>\n",
       "    <tr style=\"text-align: right;\">\n",
       "      <th></th>\n",
       "      <th>title</th>\n",
       "      <th>genre</th>\n",
       "      <th>country</th>\n",
       "      <th>language</th>\n",
       "      <th>description</th>\n",
       "    </tr>\n",
       "  </thead>\n",
       "  <tbody>\n",
       "    <tr>\n",
       "      <th>0</th>\n",
       "      <td>Miss Jerry</td>\n",
       "      <td>Romance</td>\n",
       "      <td>USA</td>\n",
       "      <td>None</td>\n",
       "      <td>The adventures of a female reporter in the 1890s.</td>\n",
       "    </tr>\n",
       "  </tbody>\n",
       "</table>\n",
       "</div>"
      ],
      "text/plain": [
       "        title    genre country language  \\\n",
       "0  Miss Jerry  Romance     USA     None   \n",
       "\n",
       "                                         description  \n",
       "0  The adventures of a female reporter in the 1890s.  "
      ]
     },
     "execution_count": 7,
     "metadata": {},
     "output_type": "execute_result"
    }
   ],
   "source": [
    "data_raw.head(1)"
   ]
  },
  {
   "cell_type": "code",
   "execution_count": 8,
   "metadata": {},
   "outputs": [],
   "source": [
    "countries = data_raw['country'].value_counts()"
   ]
  },
  {
   "cell_type": "code",
   "execution_count": 9,
   "metadata": {},
   "outputs": [
    {
     "data": {
      "text/plain": [
       "USA          28511\n",
       "India         6065\n",
       "UK            4111\n",
       "Japan         3077\n",
       "France        3055\n",
       "Italy         2444\n",
       "Canada        1802\n",
       "Germany       1396\n",
       "Turkey        1351\n",
       "Hong Kong     1239\n",
       "Name: country, dtype: int64"
      ]
     },
     "metadata": {},
     "output_type": "display_data"
    }
   ],
   "source": [
    "top_10_countries = countries[:10]\n",
    "display(top_10_countries)\n",
    "other_countries = countries[:20:-1]\n",
    "# display(other_countries) \n",
    "#para dropear en caso de decidir no quedarnos con estos datos"
   ]
  },
  {
   "cell_type": "code",
   "execution_count": 10,
   "metadata": {},
   "outputs": [],
   "source": [
    "languages = data_raw['language'].value_counts()\n",
    "top_10_languages = languages[:10]"
   ]
  },
  {
   "cell_type": "code",
   "execution_count": 11,
   "metadata": {},
   "outputs": [
    {
     "name": "stdout",
     "output_type": "stream",
     "text": [
      "title             0\n",
      "genre             0\n",
      "country          64\n",
      "language        833\n",
      "description    2115\n",
      "dtype: int64\n"
     ]
    }
   ],
   "source": [
    "missing_values_check = data_raw.isnull().sum()\n",
    "print(missing_values_check)"
   ]
  },
  {
   "cell_type": "code",
   "execution_count": 12,
   "metadata": {},
   "outputs": [],
   "source": [
    "data_raw.dropna(inplace=True)"
   ]
  },
  {
   "cell_type": "code",
   "execution_count": 13,
   "metadata": {},
   "outputs": [
    {
     "name": "stdout",
     "output_type": "stream",
     "text": [
      "title          0\n",
      "genre          0\n",
      "country        0\n",
      "language       0\n",
      "description    0\n",
      "dtype: int64\n"
     ]
    }
   ],
   "source": [
    "missing_values_check = data_raw.isnull().sum()\n",
    "print(missing_values_check)"
   ]
  },
  {
   "cell_type": "code",
   "execution_count": null,
   "metadata": {},
   "outputs": [],
   "source": []
  },
  {
   "cell_type": "code",
   "execution_count": 14,
   "metadata": {},
   "outputs": [
    {
     "data": {
      "text/html": [
       "<div>\n",
       "<style scoped>\n",
       "    .dataframe tbody tr th:only-of-type {\n",
       "        vertical-align: middle;\n",
       "    }\n",
       "\n",
       "    .dataframe tbody tr th {\n",
       "        vertical-align: top;\n",
       "    }\n",
       "\n",
       "    .dataframe thead th {\n",
       "        text-align: right;\n",
       "    }\n",
       "</style>\n",
       "<table border=\"1\" class=\"dataframe\">\n",
       "  <thead>\n",
       "    <tr style=\"text-align: right;\">\n",
       "      <th></th>\n",
       "      <th>title</th>\n",
       "      <th>genre</th>\n",
       "      <th>country</th>\n",
       "      <th>language</th>\n",
       "      <th>description</th>\n",
       "    </tr>\n",
       "  </thead>\n",
       "  <tbody>\n",
       "    <tr>\n",
       "      <th>0</th>\n",
       "      <td>Miss Jerry</td>\n",
       "      <td>Romance</td>\n",
       "      <td>USA</td>\n",
       "      <td>None</td>\n",
       "      <td>Miss Jerry The adventures of a female reporter...</td>\n",
       "    </tr>\n",
       "    <tr>\n",
       "      <th>1</th>\n",
       "      <td>The Story of the Kelly Gang</td>\n",
       "      <td>Biography, Crime, Drama</td>\n",
       "      <td>Australia</td>\n",
       "      <td>None</td>\n",
       "      <td>The Story of the Kelly Gang True story of noto...</td>\n",
       "    </tr>\n",
       "    <tr>\n",
       "      <th>3</th>\n",
       "      <td>Cleopatra</td>\n",
       "      <td>Drama, History</td>\n",
       "      <td>USA</td>\n",
       "      <td>English</td>\n",
       "      <td>Cleopatra The fabled queen of Egypt's affair w...</td>\n",
       "    </tr>\n",
       "    <tr>\n",
       "      <th>4</th>\n",
       "      <td>L'Inferno</td>\n",
       "      <td>Adventure, Drama, Fantasy</td>\n",
       "      <td>Italy</td>\n",
       "      <td>Italian</td>\n",
       "      <td>L'Inferno Loosely adapted from Dante's Divine ...</td>\n",
       "    </tr>\n",
       "    <tr>\n",
       "      <th>5</th>\n",
       "      <td>From the Manger to the Cross; or, Jesus of Naz...</td>\n",
       "      <td>Biography, Drama</td>\n",
       "      <td>USA</td>\n",
       "      <td>English</td>\n",
       "      <td>From the Manger to the Cross; or, Jesus of Naz...</td>\n",
       "    </tr>\n",
       "  </tbody>\n",
       "</table>\n",
       "</div>"
      ],
      "text/plain": [
       "                                               title  \\\n",
       "0                                         Miss Jerry   \n",
       "1                        The Story of the Kelly Gang   \n",
       "3                                          Cleopatra   \n",
       "4                                          L'Inferno   \n",
       "5  From the Manger to the Cross; or, Jesus of Naz...   \n",
       "\n",
       "                       genre    country language  \\\n",
       "0                    Romance        USA     None   \n",
       "1    Biography, Crime, Drama  Australia     None   \n",
       "3             Drama, History        USA  English   \n",
       "4  Adventure, Drama, Fantasy      Italy  Italian   \n",
       "5           Biography, Drama        USA  English   \n",
       "\n",
       "                                         description  \n",
       "0  Miss Jerry The adventures of a female reporter...  \n",
       "1  The Story of the Kelly Gang True story of noto...  \n",
       "3  Cleopatra The fabled queen of Egypt's affair w...  \n",
       "4  L'Inferno Loosely adapted from Dante's Divine ...  \n",
       "5  From the Manger to the Cross; or, Jesus of Naz...  "
      ]
     },
     "execution_count": 14,
     "metadata": {},
     "output_type": "execute_result"
    }
   ],
   "source": [
    "## En el caso de que quiera 3 paises.\n",
    "# mask = (data_raw['country']=='USA') | (data_raw['country']=='Canada') | (data_raw['country']=='UK')\n",
    "# mask\n",
    "# data = data_raw.loc[mask, :]\n",
    "\n",
    "data = data_raw\n",
    "\n",
    "data.description = data.title + \" \" + data.description\n",
    "data.head()"
   ]
  },
  {
   "cell_type": "code",
   "execution_count": 15,
   "metadata": {},
   "outputs": [
    {
     "data": {
      "text/plain": [
       "(82887, 5)"
      ]
     },
     "execution_count": 15,
     "metadata": {},
     "output_type": "execute_result"
    }
   ],
   "source": [
    "data.shape"
   ]
  },
  {
   "cell_type": "code",
   "execution_count": 16,
   "metadata": {},
   "outputs": [],
   "source": [
    "import unidecode\n",
    "import re\n",
    "\n",
    "def clean_text(t):\n",
    "    t_lower_no_accents=unidecode.unidecode(t.lower()); # sacamos acentos y llevamos a minuscula\n",
    "    t_lower_no_accents_no_punkt=re.sub(r'([^\\s\\w]|_)+','',t_lower_no_accents); # quitamos signos de puntuacion usando una regex que reemplaza todo lo q no sean espacios o palabras por un string vacio\n",
    "    return t_lower_no_accents_no_punkt"
   ]
  },
  {
   "cell_type": "code",
   "execution_count": 17,
   "metadata": {},
   "outputs": [],
   "source": [
    "data['description_clean'] = data['description'].apply(clean_text)"
   ]
  },
  {
   "cell_type": "code",
   "execution_count": 18,
   "metadata": {},
   "outputs": [
    {
     "data": {
      "text/html": [
       "<div>\n",
       "<style scoped>\n",
       "    .dataframe tbody tr th:only-of-type {\n",
       "        vertical-align: middle;\n",
       "    }\n",
       "\n",
       "    .dataframe tbody tr th {\n",
       "        vertical-align: top;\n",
       "    }\n",
       "\n",
       "    .dataframe thead th {\n",
       "        text-align: right;\n",
       "    }\n",
       "</style>\n",
       "<table border=\"1\" class=\"dataframe\">\n",
       "  <thead>\n",
       "    <tr style=\"text-align: right;\">\n",
       "      <th></th>\n",
       "      <th>title</th>\n",
       "      <th>genre</th>\n",
       "      <th>country</th>\n",
       "      <th>language</th>\n",
       "      <th>description</th>\n",
       "      <th>description_clean</th>\n",
       "    </tr>\n",
       "  </thead>\n",
       "  <tbody>\n",
       "    <tr>\n",
       "      <th>0</th>\n",
       "      <td>Miss Jerry</td>\n",
       "      <td>Romance</td>\n",
       "      <td>USA</td>\n",
       "      <td>None</td>\n",
       "      <td>Miss Jerry The adventures of a female reporter...</td>\n",
       "      <td>miss jerry the adventures of a female reporter...</td>\n",
       "    </tr>\n",
       "    <tr>\n",
       "      <th>1</th>\n",
       "      <td>The Story of the Kelly Gang</td>\n",
       "      <td>Biography, Crime, Drama</td>\n",
       "      <td>Australia</td>\n",
       "      <td>None</td>\n",
       "      <td>The Story of the Kelly Gang True story of noto...</td>\n",
       "      <td>the story of the kelly gang true story of noto...</td>\n",
       "    </tr>\n",
       "    <tr>\n",
       "      <th>3</th>\n",
       "      <td>Cleopatra</td>\n",
       "      <td>Drama, History</td>\n",
       "      <td>USA</td>\n",
       "      <td>English</td>\n",
       "      <td>Cleopatra The fabled queen of Egypt's affair w...</td>\n",
       "      <td>cleopatra the fabled queen of egypts affair wi...</td>\n",
       "    </tr>\n",
       "    <tr>\n",
       "      <th>4</th>\n",
       "      <td>L'Inferno</td>\n",
       "      <td>Adventure, Drama, Fantasy</td>\n",
       "      <td>Italy</td>\n",
       "      <td>Italian</td>\n",
       "      <td>L'Inferno Loosely adapted from Dante's Divine ...</td>\n",
       "      <td>linferno loosely adapted from dantes divine co...</td>\n",
       "    </tr>\n",
       "    <tr>\n",
       "      <th>5</th>\n",
       "      <td>From the Manger to the Cross; or, Jesus of Naz...</td>\n",
       "      <td>Biography, Drama</td>\n",
       "      <td>USA</td>\n",
       "      <td>English</td>\n",
       "      <td>From the Manger to the Cross; or, Jesus of Naz...</td>\n",
       "      <td>from the manger to the cross or jesus of nazar...</td>\n",
       "    </tr>\n",
       "  </tbody>\n",
       "</table>\n",
       "</div>"
      ],
      "text/plain": [
       "                                               title  \\\n",
       "0                                         Miss Jerry   \n",
       "1                        The Story of the Kelly Gang   \n",
       "3                                          Cleopatra   \n",
       "4                                          L'Inferno   \n",
       "5  From the Manger to the Cross; or, Jesus of Naz...   \n",
       "\n",
       "                       genre    country language  \\\n",
       "0                    Romance        USA     None   \n",
       "1    Biography, Crime, Drama  Australia     None   \n",
       "3             Drama, History        USA  English   \n",
       "4  Adventure, Drama, Fantasy      Italy  Italian   \n",
       "5           Biography, Drama        USA  English   \n",
       "\n",
       "                                         description  \\\n",
       "0  Miss Jerry The adventures of a female reporter...   \n",
       "1  The Story of the Kelly Gang True story of noto...   \n",
       "3  Cleopatra The fabled queen of Egypt's affair w...   \n",
       "4  L'Inferno Loosely adapted from Dante's Divine ...   \n",
       "5  From the Manger to the Cross; or, Jesus of Naz...   \n",
       "\n",
       "                                   description_clean  \n",
       "0  miss jerry the adventures of a female reporter...  \n",
       "1  the story of the kelly gang true story of noto...  \n",
       "3  cleopatra the fabled queen of egypts affair wi...  \n",
       "4  linferno loosely adapted from dantes divine co...  \n",
       "5  from the manger to the cross or jesus of nazar...  "
      ]
     },
     "execution_count": 18,
     "metadata": {},
     "output_type": "execute_result"
    }
   ],
   "source": [
    "data.head()"
   ]
  },
  {
   "cell_type": "code",
   "execution_count": 19,
   "metadata": {},
   "outputs": [],
   "source": [
    "data['genre_clean'] = data['genre'].apply(clean_text)\n",
    "# data['genre_list'] = data['genre_clean'].str.split(\" \")"
   ]
  },
  {
   "cell_type": "code",
   "execution_count": 20,
   "metadata": {},
   "outputs": [
    {
     "data": {
      "text/plain": [
       "array(['romance', 'biography', 'crime', 'drama', 'history', 'adventure',\n",
       "       'fantasy', 'war', 'mystery', 'horror', 'western', 'comedy',\n",
       "       'family', 'action', 'scifi', 'thriller', 'sport', 'animation',\n",
       "       'musical', 'music', 'filmnoir', 'adult', 'documentary',\n",
       "       'realitytv', 'news'], dtype=object)"
      ]
     },
     "execution_count": 20,
     "metadata": {},
     "output_type": "execute_result"
    }
   ],
   "source": [
    "genres = pd.unique(data['genre_clean'].str.split(expand=True).stack())\n",
    "genres"
   ]
  },
  {
   "cell_type": "code",
   "execution_count": 21,
   "metadata": {},
   "outputs": [
    {
     "data": {
      "text/html": [
       "<div>\n",
       "<style scoped>\n",
       "    .dataframe tbody tr th:only-of-type {\n",
       "        vertical-align: middle;\n",
       "    }\n",
       "\n",
       "    .dataframe tbody tr th {\n",
       "        vertical-align: top;\n",
       "    }\n",
       "\n",
       "    .dataframe thead th {\n",
       "        text-align: right;\n",
       "    }\n",
       "</style>\n",
       "<table border=\"1\" class=\"dataframe\">\n",
       "  <thead>\n",
       "    <tr style=\"text-align: right;\">\n",
       "      <th></th>\n",
       "      <th>title</th>\n",
       "      <th>genre</th>\n",
       "      <th>country</th>\n",
       "      <th>language</th>\n",
       "      <th>description</th>\n",
       "      <th>description_clean</th>\n",
       "      <th>genre_clean</th>\n",
       "    </tr>\n",
       "  </thead>\n",
       "  <tbody>\n",
       "    <tr>\n",
       "      <th>0</th>\n",
       "      <td>Miss Jerry</td>\n",
       "      <td>Romance</td>\n",
       "      <td>USA</td>\n",
       "      <td>None</td>\n",
       "      <td>Miss Jerry The adventures of a female reporter...</td>\n",
       "      <td>miss jerry the adventures of a female reporter...</td>\n",
       "      <td>romance</td>\n",
       "    </tr>\n",
       "    <tr>\n",
       "      <th>1</th>\n",
       "      <td>The Story of the Kelly Gang</td>\n",
       "      <td>Biography, Crime, Drama</td>\n",
       "      <td>Australia</td>\n",
       "      <td>None</td>\n",
       "      <td>The Story of the Kelly Gang True story of noto...</td>\n",
       "      <td>the story of the kelly gang true story of noto...</td>\n",
       "      <td>biography crime drama</td>\n",
       "    </tr>\n",
       "    <tr>\n",
       "      <th>3</th>\n",
       "      <td>Cleopatra</td>\n",
       "      <td>Drama, History</td>\n",
       "      <td>USA</td>\n",
       "      <td>English</td>\n",
       "      <td>Cleopatra The fabled queen of Egypt's affair w...</td>\n",
       "      <td>cleopatra the fabled queen of egypts affair wi...</td>\n",
       "      <td>drama history</td>\n",
       "    </tr>\n",
       "    <tr>\n",
       "      <th>4</th>\n",
       "      <td>L'Inferno</td>\n",
       "      <td>Adventure, Drama, Fantasy</td>\n",
       "      <td>Italy</td>\n",
       "      <td>Italian</td>\n",
       "      <td>L'Inferno Loosely adapted from Dante's Divine ...</td>\n",
       "      <td>linferno loosely adapted from dantes divine co...</td>\n",
       "      <td>adventure drama fantasy</td>\n",
       "    </tr>\n",
       "    <tr>\n",
       "      <th>5</th>\n",
       "      <td>From the Manger to the Cross; or, Jesus of Naz...</td>\n",
       "      <td>Biography, Drama</td>\n",
       "      <td>USA</td>\n",
       "      <td>English</td>\n",
       "      <td>From the Manger to the Cross; or, Jesus of Naz...</td>\n",
       "      <td>from the manger to the cross or jesus of nazar...</td>\n",
       "      <td>biography drama</td>\n",
       "    </tr>\n",
       "  </tbody>\n",
       "</table>\n",
       "</div>"
      ],
      "text/plain": [
       "                                               title  \\\n",
       "0                                         Miss Jerry   \n",
       "1                        The Story of the Kelly Gang   \n",
       "3                                          Cleopatra   \n",
       "4                                          L'Inferno   \n",
       "5  From the Manger to the Cross; or, Jesus of Naz...   \n",
       "\n",
       "                       genre    country language  \\\n",
       "0                    Romance        USA     None   \n",
       "1    Biography, Crime, Drama  Australia     None   \n",
       "3             Drama, History        USA  English   \n",
       "4  Adventure, Drama, Fantasy      Italy  Italian   \n",
       "5           Biography, Drama        USA  English   \n",
       "\n",
       "                                         description  \\\n",
       "0  Miss Jerry The adventures of a female reporter...   \n",
       "1  The Story of the Kelly Gang True story of noto...   \n",
       "3  Cleopatra The fabled queen of Egypt's affair w...   \n",
       "4  L'Inferno Loosely adapted from Dante's Divine ...   \n",
       "5  From the Manger to the Cross; or, Jesus of Naz...   \n",
       "\n",
       "                                   description_clean              genre_clean  \n",
       "0  miss jerry the adventures of a female reporter...                  romance  \n",
       "1  the story of the kelly gang true story of noto...    biography crime drama  \n",
       "3  cleopatra the fabled queen of egypts affair wi...            drama history  \n",
       "4  linferno loosely adapted from dantes divine co...  adventure drama fantasy  \n",
       "5  from the manger to the cross or jesus of nazar...          biography drama  "
      ]
     },
     "execution_count": 21,
     "metadata": {},
     "output_type": "execute_result"
    }
   ],
   "source": [
    "data.head(5)"
   ]
  },
  {
   "cell_type": "code",
   "execution_count": 22,
   "metadata": {},
   "outputs": [
    {
     "data": {
      "text/plain": [
       "(82887, 7)"
      ]
     },
     "execution_count": 22,
     "metadata": {},
     "output_type": "execute_result"
    }
   ],
   "source": [
    "data.shape"
   ]
  },
  {
   "cell_type": "code",
   "execution_count": 23,
   "metadata": {},
   "outputs": [],
   "source": [
    "data.reset_index(inplace=True, drop=True)"
   ]
  },
  {
   "cell_type": "code",
   "execution_count": 24,
   "metadata": {},
   "outputs": [
    {
     "data": {
      "text/html": [
       "<div>\n",
       "<style scoped>\n",
       "    .dataframe tbody tr th:only-of-type {\n",
       "        vertical-align: middle;\n",
       "    }\n",
       "\n",
       "    .dataframe tbody tr th {\n",
       "        vertical-align: top;\n",
       "    }\n",
       "\n",
       "    .dataframe thead th {\n",
       "        text-align: right;\n",
       "    }\n",
       "</style>\n",
       "<table border=\"1\" class=\"dataframe\">\n",
       "  <thead>\n",
       "    <tr style=\"text-align: right;\">\n",
       "      <th></th>\n",
       "      <th>title</th>\n",
       "      <th>genre</th>\n",
       "      <th>country</th>\n",
       "      <th>language</th>\n",
       "      <th>description</th>\n",
       "      <th>description_clean</th>\n",
       "      <th>genre_clean</th>\n",
       "    </tr>\n",
       "  </thead>\n",
       "  <tbody>\n",
       "    <tr>\n",
       "      <th>0</th>\n",
       "      <td>Miss Jerry</td>\n",
       "      <td>Romance</td>\n",
       "      <td>USA</td>\n",
       "      <td>None</td>\n",
       "      <td>Miss Jerry The adventures of a female reporter...</td>\n",
       "      <td>miss jerry the adventures of a female reporter...</td>\n",
       "      <td>romance</td>\n",
       "    </tr>\n",
       "    <tr>\n",
       "      <th>1</th>\n",
       "      <td>The Story of the Kelly Gang</td>\n",
       "      <td>Biography, Crime, Drama</td>\n",
       "      <td>Australia</td>\n",
       "      <td>None</td>\n",
       "      <td>The Story of the Kelly Gang True story of noto...</td>\n",
       "      <td>the story of the kelly gang true story of noto...</td>\n",
       "      <td>biography crime drama</td>\n",
       "    </tr>\n",
       "    <tr>\n",
       "      <th>2</th>\n",
       "      <td>Cleopatra</td>\n",
       "      <td>Drama, History</td>\n",
       "      <td>USA</td>\n",
       "      <td>English</td>\n",
       "      <td>Cleopatra The fabled queen of Egypt's affair w...</td>\n",
       "      <td>cleopatra the fabled queen of egypts affair wi...</td>\n",
       "      <td>drama history</td>\n",
       "    </tr>\n",
       "    <tr>\n",
       "      <th>3</th>\n",
       "      <td>L'Inferno</td>\n",
       "      <td>Adventure, Drama, Fantasy</td>\n",
       "      <td>Italy</td>\n",
       "      <td>Italian</td>\n",
       "      <td>L'Inferno Loosely adapted from Dante's Divine ...</td>\n",
       "      <td>linferno loosely adapted from dantes divine co...</td>\n",
       "      <td>adventure drama fantasy</td>\n",
       "    </tr>\n",
       "    <tr>\n",
       "      <th>4</th>\n",
       "      <td>From the Manger to the Cross; or, Jesus of Naz...</td>\n",
       "      <td>Biography, Drama</td>\n",
       "      <td>USA</td>\n",
       "      <td>English</td>\n",
       "      <td>From the Manger to the Cross; or, Jesus of Naz...</td>\n",
       "      <td>from the manger to the cross or jesus of nazar...</td>\n",
       "      <td>biography drama</td>\n",
       "    </tr>\n",
       "    <tr>\n",
       "      <th>5</th>\n",
       "      <td>Madame DuBarry</td>\n",
       "      <td>Biography, Drama, Romance</td>\n",
       "      <td>Germany</td>\n",
       "      <td>German</td>\n",
       "      <td>Madame DuBarry The story of Madame DuBarry, th...</td>\n",
       "      <td>madame dubarry the story of madame dubarry the...</td>\n",
       "      <td>biography drama romance</td>\n",
       "    </tr>\n",
       "    <tr>\n",
       "      <th>6</th>\n",
       "      <td>Quo Vadis?</td>\n",
       "      <td>Drama, History</td>\n",
       "      <td>Italy</td>\n",
       "      <td>Italian</td>\n",
       "      <td>Quo Vadis? An epic Italian film \"Quo Vadis\" in...</td>\n",
       "      <td>quo vadis an epic italian film quo vadis influ...</td>\n",
       "      <td>drama history</td>\n",
       "    </tr>\n",
       "    <tr>\n",
       "      <th>7</th>\n",
       "      <td>Richard III</td>\n",
       "      <td>Drama</td>\n",
       "      <td>France, USA</td>\n",
       "      <td>English</td>\n",
       "      <td>Richard III Richard of Gloucester uses manipul...</td>\n",
       "      <td>richard iii richard of gloucester uses manipul...</td>\n",
       "      <td>drama</td>\n",
       "    </tr>\n",
       "    <tr>\n",
       "      <th>8</th>\n",
       "      <td>Atlantis</td>\n",
       "      <td>Drama</td>\n",
       "      <td>Denmark</td>\n",
       "      <td>Danish</td>\n",
       "      <td>Atlantis After Dr. Friedrich's wife becomes me...</td>\n",
       "      <td>atlantis after dr friedrichs wife becomes ment...</td>\n",
       "      <td>drama</td>\n",
       "    </tr>\n",
       "    <tr>\n",
       "      <th>9</th>\n",
       "      <td>Fantômas - À l'ombre de la guillotine</td>\n",
       "      <td>Crime, Drama</td>\n",
       "      <td>France</td>\n",
       "      <td>French</td>\n",
       "      <td>Fantômas - À l'ombre de la guillotine Inspecto...</td>\n",
       "      <td>fantomas  a lombre de la guillotine inspector ...</td>\n",
       "      <td>crime drama</td>\n",
       "    </tr>\n",
       "  </tbody>\n",
       "</table>\n",
       "</div>"
      ],
      "text/plain": [
       "                                               title  \\\n",
       "0                                         Miss Jerry   \n",
       "1                        The Story of the Kelly Gang   \n",
       "2                                          Cleopatra   \n",
       "3                                          L'Inferno   \n",
       "4  From the Manger to the Cross; or, Jesus of Naz...   \n",
       "5                                     Madame DuBarry   \n",
       "6                                         Quo Vadis?   \n",
       "7                                        Richard III   \n",
       "8                                           Atlantis   \n",
       "9              Fantômas - À l'ombre de la guillotine   \n",
       "\n",
       "                       genre      country language  \\\n",
       "0                    Romance          USA     None   \n",
       "1    Biography, Crime, Drama    Australia     None   \n",
       "2             Drama, History          USA  English   \n",
       "3  Adventure, Drama, Fantasy        Italy  Italian   \n",
       "4           Biography, Drama          USA  English   \n",
       "5  Biography, Drama, Romance      Germany   German   \n",
       "6             Drama, History        Italy  Italian   \n",
       "7                      Drama  France, USA  English   \n",
       "8                      Drama      Denmark   Danish   \n",
       "9               Crime, Drama       France   French   \n",
       "\n",
       "                                         description  \\\n",
       "0  Miss Jerry The adventures of a female reporter...   \n",
       "1  The Story of the Kelly Gang True story of noto...   \n",
       "2  Cleopatra The fabled queen of Egypt's affair w...   \n",
       "3  L'Inferno Loosely adapted from Dante's Divine ...   \n",
       "4  From the Manger to the Cross; or, Jesus of Naz...   \n",
       "5  Madame DuBarry The story of Madame DuBarry, th...   \n",
       "6  Quo Vadis? An epic Italian film \"Quo Vadis\" in...   \n",
       "7  Richard III Richard of Gloucester uses manipul...   \n",
       "8  Atlantis After Dr. Friedrich's wife becomes me...   \n",
       "9  Fantômas - À l'ombre de la guillotine Inspecto...   \n",
       "\n",
       "                                   description_clean              genre_clean  \n",
       "0  miss jerry the adventures of a female reporter...                  romance  \n",
       "1  the story of the kelly gang true story of noto...    biography crime drama  \n",
       "2  cleopatra the fabled queen of egypts affair wi...            drama history  \n",
       "3  linferno loosely adapted from dantes divine co...  adventure drama fantasy  \n",
       "4  from the manger to the cross or jesus of nazar...          biography drama  \n",
       "5  madame dubarry the story of madame dubarry the...  biography drama romance  \n",
       "6  quo vadis an epic italian film quo vadis influ...            drama history  \n",
       "7  richard iii richard of gloucester uses manipul...                    drama  \n",
       "8  atlantis after dr friedrichs wife becomes ment...                    drama  \n",
       "9  fantomas  a lombre de la guillotine inspector ...              crime drama  "
      ]
     },
     "execution_count": 24,
     "metadata": {},
     "output_type": "execute_result"
    }
   ],
   "source": [
    "data.head(10)"
   ]
  },
  {
   "cell_type": "code",
   "execution_count": 25,
   "metadata": {},
   "outputs": [],
   "source": [
    "columns_to_drop = ['documentary', 'realitytv', 'news', 'adult' ]\n",
    "\n",
    "# columns_to_drop = ['documentary', 'realitytv', 'news', \n",
    "#                    'family', 'western', 'musical', \n",
    "#                    'music', 'biography', 'war', \n",
    "#                    'filmnoir', 'history', 'sport', \n",
    "#                    'animation' ]\n",
    "indexes_to_drop = []\n",
    "\n",
    "for genre in columns_to_drop:\n",
    "    genre = data['genre_clean'].apply(lambda x: genre in str(x).lower());\n",
    "    movies_index = list(genre[genre].index)\n",
    "    for index in movies_index:\n",
    "        indexes_to_drop.append(index)"
   ]
  },
  {
   "cell_type": "code",
   "execution_count": 26,
   "metadata": {},
   "outputs": [
    {
     "data": {
      "text/plain": [
       "(82887, 7)"
      ]
     },
     "execution_count": 26,
     "metadata": {},
     "output_type": "execute_result"
    }
   ],
   "source": [
    "data.shape"
   ]
  },
  {
   "cell_type": "code",
   "execution_count": 27,
   "metadata": {},
   "outputs": [],
   "source": [
    "#Drop de filas donde hay movies de las 4 ultimas categorias\n",
    "data.drop(index=indexes_to_drop, inplace=True)"
   ]
  },
  {
   "cell_type": "code",
   "execution_count": 28,
   "metadata": {},
   "outputs": [
    {
     "data": {
      "text/plain": [
       "(82880, 7)"
      ]
     },
     "execution_count": 28,
     "metadata": {},
     "output_type": "execute_result"
    }
   ],
   "source": [
    "data.shape"
   ]
  },
  {
   "cell_type": "code",
   "execution_count": 29,
   "metadata": {},
   "outputs": [
    {
     "data": {
      "text/plain": [
       "Index(['title', 'genre', 'country', 'language', 'description',\n",
       "       'description_clean', 'genre_clean'],\n",
       "      dtype='object')"
      ]
     },
     "execution_count": 29,
     "metadata": {},
     "output_type": "execute_result"
    }
   ],
   "source": [
    "data.columns"
   ]
  },
  {
   "cell_type": "code",
   "execution_count": 30,
   "metadata": {},
   "outputs": [
    {
     "data": {
      "text/html": [
       "<div>\n",
       "<style scoped>\n",
       "    .dataframe tbody tr th:only-of-type {\n",
       "        vertical-align: middle;\n",
       "    }\n",
       "\n",
       "    .dataframe tbody tr th {\n",
       "        vertical-align: top;\n",
       "    }\n",
       "\n",
       "    .dataframe thead th {\n",
       "        text-align: right;\n",
       "    }\n",
       "</style>\n",
       "<table border=\"1\" class=\"dataframe\">\n",
       "  <thead>\n",
       "    <tr style=\"text-align: right;\">\n",
       "      <th></th>\n",
       "      <th>description_clean</th>\n",
       "      <th>genre_clean</th>\n",
       "    </tr>\n",
       "  </thead>\n",
       "  <tbody>\n",
       "    <tr>\n",
       "      <th>43299</th>\n",
       "      <td>parole damore a wife and mother begins a downw...</td>\n",
       "      <td>drama family</td>\n",
       "    </tr>\n",
       "    <tr>\n",
       "      <th>50132</th>\n",
       "      <td>8 paivaa ensiiltaan vilma is a female prompter...</td>\n",
       "      <td>comedy romance</td>\n",
       "    </tr>\n",
       "    <tr>\n",
       "      <th>63887</th>\n",
       "      <td>big bad wolves a series of brutal murders puts...</td>\n",
       "      <td>drama horror thriller</td>\n",
       "    </tr>\n",
       "  </tbody>\n",
       "</table>\n",
       "</div>"
      ],
      "text/plain": [
       "                                       description_clean  \\\n",
       "43299  parole damore a wife and mother begins a downw...   \n",
       "50132  8 paivaa ensiiltaan vilma is a female prompter...   \n",
       "63887  big bad wolves a series of brutal murders puts...   \n",
       "\n",
       "                 genre_clean  \n",
       "43299           drama family  \n",
       "50132         comedy romance  \n",
       "63887  drama horror thriller  "
      ]
     },
     "execution_count": 30,
     "metadata": {},
     "output_type": "execute_result"
    }
   ],
   "source": [
    "data_final = data.drop(['title', 'genre', 'country', 'language', 'description'], axis=1)\n",
    "data_final.sample(3)"
   ]
  },
  {
   "cell_type": "code",
   "execution_count": 31,
   "metadata": {},
   "outputs": [],
   "source": [
    "data_final.to_csv(path_or_buf='data/movies_preprocesadas.csv', sep=',',\n",
    "                   header=True, encoding='utf8', index=False)"
   ]
  }
 ],
 "metadata": {
  "kernelspec": {
   "display_name": "Python 3",
   "language": "python",
   "name": "python3"
  },
  "language_info": {
   "codemirror_mode": {
    "name": "ipython",
    "version": 3
   },
   "file_extension": ".py",
   "mimetype": "text/x-python",
   "name": "python",
   "nbconvert_exporter": "python",
   "pygments_lexer": "ipython3",
   "version": "3.7.9"
  }
 },
 "nbformat": 4,
 "nbformat_minor": 4
}
