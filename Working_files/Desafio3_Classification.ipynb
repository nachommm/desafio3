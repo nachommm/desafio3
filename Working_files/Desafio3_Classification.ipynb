{
 "cells": [
  {
   "cell_type": "code",
   "execution_count": null,
   "metadata": {},
   "outputs": [],
   "source": [
    "#Clasificación"
   ]
  },
  {
   "cell_type": "code",
   "execution_count": 3,
   "metadata": {},
   "outputs": [],
   "source": [
    "import pandas as pd\n",
    "import numpy as np\n",
    "import seaborn as sns\n",
    "import matplotlib.pyplot as plt\n",
    "%matplotlib inline\n",
    "from sklearn.model_selection import train_test_split, StratifiedKFold, GridSearchCV, StratifiedShuffleSplit\n",
    "from sklearn.feature_extraction.text import TfidfVectorizer\n",
    "from sklearn.naive_bayes import MultinomialNB\n",
    "from sklearn.metrics import accuracy_score,confusion_matrix, classification_report\n",
    "import unidecode\n",
    "from nltk.corpus import stopwords "
   ]
  },
  {
   "cell_type": "code",
   "execution_count": 4,
   "metadata": {},
   "outputs": [],
   "source": [
    "pd.set_option('display.max_columns', 100) # Para mostrar todas las columnas\n",
    "# pd.set_option('display.max_rows', 100) # Para mostrar todas las filas"
   ]
  },
  {
   "cell_type": "code",
   "execution_count": 5,
   "metadata": {},
   "outputs": [
    {
     "data": {
      "text/html": [
       "<div>\n",
       "<style scoped>\n",
       "    .dataframe tbody tr th:only-of-type {\n",
       "        vertical-align: middle;\n",
       "    }\n",
       "\n",
       "    .dataframe tbody tr th {\n",
       "        vertical-align: top;\n",
       "    }\n",
       "\n",
       "    .dataframe thead th {\n",
       "        text-align: right;\n",
       "    }\n",
       "</style>\n",
       "<table border=\"1\" class=\"dataframe\">\n",
       "  <thead>\n",
       "    <tr style=\"text-align: right;\">\n",
       "      <th></th>\n",
       "      <th>title</th>\n",
       "      <th>description_clean</th>\n",
       "      <th>genre_clean</th>\n",
       "      <th>romance</th>\n",
       "      <th>drama</th>\n",
       "      <th>history</th>\n",
       "      <th>biography</th>\n",
       "      <th>crime</th>\n",
       "      <th>horror</th>\n",
       "      <th>western</th>\n",
       "      <th>fantasy</th>\n",
       "      <th>comedy</th>\n",
       "      <th>family</th>\n",
       "      <th>adventure</th>\n",
       "      <th>action</th>\n",
       "      <th>war</th>\n",
       "      <th>scifi</th>\n",
       "      <th>mystery</th>\n",
       "      <th>thriller</th>\n",
       "      <th>sport</th>\n",
       "      <th>musical</th>\n",
       "      <th>music</th>\n",
       "      <th>filmnoir</th>\n",
       "      <th>animation</th>\n",
       "    </tr>\n",
       "  </thead>\n",
       "  <tbody>\n",
       "    <tr>\n",
       "      <th>0</th>\n",
       "      <td>Miss Jerry</td>\n",
       "      <td>the adventures of a female reporter in the 1890s</td>\n",
       "      <td>romance</td>\n",
       "      <td>1</td>\n",
       "      <td>0</td>\n",
       "      <td>0</td>\n",
       "      <td>0</td>\n",
       "      <td>0</td>\n",
       "      <td>0</td>\n",
       "      <td>0</td>\n",
       "      <td>0</td>\n",
       "      <td>0</td>\n",
       "      <td>0</td>\n",
       "      <td>0</td>\n",
       "      <td>0</td>\n",
       "      <td>0</td>\n",
       "      <td>0</td>\n",
       "      <td>0</td>\n",
       "      <td>0</td>\n",
       "      <td>0</td>\n",
       "      <td>0</td>\n",
       "      <td>0</td>\n",
       "      <td>0</td>\n",
       "      <td>0</td>\n",
       "    </tr>\n",
       "    <tr>\n",
       "      <th>1</th>\n",
       "      <td>Cleopatra</td>\n",
       "      <td>the fabled queen of egypts affair with roman g...</td>\n",
       "      <td>drama history</td>\n",
       "      <td>0</td>\n",
       "      <td>1</td>\n",
       "      <td>1</td>\n",
       "      <td>0</td>\n",
       "      <td>0</td>\n",
       "      <td>0</td>\n",
       "      <td>0</td>\n",
       "      <td>0</td>\n",
       "      <td>0</td>\n",
       "      <td>0</td>\n",
       "      <td>0</td>\n",
       "      <td>0</td>\n",
       "      <td>0</td>\n",
       "      <td>0</td>\n",
       "      <td>0</td>\n",
       "      <td>0</td>\n",
       "      <td>0</td>\n",
       "      <td>0</td>\n",
       "      <td>0</td>\n",
       "      <td>0</td>\n",
       "      <td>0</td>\n",
       "    </tr>\n",
       "    <tr>\n",
       "      <th>2</th>\n",
       "      <td>From the Manger to the Cross; or, Jesus of Naz...</td>\n",
       "      <td>an account of the life of jesus christ based o...</td>\n",
       "      <td>biography drama</td>\n",
       "      <td>0</td>\n",
       "      <td>1</td>\n",
       "      <td>0</td>\n",
       "      <td>1</td>\n",
       "      <td>0</td>\n",
       "      <td>0</td>\n",
       "      <td>0</td>\n",
       "      <td>0</td>\n",
       "      <td>0</td>\n",
       "      <td>0</td>\n",
       "      <td>0</td>\n",
       "      <td>0</td>\n",
       "      <td>0</td>\n",
       "      <td>0</td>\n",
       "      <td>0</td>\n",
       "      <td>0</td>\n",
       "      <td>0</td>\n",
       "      <td>0</td>\n",
       "      <td>0</td>\n",
       "      <td>0</td>\n",
       "      <td>0</td>\n",
       "    </tr>\n",
       "    <tr>\n",
       "      <th>3</th>\n",
       "      <td>Amore di madre</td>\n",
       "      <td>john howard payne at his most miserable point ...</td>\n",
       "      <td>drama</td>\n",
       "      <td>0</td>\n",
       "      <td>1</td>\n",
       "      <td>0</td>\n",
       "      <td>0</td>\n",
       "      <td>0</td>\n",
       "      <td>0</td>\n",
       "      <td>0</td>\n",
       "      <td>0</td>\n",
       "      <td>0</td>\n",
       "      <td>0</td>\n",
       "      <td>0</td>\n",
       "      <td>0</td>\n",
       "      <td>0</td>\n",
       "      <td>0</td>\n",
       "      <td>0</td>\n",
       "      <td>0</td>\n",
       "      <td>0</td>\n",
       "      <td>0</td>\n",
       "      <td>0</td>\n",
       "      <td>0</td>\n",
       "      <td>0</td>\n",
       "    </tr>\n",
       "    <tr>\n",
       "      <th>4</th>\n",
       "      <td>Traffic in Souls</td>\n",
       "      <td>a woman with the aid of her police officer swe...</td>\n",
       "      <td>crime drama</td>\n",
       "      <td>0</td>\n",
       "      <td>1</td>\n",
       "      <td>0</td>\n",
       "      <td>0</td>\n",
       "      <td>1</td>\n",
       "      <td>0</td>\n",
       "      <td>0</td>\n",
       "      <td>0</td>\n",
       "      <td>0</td>\n",
       "      <td>0</td>\n",
       "      <td>0</td>\n",
       "      <td>0</td>\n",
       "      <td>0</td>\n",
       "      <td>0</td>\n",
       "      <td>0</td>\n",
       "      <td>0</td>\n",
       "      <td>0</td>\n",
       "      <td>0</td>\n",
       "      <td>0</td>\n",
       "      <td>0</td>\n",
       "      <td>0</td>\n",
       "    </tr>\n",
       "  </tbody>\n",
       "</table>\n",
       "</div>"
      ],
      "text/plain": [
       "                                               title  \\\n",
       "0                                         Miss Jerry   \n",
       "1                                          Cleopatra   \n",
       "2  From the Manger to the Cross; or, Jesus of Naz...   \n",
       "3                                     Amore di madre   \n",
       "4                                   Traffic in Souls   \n",
       "\n",
       "                                   description_clean      genre_clean  \\\n",
       "0   the adventures of a female reporter in the 1890s          romance   \n",
       "1  the fabled queen of egypts affair with roman g...    drama history   \n",
       "2  an account of the life of jesus christ based o...  biography drama   \n",
       "3  john howard payne at his most miserable point ...            drama   \n",
       "4  a woman with the aid of her police officer swe...      crime drama   \n",
       "\n",
       "   romance  drama  history  biography  crime  horror  western  fantasy  \\\n",
       "0        1      0        0          0      0       0        0        0   \n",
       "1        0      1        1          0      0       0        0        0   \n",
       "2        0      1        0          1      0       0        0        0   \n",
       "3        0      1        0          0      0       0        0        0   \n",
       "4        0      1        0          0      1       0        0        0   \n",
       "\n",
       "   comedy  family  adventure  action  war  scifi  mystery  thriller  sport  \\\n",
       "0       0       0          0       0    0      0        0         0      0   \n",
       "1       0       0          0       0    0      0        0         0      0   \n",
       "2       0       0          0       0    0      0        0         0      0   \n",
       "3       0       0          0       0    0      0        0         0      0   \n",
       "4       0       0          0       0    0      0        0         0      0   \n",
       "\n",
       "   musical  music  filmnoir  animation  \n",
       "0        0      0         0          0  \n",
       "1        0      0         0          0  \n",
       "2        0      0         0          0  \n",
       "3        0      0         0          0  \n",
       "4        0      0         0          0  "
      ]
     },
     "execution_count": 5,
     "metadata": {},
     "output_type": "execute_result"
    }
   ],
   "source": [
    "data = pd.read_csv(\"Data/movies_usa_en.csv\", low_memory=False)\n",
    "data.head()"
   ]
  },
  {
   "cell_type": "code",
   "execution_count": 6,
   "metadata": {},
   "outputs": [
    {
     "data": {
      "text/plain": [
       "(38075, 24)"
      ]
     },
     "execution_count": 6,
     "metadata": {},
     "output_type": "execute_result"
    }
   ],
   "source": [
    "data.shape"
   ]
  },
  {
   "cell_type": "code",
   "execution_count": 7,
   "metadata": {},
   "outputs": [
    {
     "data": {
      "text/plain": [
       "Index(['title', 'description_clean', 'genre_clean', 'romance', 'drama',\n",
       "       'history', 'biography', 'crime', 'horror', 'western', 'fantasy',\n",
       "       'comedy', 'family', 'adventure', 'action', 'war', 'scifi', 'mystery',\n",
       "       'thriller', 'sport', 'musical', 'music', 'filmnoir', 'animation'],\n",
       "      dtype='object')"
      ]
     },
     "execution_count": 7,
     "metadata": {},
     "output_type": "execute_result"
    }
   ],
   "source": [
    "data.columns"
   ]
  },
  {
   "cell_type": "markdown",
   "metadata": {},
   "source": [
    "### Split en train y test y vectorizacion de texto"
   ]
  },
  {
   "cell_type": "code",
   "execution_count": 8,
   "metadata": {},
   "outputs": [],
   "source": [
    "train, test = train_test_split(data, random_state=42, test_size=0.30, shuffle=True)\n",
    "train_text = train['description_clean']\n",
    "test_text = test['description_clean']"
   ]
  },
  {
   "cell_type": "code",
   "execution_count": 9,
   "metadata": {},
   "outputs": [
    {
     "data": {
      "text/plain": [
       "TfidfVectorizer(ngram_range=(1, 3),\n",
       "                stop_words=['i', 'me', 'my', 'myself', 'we', 'our', 'ours',\n",
       "                            'ourselves', 'you', \"you're\", \"you've\", \"you'll\",\n",
       "                            \"you'd\", 'your', 'yours', 'yourself', 'yourselves',\n",
       "                            'he', 'him', 'his', 'himself', 'she', \"she's\",\n",
       "                            'her', 'hers', 'herself', 'it', \"it's\", 'its',\n",
       "                            'itself', ...],\n",
       "                strip_accents='unicode')"
      ]
     },
     "execution_count": 9,
     "metadata": {},
     "output_type": "execute_result"
    }
   ],
   "source": [
    "stop_words = stopwords.words('english')\n",
    "vectorizer = TfidfVectorizer(strip_accents='unicode', analyzer='word', ngram_range=(1,3), norm='l2', stop_words=stop_words)\n",
    "vectorizer.fit(train_text)"
   ]
  },
  {
   "cell_type": "code",
   "execution_count": 10,
   "metadata": {},
   "outputs": [],
   "source": [
    "X_train = vectorizer.transform(train_text)\n",
    "y_train = train.drop(labels = ['title', 'description_clean', 'genre_clean'], axis=1)\n",
    "\n",
    "X_test = vectorizer.transform(test_text)\n",
    "y_test = test.drop(labels = ['title', 'description_clean', 'genre_clean'], axis=1)"
   ]
  },
  {
   "cell_type": "markdown",
   "metadata": {},
   "source": [
    "### Pipeline de clasificación"
   ]
  },
  {
   "cell_type": "code",
   "execution_count": 11,
   "metadata": {},
   "outputs": [],
   "source": [
    "from sklearn.linear_model import LogisticRegression\n",
    "from sklearn.pipeline import Pipeline\n",
    "from sklearn.metrics import accuracy_score\n",
    "from sklearn.multiclass import OneVsRestClassifier"
   ]
  },
  {
   "cell_type": "code",
   "execution_count": 12,
   "metadata": {},
   "outputs": [
    {
     "data": {
      "text/plain": [
       "array(['romance', 'drama', 'history', 'biography', 'crime', 'horror',\n",
       "       'western', 'fantasy', 'comedy', 'family', 'adventure', 'action',\n",
       "       'war', 'scifi', 'mystery', 'thriller', 'sport', 'musical', 'music',\n",
       "       'filmnoir', 'animation'], dtype=object)"
      ]
     },
     "execution_count": 12,
     "metadata": {},
     "output_type": "execute_result"
    }
   ],
   "source": [
    "genres = pd.unique(data['genre_clean'].str.split(expand=True).stack())\n",
    "genres"
   ]
  },
  {
   "cell_type": "code",
   "execution_count": 13,
   "metadata": {},
   "outputs": [
    {
     "data": {
      "text/plain": [
       "21"
      ]
     },
     "execution_count": 13,
     "metadata": {},
     "output_type": "execute_result"
    }
   ],
   "source": [
    "len(genres)"
   ]
  },
  {
   "cell_type": "code",
   "execution_count": 14,
   "metadata": {},
   "outputs": [
    {
     "name": "stdout",
     "output_type": "stream",
     "text": [
      "**Processing romance movies...**\n",
      "Test accuracy is 0.8242143044734308\n",
      "**Processing drama movies...**\n",
      "Test accuracy is 0.6704018208876827\n",
      "**Processing history movies...**\n",
      "Test accuracy is 0.9843298608071435\n",
      "**Processing biography movies...**\n",
      "Test accuracy is 0.9768011905804079\n",
      "**Processing crime movies...**\n",
      "Test accuracy is 0.8698240392191193\n",
      "**Processing horror movies...**\n",
      "Test accuracy is 0.8933730193469316\n",
      "**Processing western movies...**\n",
      "Test accuracy is 0.9695351483848376\n",
      "**Processing fantasy movies...**\n",
      "Test accuracy is 0.962006478158102\n",
      "**Processing comedy movies...**\n",
      "Test accuracy is 0.7280049023899151\n",
      "**Processing family movies...**\n",
      "Test accuracy is 0.9524643263591\n",
      "**Processing adventure movies...**\n",
      "Test accuracy is 0.9134202923925414\n",
      "**Processing action movies...**\n",
      "Test accuracy is 0.8432986080714349\n",
      "**Processing war movies...**\n",
      "Test accuracy is 0.9785520441215092\n",
      "**Processing scifi movies...**\n",
      "Test accuracy is 0.9529020397443754\n",
      "**Processing mystery movies...**\n",
      "Test accuracy is 0.9311914558347194\n",
      "**Processing thriller movies...**\n",
      "Test accuracy is 0.8417228398844436\n",
      "**Processing sport movies...**\n",
      "Test accuracy is 0.982316379234877\n",
      "**Processing musical movies...**\n",
      "Test accuracy is 0.9642825877615337\n",
      "**Processing music movies...**\n",
      "Test accuracy is 0.9743499956228662\n",
      "**Processing filmnoir movies...**\n",
      "Test accuracy is 0.9819662085266567\n",
      "**Processing animation movies...**\n",
      "Test accuracy is 0.9879191105664011\n"
     ]
    }
   ],
   "source": [
    "classifier_log = OneVsRestClassifier(LogisticRegression(solver='sag'), n_jobs=-1)\n",
    "\n",
    "for genre in genres:\n",
    "    print('**Processing {} movies...**'.format(genre))\n",
    "    \n",
    "    # Training logistic regression model on train data\n",
    "    classifier_log.fit(X_train, train[genre])\n",
    "    \n",
    "    # calculating test accuracy\n",
    "    prediction = classifier_log.predict(X_test)\n",
    "    print('Test accuracy is {}'.format(accuracy_score(test[genre], prediction)))"
   ]
  },
  {
   "cell_type": "code",
   "execution_count": 15,
   "metadata": {},
   "outputs": [],
   "source": [
    "classifier_log2 = OneVsRestClassifier(LogisticRegression(solver='sag'), n_jobs=-1)"
   ]
  },
  {
   "cell_type": "code",
   "execution_count": 16,
   "metadata": {},
   "outputs": [
    {
     "data": {
      "text/plain": [
       "OneVsRestClassifier(estimator=LogisticRegression(solver='sag'), n_jobs=-1)"
      ]
     },
     "execution_count": 16,
     "metadata": {},
     "output_type": "execute_result"
    }
   ],
   "source": [
    "classifier_log2.fit(X_train, y_train)"
   ]
  },
  {
   "cell_type": "code",
   "execution_count": 17,
   "metadata": {},
   "outputs": [],
   "source": [
    "predictions = classifier_log2.predict(X_test)"
   ]
  },
  {
   "cell_type": "code",
   "execution_count": 18,
   "metadata": {},
   "outputs": [
    {
     "name": "stdout",
     "output_type": "stream",
     "text": [
      "Accuracy =  0.1271995097610085\n",
      "\n",
      "\n"
     ]
    }
   ],
   "source": [
    "print(\"Accuracy = \",accuracy_score(y_test,predictions))\n",
    "print(\"\\n\")"
   ]
  },
  {
   "cell_type": "code",
   "execution_count": 38,
   "metadata": {},
   "outputs": [
    {
     "name": "stdout",
     "output_type": "stream",
     "text": [
      "              precision    recall  f1-score   support\n",
      "\n",
      "     romance       0.64      0.21      0.32      2214\n",
      "       drama       0.65      0.73      0.69      5757\n",
      "     history       1.00      0.00      0.00       179\n",
      "   biography       0.82      0.03      0.06       272\n",
      "       crime       0.65      0.23      0.33      1656\n",
      "      horror       0.81      0.32      0.46      1611\n",
      "     western       0.88      0.02      0.04       354\n",
      "     fantasy       1.00      0.00      0.00       434\n",
      "      comedy       0.71      0.35      0.47      3940\n",
      "      family       0.50      0.00      0.00       543\n",
      "   adventure       0.91      0.03      0.06      1017\n",
      "      action       0.71      0.16      0.26      1977\n",
      "         war       0.47      0.11      0.18       242\n",
      "       scifi       0.88      0.11      0.19       593\n",
      "     mystery       0.45      0.03      0.06       781\n",
      "    thriller       0.52      0.06      0.10      1816\n",
      "       sport       1.00      0.00      0.01       203\n",
      "     musical       1.00      0.00      0.00       408\n",
      "       music       1.00      0.00      0.00       293\n",
      "    filmnoir       1.00      0.00      0.00       206\n",
      "   animation       1.00      0.00      0.00       138\n",
      "\n",
      "   micro avg       0.67      0.31      0.42     24634\n",
      "   macro avg       0.79      0.11      0.15     24634\n",
      "weighted avg       0.70      0.31      0.36     24634\n",
      " samples avg       0.76      0.35      0.39     24634\n",
      "\n"
     ]
    }
   ],
   "source": [
    "# calculating test accuracy\n",
    "\n",
    "print(classification_report(y_test, predictions, target_names=genres, zero_division=1))"
   ]
  },
  {
   "cell_type": "code",
   "execution_count": 40,
   "metadata": {},
   "outputs": [],
   "source": [
    "from skmultilearn.problem_transform import ClassifierChain"
   ]
  },
  {
   "cell_type": "code",
   "execution_count": null,
   "metadata": {},
   "outputs": [],
   "source": [
    "classifier2 = ClassifierChain(LogisticRegression())\n",
    "\n",
    "# Training logistic regression model on train data\n",
    "classifier2.fit(X_train, y_train)\n",
    "\n",
    "# predict\n",
    "predictions = classifier.predict(X_test)\n",
    "\n",
    "# accuracy\n",
    "print(\"Accuracy = \",accuracy_score(y_test,predictions))\n",
    "print(\"\\n\")"
   ]
  },
  {
   "cell_type": "code",
   "execution_count": null,
   "metadata": {},
   "outputs": [],
   "source": [
    "print(classification_report(y_test, predictions, target_names=genres, zero_division=1))"
   ]
  }
 ],
 "metadata": {
  "kernelspec": {
   "display_name": "Python 3",
   "language": "python",
   "name": "python3"
  },
  "language_info": {
   "codemirror_mode": {
    "name": "ipython",
    "version": 3
   },
   "file_extension": ".py",
   "mimetype": "text/x-python",
   "name": "python",
   "nbconvert_exporter": "python",
   "pygments_lexer": "ipython3",
   "version": "3.7.9"
  }
 },
 "nbformat": 4,
 "nbformat_minor": 4
}
